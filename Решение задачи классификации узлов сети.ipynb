{
 "cells": [
  {
   "cell_type": "markdown",
   "id": "4912c174-df78-4e08-933b-cb1663f2da6d",
   "metadata": {
    "id": "4912c174-df78-4e08-933b-cb1663f2da6d"
   },
   "source": [
    "# Сравнение решений задачи классификации узлов сети с использованием различных методов векторных представлений узлов"
   ]
  },
  {
   "cell_type": "markdown",
   "id": "rgnc_kUzvarY",
   "metadata": {
    "id": "rgnc_kUzvarY"
   },
   "source": [
    "**Содержание:**\n",
    "\n",
    "\n",
    "1.   Введение\n",
    "2.   Основная часть\\\n",
    "    2.1.   Работа с данными\\\n",
    "    2.2.   Векторные представления узлов\n",
    "          2.2.1     Матричное разложение\n",
    "          2.2.2     Случайные блуждания\n",
    "    2.3.   Классификация узлов\n",
    "          2.3.1     Методы машинного обучения\n",
    "          2.3.2     Нейронная сеть\n",
    "3.   Заключение\n",
    "\n"
   ]
  },
  {
   "cell_type": "markdown",
   "id": "Wbv2s_gGxTUk",
   "metadata": {
    "id": "Wbv2s_gGxTUk"
   },
   "source": [
    "## **1. Введение**"
   ]
  },
  {
   "cell_type": "markdown",
   "id": "4x4Ko7oJemcA",
   "metadata": {
    "id": "4x4Ko7oJemcA"
   },
   "source": [
    "В данной работе рассматривается решение задачи классификации узлов с применением различных методов векторных представлений узлов. Классификация узлов графа является важным инструментом анализа и обработки графовых данных. Такая задача может встретиться в различных областях, например, в работе с социальными сетями или рекомендательными системами. Она состоит в присвоении меток узлам на графе на основе свойств узлов и взаимосвязей между ними.\n",
    "\n",
    "Для успешного решения задачи классификации часто используются методы векторных представлений узлов, которые позволяют представить узлы в виде векторов, что может быть использовано при применении алгоритмов машинного обучения.\n",
    "\n",
    "В исследовании будут применяться различные методы веторных представлений, а также несколько алгоритмов классификации узлов сети. По итогам экспериментального сравнения можно будет сделать выводы о том, какие методы и почему лучше решают поставленную задачу лучше или хуже.\n",
    "\n",
    "В качестве данных для работы был выбран следующий набор:\n",
    "\n",
    "Сеть из 100 тысяч пользователей, из которых около 5 тысяч были помечены как высказывающие ненависть пользователи или нет.\n",
    "Также для каждого пользователя были предоставлены несколько актрибутов, связанных с их активностью в социальной сети. Ребра графа являются ретвитами пользователей, поэтому представленный граф является направленным.\n",
    "\n",
    "Таким образом, классификация будет заключаться в нахождении пользователей, разжигающих ненависть - юинарная классификация\n"
   ]
  },
  {
   "cell_type": "markdown",
   "id": "0meOMOYvmgAW",
   "metadata": {
    "id": "0meOMOYvmgAW"
   },
   "source": [
    "**Задачи:**\n",
    "\n",
    "\n",
    "1.   Получить набор данных, готовый к применению\n",
    "2.   Создать векторные представления узлов различными методами\n",
    "3.   Провести классификацию узлов\n",
    "4.   Сделать выводы о примененных методах\n",
    "\n"
   ]
  },
  {
   "cell_type": "markdown",
   "id": "XwGVkBzx6k7S",
   "metadata": {
    "id": "XwGVkBzx6k7S"
   },
   "source": [
    "## install"
   ]
  },
  {
   "cell_type": "code",
   "execution_count": 1,
   "id": "gRI_v-_AiRcX",
   "metadata": {
    "colab": {
     "base_uri": "https://localhost:8080/"
    },
    "collapsed": true,
    "id": "gRI_v-_AiRcX",
    "jupyter": {
     "outputs_hidden": true
    },
    "outputId": "1d350d66-c381-4e2f-ccb7-74732ebd80ac"
   },
   "outputs": [
    {
     "name": "stdout",
     "output_type": "stream",
     "text": [
      "Requirement already satisfied: node2vec in /usr/local/lib/python3.10/dist-packages (0.4.6)\n",
      "Requirement already satisfied: gensim<5.0.0,>=4.1.2 in /usr/local/lib/python3.10/dist-packages (from node2vec) (4.3.2)\n",
      "Requirement already satisfied: joblib<2.0.0,>=1.1.0 in /usr/local/lib/python3.10/dist-packages (from node2vec) (1.4.2)\n",
      "Requirement already satisfied: networkx<3.0,>=2.5 in /usr/local/lib/python3.10/dist-packages (from node2vec) (2.6.3)\n",
      "Requirement already satisfied: numpy<2.0.0,>=1.19.5 in /usr/local/lib/python3.10/dist-packages (from node2vec) (1.22.4)\n",
      "Requirement already satisfied: tqdm<5.0.0,>=4.55.1 in /usr/local/lib/python3.10/dist-packages (from node2vec) (4.66.4)\n",
      "Requirement already satisfied: scipy>=1.7.0 in /usr/local/lib/python3.10/dist-packages (from gensim<5.0.0,>=4.1.2->node2vec) (1.11.4)\n",
      "Requirement already satisfied: smart-open>=1.8.1 in /usr/local/lib/python3.10/dist-packages (from gensim<5.0.0,>=4.1.2->node2vec) (6.4.0)\n"
     ]
    }
   ],
   "source": [
    "!pip install node2vec"
   ]
  },
  {
   "cell_type": "code",
   "execution_count": 2,
   "id": "cBRBFsY2lPn8",
   "metadata": {
    "colab": {
     "base_uri": "https://localhost:8080/"
    },
    "collapsed": true,
    "id": "cBRBFsY2lPn8",
    "jupyter": {
     "outputs_hidden": true
    },
    "outputId": "93ebe161-cee1-454e-ccad-c2dc8d4e79fa"
   },
   "outputs": [
    {
     "name": "stdout",
     "output_type": "stream",
     "text": [
      "Requirement already satisfied: torch_geometric in /usr/local/lib/python3.10/dist-packages (2.5.3)\n",
      "Requirement already satisfied: tqdm in /usr/local/lib/python3.10/dist-packages (from torch_geometric) (4.66.4)\n",
      "Requirement already satisfied: numpy in /usr/local/lib/python3.10/dist-packages (from torch_geometric) (1.22.4)\n",
      "Requirement already satisfied: scipy in /usr/local/lib/python3.10/dist-packages (from torch_geometric) (1.11.4)\n",
      "Requirement already satisfied: fsspec in /usr/local/lib/python3.10/dist-packages (from torch_geometric) (2023.6.0)\n",
      "Requirement already satisfied: jinja2 in /usr/local/lib/python3.10/dist-packages (from torch_geometric) (3.1.4)\n",
      "Requirement already satisfied: aiohttp in /usr/local/lib/python3.10/dist-packages (from torch_geometric) (3.9.5)\n",
      "Requirement already satisfied: requests in /usr/local/lib/python3.10/dist-packages (from torch_geometric) (2.31.0)\n",
      "Requirement already satisfied: pyparsing in /usr/local/lib/python3.10/dist-packages (from torch_geometric) (3.1.2)\n",
      "Requirement already satisfied: scikit-learn in /usr/local/lib/python3.10/dist-packages (from torch_geometric) (1.2.2)\n",
      "Requirement already satisfied: psutil>=5.8.0 in /usr/local/lib/python3.10/dist-packages (from torch_geometric) (5.9.5)\n",
      "Requirement already satisfied: aiosignal>=1.1.2 in /usr/local/lib/python3.10/dist-packages (from aiohttp->torch_geometric) (1.3.1)\n",
      "Requirement already satisfied: attrs>=17.3.0 in /usr/local/lib/python3.10/dist-packages (from aiohttp->torch_geometric) (23.2.0)\n",
      "Requirement already satisfied: frozenlist>=1.1.1 in /usr/local/lib/python3.10/dist-packages (from aiohttp->torch_geometric) (1.4.1)\n",
      "Requirement already satisfied: multidict<7.0,>=4.5 in /usr/local/lib/python3.10/dist-packages (from aiohttp->torch_geometric) (6.0.5)\n",
      "Requirement already satisfied: yarl<2.0,>=1.0 in /usr/local/lib/python3.10/dist-packages (from aiohttp->torch_geometric) (1.9.4)\n",
      "Requirement already satisfied: async-timeout<5.0,>=4.0 in /usr/local/lib/python3.10/dist-packages (from aiohttp->torch_geometric) (4.0.3)\n",
      "Requirement already satisfied: MarkupSafe>=2.0 in /usr/local/lib/python3.10/dist-packages (from jinja2->torch_geometric) (2.1.5)\n",
      "Requirement already satisfied: charset-normalizer<4,>=2 in /usr/local/lib/python3.10/dist-packages (from requests->torch_geometric) (3.3.2)\n",
      "Requirement already satisfied: idna<4,>=2.5 in /usr/local/lib/python3.10/dist-packages (from requests->torch_geometric) (3.7)\n",
      "Requirement already satisfied: urllib3<3,>=1.21.1 in /usr/local/lib/python3.10/dist-packages (from requests->torch_geometric) (2.0.7)\n",
      "Requirement already satisfied: certifi>=2017.4.17 in /usr/local/lib/python3.10/dist-packages (from requests->torch_geometric) (2024.2.2)\n",
      "Requirement already satisfied: joblib>=1.1.1 in /usr/local/lib/python3.10/dist-packages (from scikit-learn->torch_geometric) (1.4.2)\n",
      "Requirement already satisfied: threadpoolctl>=2.0.0 in /usr/local/lib/python3.10/dist-packages (from scikit-learn->torch_geometric) (3.5.0)\n"
     ]
    }
   ],
   "source": [
    "!pip install torch_geometric"
   ]
  },
  {
   "cell_type": "code",
   "execution_count": 3,
   "id": "d46wE0t55czS",
   "metadata": {
    "colab": {
     "base_uri": "https://localhost:8080/"
    },
    "collapsed": true,
    "id": "d46wE0t55czS",
    "jupyter": {
     "outputs_hidden": true
    },
    "outputId": "12c5ce61-87c4-4dc6-8419-c09c27821f15"
   },
   "outputs": [
    {
     "name": "stdout",
     "output_type": "stream",
     "text": [
      "Requirement already satisfied: karateclub in /usr/local/lib/python3.10/dist-packages (1.3.3)\n",
      "Requirement already satisfied: numpy<1.23.0 in /usr/local/lib/python3.10/dist-packages (from karateclub) (1.22.4)\n",
      "Requirement already satisfied: networkx<2.7 in /usr/local/lib/python3.10/dist-packages (from karateclub) (2.6.3)\n",
      "Requirement already satisfied: decorator==4.4.2 in /usr/local/lib/python3.10/dist-packages (from karateclub) (4.4.2)\n",
      "Requirement already satisfied: tqdm in /usr/local/lib/python3.10/dist-packages (from karateclub) (4.66.4)\n",
      "Requirement already satisfied: python-louvain in /usr/local/lib/python3.10/dist-packages (from karateclub) (0.16)\n",
      "Requirement already satisfied: scikit-learn in /usr/local/lib/python3.10/dist-packages (from karateclub) (1.2.2)\n",
      "Requirement already satisfied: scipy in /usr/local/lib/python3.10/dist-packages (from karateclub) (1.11.4)\n",
      "Requirement already satisfied: pygsp in /usr/local/lib/python3.10/dist-packages (from karateclub) (0.5.1)\n",
      "Requirement already satisfied: gensim>=4.0.0 in /usr/local/lib/python3.10/dist-packages (from karateclub) (4.3.2)\n",
      "Requirement already satisfied: pandas<=1.3.5 in /usr/local/lib/python3.10/dist-packages (from karateclub) (1.3.5)\n",
      "Requirement already satisfied: six in /usr/local/lib/python3.10/dist-packages (from karateclub) (1.16.0)\n",
      "Requirement already satisfied: python-Levenshtein in /usr/local/lib/python3.10/dist-packages (from karateclub) (0.25.1)\n",
      "Requirement already satisfied: smart-open>=1.8.1 in /usr/local/lib/python3.10/dist-packages (from gensim>=4.0.0->karateclub) (6.4.0)\n",
      "Requirement already satisfied: python-dateutil>=2.7.3 in /usr/local/lib/python3.10/dist-packages (from pandas<=1.3.5->karateclub) (2.8.2)\n",
      "Requirement already satisfied: pytz>=2017.3 in /usr/local/lib/python3.10/dist-packages (from pandas<=1.3.5->karateclub) (2023.4)\n",
      "Requirement already satisfied: Levenshtein==0.25.1 in /usr/local/lib/python3.10/dist-packages (from python-Levenshtein->karateclub) (0.25.1)\n",
      "Requirement already satisfied: rapidfuzz<4.0.0,>=3.8.0 in /usr/local/lib/python3.10/dist-packages (from Levenshtein==0.25.1->python-Levenshtein->karateclub) (3.9.2)\n",
      "Requirement already satisfied: joblib>=1.1.1 in /usr/local/lib/python3.10/dist-packages (from scikit-learn->karateclub) (1.4.2)\n",
      "Requirement already satisfied: threadpoolctl>=2.0.0 in /usr/local/lib/python3.10/dist-packages (from scikit-learn->karateclub) (3.5.0)\n"
     ]
    }
   ],
   "source": [
    "!pip install karateclub"
   ]
  },
  {
   "cell_type": "markdown",
   "id": "kvFsE_wqxt9G",
   "metadata": {
    "id": "kvFsE_wqxt9G"
   },
   "source": [
    "## **2. Основная часть**"
   ]
  },
  {
   "cell_type": "code",
   "execution_count": 4,
   "id": "d33862f6-f6aa-4801-bc13-3a09e1b13c19",
   "metadata": {
    "id": "d33862f6-f6aa-4801-bc13-3a09e1b13c19"
   },
   "outputs": [],
   "source": [
    "import networkx as nx\n",
    "import pandas as pd\n",
    "import numpy as np\n",
    "from sklearn.decomposition import TruncatedSVD\n",
    "from node2vec import Node2Vec\n",
    "from karateclub.node_embedding.neighbourhood import GraRep, HOPE, DeepWalk\n",
    "import random\n",
    "from scipy.sparse import coo_matrix\n",
    "from karateclub.node_embedding.attributed import SINE\n",
    "import seaborn as sns\n",
    "import matplotlib.pyplot as plt\n",
    "from sklearn.model_selection import train_test_split\n",
    "from sklearn.metrics import classification_report, f1_score\n",
    "from sklearn import svm\n",
    "from sklearn.ensemble import RandomForestClassifier\n",
    "from sklearn.utils.class_weight import compute_class_weight\n",
    "import torch\n",
    "import torch.nn as nn\n",
    "import torch.nn.functional as F\n",
    "import torch.optim as optim\n",
    "from torch_geometric.nn import GCNConv\n",
    "from torch_geometric.data import Data"
   ]
  },
  {
   "cell_type": "markdown",
   "id": "_puUKuEm6otM",
   "metadata": {
    "id": "_puUKuEm6otM"
   },
   "source": [
    "## **2.1. Работа с данными**"
   ]
  },
  {
   "cell_type": "code",
   "execution_count": 5,
   "id": "D1R6JFdmEgDF",
   "metadata": {
    "colab": {
     "base_uri": "https://localhost:8080/"
    },
    "id": "D1R6JFdmEgDF",
    "outputId": "9de378cc-26b7-452b-9f9c-4692cecc7334"
   },
   "outputs": [
    {
     "name": "stdout",
     "output_type": "stream",
     "text": [
      "Drive already mounted at /content/drive; to attempt to forcibly remount, call drive.mount(\"/content/drive\", force_remount=True).\n"
     ]
    }
   ],
   "source": [
    "from google.colab import drive\n",
    "drive.mount('/content/drive')"
   ]
  },
  {
   "cell_type": "code",
   "execution_count": 6,
   "id": "99e46661-50fa-408d-a8d0-c080a8f6d650",
   "metadata": {
    "id": "99e46661-50fa-408d-a8d0-c080a8f6d650"
   },
   "outputs": [],
   "source": [
    "G0 = nx.read_edgelist('drive/MyDrive/users.edges', create_using = nx.DiGraph())\n",
    "df0 = pd.read_csv('drive/MyDrive/users_neighborhood_anon.csv')\n",
    "#df0.head()"
   ]
  },
  {
   "cell_type": "markdown",
   "id": "c4d1d68d-1390-4cbd-868a-101a99aed476",
   "metadata": {
    "id": "c4d1d68d-1390-4cbd-868a-101a99aed476"
   },
   "source": [
    "Для классификации оставим только узлы, имеющие пометку."
   ]
  },
  {
   "cell_type": "code",
   "execution_count": 7,
   "id": "d6cb4124-e446-465a-8b57-a8d037919ad2",
   "metadata": {
    "colab": {
     "base_uri": "https://localhost:8080/",
     "height": 443
    },
    "id": "d6cb4124-e446-465a-8b57-a8d037919ad2",
    "outputId": "c1381b94-488d-4891-b34c-f74239668685"
   },
   "outputs": [
    {
     "data": {
      "application/vnd.google.colaboratory.intrinsic+json": {
       "type": "dataframe",
       "variable_name": "df"
      },
      "text/html": [
       "\n",
       "  <div id=\"df-0aacc364-269c-422f-9bd8-018fcc0f356b\" class=\"colab-df-container\">\n",
       "    <div>\n",
       "<style scoped>\n",
       "    .dataframe tbody tr th:only-of-type {\n",
       "        vertical-align: middle;\n",
       "    }\n",
       "\n",
       "    .dataframe tbody tr th {\n",
       "        vertical-align: top;\n",
       "    }\n",
       "\n",
       "    .dataframe thead th {\n",
       "        text-align: right;\n",
       "    }\n",
       "</style>\n",
       "<table border=\"1\" class=\"dataframe\">\n",
       "  <thead>\n",
       "    <tr style=\"text-align: right;\">\n",
       "      <th></th>\n",
       "      <th>user_id</th>\n",
       "      <th>hate</th>\n",
       "      <th>hate_neigh</th>\n",
       "      <th>normal_neigh</th>\n",
       "      <th>statuses_count</th>\n",
       "      <th>followers_count</th>\n",
       "      <th>followees_count</th>\n",
       "      <th>favorites_count</th>\n",
       "      <th>listed_count</th>\n",
       "      <th>betweenness</th>\n",
       "      <th>...</th>\n",
       "      <th>c_feminine_empath</th>\n",
       "      <th>c_medieval_empath</th>\n",
       "      <th>c_journalism_empath</th>\n",
       "      <th>c_farming_empath</th>\n",
       "      <th>c_plant_empath</th>\n",
       "      <th>c_shopping_empath</th>\n",
       "      <th>c_ship_empath</th>\n",
       "      <th>c_religion_empath</th>\n",
       "      <th>c_tourism_empath</th>\n",
       "      <th>c_power_empath</th>\n",
       "    </tr>\n",
       "  </thead>\n",
       "  <tbody>\n",
       "    <tr>\n",
       "      <th>0</th>\n",
       "      <td>0</td>\n",
       "      <td>normal</td>\n",
       "      <td>True</td>\n",
       "      <td>True</td>\n",
       "      <td>101767</td>\n",
       "      <td>3504</td>\n",
       "      <td>3673</td>\n",
       "      <td>81635</td>\n",
       "      <td>53</td>\n",
       "      <td>100467.895084</td>\n",
       "      <td>...</td>\n",
       "      <td>0.001380</td>\n",
       "      <td>0.003288</td>\n",
       "      <td>0.000255</td>\n",
       "      <td>0.002189</td>\n",
       "      <td>0.000593</td>\n",
       "      <td>0.003689</td>\n",
       "      <td>0.003559</td>\n",
       "      <td>0.001634</td>\n",
       "      <td>0.002662</td>\n",
       "      <td>0.007487</td>\n",
       "    </tr>\n",
       "    <tr>\n",
       "      <th>1</th>\n",
       "      <td>22</td>\n",
       "      <td>normal</td>\n",
       "      <td>False</td>\n",
       "      <td>True</td>\n",
       "      <td>111948</td>\n",
       "      <td>1586</td>\n",
       "      <td>997</td>\n",
       "      <td>80</td>\n",
       "      <td>7</td>\n",
       "      <td>960.147859</td>\n",
       "      <td>...</td>\n",
       "      <td>0.000548</td>\n",
       "      <td>0.000843</td>\n",
       "      <td>0.000200</td>\n",
       "      <td>0.001571</td>\n",
       "      <td>0.000467</td>\n",
       "      <td>0.005263</td>\n",
       "      <td>0.005594</td>\n",
       "      <td>0.000768</td>\n",
       "      <td>0.000973</td>\n",
       "      <td>0.011163</td>\n",
       "    </tr>\n",
       "    <tr>\n",
       "      <th>2</th>\n",
       "      <td>29</td>\n",
       "      <td>normal</td>\n",
       "      <td>False</td>\n",
       "      <td>True</td>\n",
       "      <td>28222</td>\n",
       "      <td>27545</td>\n",
       "      <td>282</td>\n",
       "      <td>916</td>\n",
       "      <td>499</td>\n",
       "      <td>60445.401832</td>\n",
       "      <td>...</td>\n",
       "      <td>0.001415</td>\n",
       "      <td>0.003107</td>\n",
       "      <td>0.000237</td>\n",
       "      <td>0.001487</td>\n",
       "      <td>0.001058</td>\n",
       "      <td>0.004290</td>\n",
       "      <td>0.008465</td>\n",
       "      <td>0.001763</td>\n",
       "      <td>0.003203</td>\n",
       "      <td>0.007599</td>\n",
       "    </tr>\n",
       "    <tr>\n",
       "      <th>3</th>\n",
       "      <td>44</td>\n",
       "      <td>normal</td>\n",
       "      <td>False</td>\n",
       "      <td>True</td>\n",
       "      <td>3101</td>\n",
       "      <td>2173</td>\n",
       "      <td>923</td>\n",
       "      <td>1193</td>\n",
       "      <td>11</td>\n",
       "      <td>21158.812380</td>\n",
       "      <td>...</td>\n",
       "      <td>0.000436</td>\n",
       "      <td>0.007613</td>\n",
       "      <td>0.000425</td>\n",
       "      <td>0.001987</td>\n",
       "      <td>0.000355</td>\n",
       "      <td>0.001157</td>\n",
       "      <td>0.010131</td>\n",
       "      <td>0.003298</td>\n",
       "      <td>0.001899</td>\n",
       "      <td>0.002811</td>\n",
       "    </tr>\n",
       "    <tr>\n",
       "      <th>4</th>\n",
       "      <td>85</td>\n",
       "      <td>normal</td>\n",
       "      <td>False</td>\n",
       "      <td>True</td>\n",
       "      <td>49169</td>\n",
       "      <td>2321</td>\n",
       "      <td>206</td>\n",
       "      <td>24755</td>\n",
       "      <td>37</td>\n",
       "      <td>4926.513875</td>\n",
       "      <td>...</td>\n",
       "      <td>0.000905</td>\n",
       "      <td>0.008520</td>\n",
       "      <td>0.000000</td>\n",
       "      <td>0.003538</td>\n",
       "      <td>0.000412</td>\n",
       "      <td>0.003487</td>\n",
       "      <td>0.004577</td>\n",
       "      <td>0.003098</td>\n",
       "      <td>0.003364</td>\n",
       "      <td>0.005171</td>\n",
       "    </tr>\n",
       "    <tr>\n",
       "      <th>...</th>\n",
       "      <td>...</td>\n",
       "      <td>...</td>\n",
       "      <td>...</td>\n",
       "      <td>...</td>\n",
       "      <td>...</td>\n",
       "      <td>...</td>\n",
       "      <td>...</td>\n",
       "      <td>...</td>\n",
       "      <td>...</td>\n",
       "      <td>...</td>\n",
       "      <td>...</td>\n",
       "      <td>...</td>\n",
       "      <td>...</td>\n",
       "      <td>...</td>\n",
       "      <td>...</td>\n",
       "      <td>...</td>\n",
       "      <td>...</td>\n",
       "      <td>...</td>\n",
       "      <td>...</td>\n",
       "      <td>...</td>\n",
       "      <td>...</td>\n",
       "    </tr>\n",
       "    <tr>\n",
       "      <th>4966</th>\n",
       "      <td>100332</td>\n",
       "      <td>normal</td>\n",
       "      <td>False</td>\n",
       "      <td>True</td>\n",
       "      <td>104905</td>\n",
       "      <td>3700</td>\n",
       "      <td>65</td>\n",
       "      <td>266</td>\n",
       "      <td>64</td>\n",
       "      <td>3387.440356</td>\n",
       "      <td>...</td>\n",
       "      <td>NaN</td>\n",
       "      <td>NaN</td>\n",
       "      <td>NaN</td>\n",
       "      <td>NaN</td>\n",
       "      <td>NaN</td>\n",
       "      <td>NaN</td>\n",
       "      <td>NaN</td>\n",
       "      <td>NaN</td>\n",
       "      <td>NaN</td>\n",
       "      <td>NaN</td>\n",
       "    </tr>\n",
       "    <tr>\n",
       "      <th>4967</th>\n",
       "      <td>100338</td>\n",
       "      <td>normal</td>\n",
       "      <td>False</td>\n",
       "      <td>True</td>\n",
       "      <td>5607</td>\n",
       "      <td>676</td>\n",
       "      <td>444</td>\n",
       "      <td>2664</td>\n",
       "      <td>24</td>\n",
       "      <td>16388.187011</td>\n",
       "      <td>...</td>\n",
       "      <td>0.000785</td>\n",
       "      <td>0.003694</td>\n",
       "      <td>0.000287</td>\n",
       "      <td>0.001985</td>\n",
       "      <td>0.001189</td>\n",
       "      <td>0.002902</td>\n",
       "      <td>0.007812</td>\n",
       "      <td>0.002805</td>\n",
       "      <td>0.002117</td>\n",
       "      <td>0.005742</td>\n",
       "    </tr>\n",
       "    <tr>\n",
       "      <th>4968</th>\n",
       "      <td>100362</td>\n",
       "      <td>normal</td>\n",
       "      <td>False</td>\n",
       "      <td>True</td>\n",
       "      <td>34</td>\n",
       "      <td>7534</td>\n",
       "      <td>527</td>\n",
       "      <td>1393</td>\n",
       "      <td>298</td>\n",
       "      <td>9278.713536</td>\n",
       "      <td>...</td>\n",
       "      <td>0.002501</td>\n",
       "      <td>0.014842</td>\n",
       "      <td>0.000787</td>\n",
       "      <td>0.001112</td>\n",
       "      <td>0.000443</td>\n",
       "      <td>0.004597</td>\n",
       "      <td>0.003462</td>\n",
       "      <td>0.003837</td>\n",
       "      <td>0.004023</td>\n",
       "      <td>0.011311</td>\n",
       "    </tr>\n",
       "    <tr>\n",
       "      <th>4969</th>\n",
       "      <td>100380</td>\n",
       "      <td>hateful</td>\n",
       "      <td>True</td>\n",
       "      <td>True</td>\n",
       "      <td>14608</td>\n",
       "      <td>49583</td>\n",
       "      <td>615</td>\n",
       "      <td>5373</td>\n",
       "      <td>927</td>\n",
       "      <td>153084.227764</td>\n",
       "      <td>...</td>\n",
       "      <td>0.000725</td>\n",
       "      <td>0.003434</td>\n",
       "      <td>0.000499</td>\n",
       "      <td>0.002734</td>\n",
       "      <td>0.000622</td>\n",
       "      <td>0.003903</td>\n",
       "      <td>0.005755</td>\n",
       "      <td>0.002673</td>\n",
       "      <td>0.002098</td>\n",
       "      <td>0.005707</td>\n",
       "    </tr>\n",
       "    <tr>\n",
       "      <th>4970</th>\n",
       "      <td>100385</td>\n",
       "      <td>normal</td>\n",
       "      <td>False</td>\n",
       "      <td>True</td>\n",
       "      <td>6868</td>\n",
       "      <td>433</td>\n",
       "      <td>114</td>\n",
       "      <td>6488</td>\n",
       "      <td>0</td>\n",
       "      <td>6634.902953</td>\n",
       "      <td>...</td>\n",
       "      <td>0.000183</td>\n",
       "      <td>0.003698</td>\n",
       "      <td>0.000810</td>\n",
       "      <td>0.001279</td>\n",
       "      <td>0.000436</td>\n",
       "      <td>0.001004</td>\n",
       "      <td>0.006799</td>\n",
       "      <td>0.001359</td>\n",
       "      <td>0.000732</td>\n",
       "      <td>0.001650</td>\n",
       "    </tr>\n",
       "  </tbody>\n",
       "</table>\n",
       "<p>4971 rows × 1039 columns</p>\n",
       "</div>\n",
       "    <div class=\"colab-df-buttons\">\n",
       "\n",
       "  <div class=\"colab-df-container\">\n",
       "    <button class=\"colab-df-convert\" onclick=\"convertToInteractive('df-0aacc364-269c-422f-9bd8-018fcc0f356b')\"\n",
       "            title=\"Convert this dataframe to an interactive table.\"\n",
       "            style=\"display:none;\">\n",
       "\n",
       "  <svg xmlns=\"http://www.w3.org/2000/svg\" height=\"24px\" viewBox=\"0 -960 960 960\">\n",
       "    <path d=\"M120-120v-720h720v720H120Zm60-500h600v-160H180v160Zm220 220h160v-160H400v160Zm0 220h160v-160H400v160ZM180-400h160v-160H180v160Zm440 0h160v-160H620v160ZM180-180h160v-160H180v160Zm440 0h160v-160H620v160Z\"/>\n",
       "  </svg>\n",
       "    </button>\n",
       "\n",
       "  <style>\n",
       "    .colab-df-container {\n",
       "      display:flex;\n",
       "      gap: 12px;\n",
       "    }\n",
       "\n",
       "    .colab-df-convert {\n",
       "      background-color: #E8F0FE;\n",
       "      border: none;\n",
       "      border-radius: 50%;\n",
       "      cursor: pointer;\n",
       "      display: none;\n",
       "      fill: #1967D2;\n",
       "      height: 32px;\n",
       "      padding: 0 0 0 0;\n",
       "      width: 32px;\n",
       "    }\n",
       "\n",
       "    .colab-df-convert:hover {\n",
       "      background-color: #E2EBFA;\n",
       "      box-shadow: 0px 1px 2px rgba(60, 64, 67, 0.3), 0px 1px 3px 1px rgba(60, 64, 67, 0.15);\n",
       "      fill: #174EA6;\n",
       "    }\n",
       "\n",
       "    .colab-df-buttons div {\n",
       "      margin-bottom: 4px;\n",
       "    }\n",
       "\n",
       "    [theme=dark] .colab-df-convert {\n",
       "      background-color: #3B4455;\n",
       "      fill: #D2E3FC;\n",
       "    }\n",
       "\n",
       "    [theme=dark] .colab-df-convert:hover {\n",
       "      background-color: #434B5C;\n",
       "      box-shadow: 0px 1px 3px 1px rgba(0, 0, 0, 0.15);\n",
       "      filter: drop-shadow(0px 1px 2px rgba(0, 0, 0, 0.3));\n",
       "      fill: #FFFFFF;\n",
       "    }\n",
       "  </style>\n",
       "\n",
       "    <script>\n",
       "      const buttonEl =\n",
       "        document.querySelector('#df-0aacc364-269c-422f-9bd8-018fcc0f356b button.colab-df-convert');\n",
       "      buttonEl.style.display =\n",
       "        google.colab.kernel.accessAllowed ? 'block' : 'none';\n",
       "\n",
       "      async function convertToInteractive(key) {\n",
       "        const element = document.querySelector('#df-0aacc364-269c-422f-9bd8-018fcc0f356b');\n",
       "        const dataTable =\n",
       "          await google.colab.kernel.invokeFunction('convertToInteractive',\n",
       "                                                    [key], {});\n",
       "        if (!dataTable) return;\n",
       "\n",
       "        const docLinkHtml = 'Like what you see? Visit the ' +\n",
       "          '<a target=\"_blank\" href=https://colab.research.google.com/notebooks/data_table.ipynb>data table notebook</a>'\n",
       "          + ' to learn more about interactive tables.';\n",
       "        element.innerHTML = '';\n",
       "        dataTable['output_type'] = 'display_data';\n",
       "        await google.colab.output.renderOutput(dataTable, element);\n",
       "        const docLink = document.createElement('div');\n",
       "        docLink.innerHTML = docLinkHtml;\n",
       "        element.appendChild(docLink);\n",
       "      }\n",
       "    </script>\n",
       "  </div>\n",
       "\n",
       "\n",
       "<div id=\"df-49505112-6a9f-40f3-ac60-c84dc2fb1e95\">\n",
       "  <button class=\"colab-df-quickchart\" onclick=\"quickchart('df-49505112-6a9f-40f3-ac60-c84dc2fb1e95')\"\n",
       "            title=\"Suggest charts\"\n",
       "            style=\"display:none;\">\n",
       "\n",
       "<svg xmlns=\"http://www.w3.org/2000/svg\" height=\"24px\"viewBox=\"0 0 24 24\"\n",
       "     width=\"24px\">\n",
       "    <g>\n",
       "        <path d=\"M19 3H5c-1.1 0-2 .9-2 2v14c0 1.1.9 2 2 2h14c1.1 0 2-.9 2-2V5c0-1.1-.9-2-2-2zM9 17H7v-7h2v7zm4 0h-2V7h2v10zm4 0h-2v-4h2v4z\"/>\n",
       "    </g>\n",
       "</svg>\n",
       "  </button>\n",
       "\n",
       "<style>\n",
       "  .colab-df-quickchart {\n",
       "      --bg-color: #E8F0FE;\n",
       "      --fill-color: #1967D2;\n",
       "      --hover-bg-color: #E2EBFA;\n",
       "      --hover-fill-color: #174EA6;\n",
       "      --disabled-fill-color: #AAA;\n",
       "      --disabled-bg-color: #DDD;\n",
       "  }\n",
       "\n",
       "  [theme=dark] .colab-df-quickchart {\n",
       "      --bg-color: #3B4455;\n",
       "      --fill-color: #D2E3FC;\n",
       "      --hover-bg-color: #434B5C;\n",
       "      --hover-fill-color: #FFFFFF;\n",
       "      --disabled-bg-color: #3B4455;\n",
       "      --disabled-fill-color: #666;\n",
       "  }\n",
       "\n",
       "  .colab-df-quickchart {\n",
       "    background-color: var(--bg-color);\n",
       "    border: none;\n",
       "    border-radius: 50%;\n",
       "    cursor: pointer;\n",
       "    display: none;\n",
       "    fill: var(--fill-color);\n",
       "    height: 32px;\n",
       "    padding: 0;\n",
       "    width: 32px;\n",
       "  }\n",
       "\n",
       "  .colab-df-quickchart:hover {\n",
       "    background-color: var(--hover-bg-color);\n",
       "    box-shadow: 0 1px 2px rgba(60, 64, 67, 0.3), 0 1px 3px 1px rgba(60, 64, 67, 0.15);\n",
       "    fill: var(--button-hover-fill-color);\n",
       "  }\n",
       "\n",
       "  .colab-df-quickchart-complete:disabled,\n",
       "  .colab-df-quickchart-complete:disabled:hover {\n",
       "    background-color: var(--disabled-bg-color);\n",
       "    fill: var(--disabled-fill-color);\n",
       "    box-shadow: none;\n",
       "  }\n",
       "\n",
       "  .colab-df-spinner {\n",
       "    border: 2px solid var(--fill-color);\n",
       "    border-color: transparent;\n",
       "    border-bottom-color: var(--fill-color);\n",
       "    animation:\n",
       "      spin 1s steps(1) infinite;\n",
       "  }\n",
       "\n",
       "  @keyframes spin {\n",
       "    0% {\n",
       "      border-color: transparent;\n",
       "      border-bottom-color: var(--fill-color);\n",
       "      border-left-color: var(--fill-color);\n",
       "    }\n",
       "    20% {\n",
       "      border-color: transparent;\n",
       "      border-left-color: var(--fill-color);\n",
       "      border-top-color: var(--fill-color);\n",
       "    }\n",
       "    30% {\n",
       "      border-color: transparent;\n",
       "      border-left-color: var(--fill-color);\n",
       "      border-top-color: var(--fill-color);\n",
       "      border-right-color: var(--fill-color);\n",
       "    }\n",
       "    40% {\n",
       "      border-color: transparent;\n",
       "      border-right-color: var(--fill-color);\n",
       "      border-top-color: var(--fill-color);\n",
       "    }\n",
       "    60% {\n",
       "      border-color: transparent;\n",
       "      border-right-color: var(--fill-color);\n",
       "    }\n",
       "    80% {\n",
       "      border-color: transparent;\n",
       "      border-right-color: var(--fill-color);\n",
       "      border-bottom-color: var(--fill-color);\n",
       "    }\n",
       "    90% {\n",
       "      border-color: transparent;\n",
       "      border-bottom-color: var(--fill-color);\n",
       "    }\n",
       "  }\n",
       "</style>\n",
       "\n",
       "  <script>\n",
       "    async function quickchart(key) {\n",
       "      const quickchartButtonEl =\n",
       "        document.querySelector('#' + key + ' button');\n",
       "      quickchartButtonEl.disabled = true;  // To prevent multiple clicks.\n",
       "      quickchartButtonEl.classList.add('colab-df-spinner');\n",
       "      try {\n",
       "        const charts = await google.colab.kernel.invokeFunction(\n",
       "            'suggestCharts', [key], {});\n",
       "      } catch (error) {\n",
       "        console.error('Error during call to suggestCharts:', error);\n",
       "      }\n",
       "      quickchartButtonEl.classList.remove('colab-df-spinner');\n",
       "      quickchartButtonEl.classList.add('colab-df-quickchart-complete');\n",
       "    }\n",
       "    (() => {\n",
       "      let quickchartButtonEl =\n",
       "        document.querySelector('#df-49505112-6a9f-40f3-ac60-c84dc2fb1e95 button');\n",
       "      quickchartButtonEl.style.display =\n",
       "        google.colab.kernel.accessAllowed ? 'block' : 'none';\n",
       "    })();\n",
       "  </script>\n",
       "</div>\n",
       "    </div>\n",
       "  </div>\n"
      ],
      "text/plain": [
       "      user_id     hate  hate_neigh  normal_neigh  statuses_count  \\\n",
       "0           0   normal        True          True          101767   \n",
       "1          22   normal       False          True          111948   \n",
       "2          29   normal       False          True           28222   \n",
       "3          44   normal       False          True            3101   \n",
       "4          85   normal       False          True           49169   \n",
       "...       ...      ...         ...           ...             ...   \n",
       "4966   100332   normal       False          True          104905   \n",
       "4967   100338   normal       False          True            5607   \n",
       "4968   100362   normal       False          True              34   \n",
       "4969   100380  hateful        True          True           14608   \n",
       "4970   100385   normal       False          True            6868   \n",
       "\n",
       "      followers_count  followees_count  favorites_count  listed_count  \\\n",
       "0                3504             3673            81635            53   \n",
       "1                1586              997               80             7   \n",
       "2               27545              282              916           499   \n",
       "3                2173              923             1193            11   \n",
       "4                2321              206            24755            37   \n",
       "...               ...              ...              ...           ...   \n",
       "4966             3700               65              266            64   \n",
       "4967              676              444             2664            24   \n",
       "4968             7534              527             1393           298   \n",
       "4969            49583              615             5373           927   \n",
       "4970              433              114             6488             0   \n",
       "\n",
       "        betweenness  ...  c_feminine_empath  c_medieval_empath  \\\n",
       "0     100467.895084  ...           0.001380           0.003288   \n",
       "1        960.147859  ...           0.000548           0.000843   \n",
       "2      60445.401832  ...           0.001415           0.003107   \n",
       "3      21158.812380  ...           0.000436           0.007613   \n",
       "4       4926.513875  ...           0.000905           0.008520   \n",
       "...             ...  ...                ...                ...   \n",
       "4966    3387.440356  ...                NaN                NaN   \n",
       "4967   16388.187011  ...           0.000785           0.003694   \n",
       "4968    9278.713536  ...           0.002501           0.014842   \n",
       "4969  153084.227764  ...           0.000725           0.003434   \n",
       "4970    6634.902953  ...           0.000183           0.003698   \n",
       "\n",
       "      c_journalism_empath  c_farming_empath  c_plant_empath  \\\n",
       "0                0.000255          0.002189        0.000593   \n",
       "1                0.000200          0.001571        0.000467   \n",
       "2                0.000237          0.001487        0.001058   \n",
       "3                0.000425          0.001987        0.000355   \n",
       "4                0.000000          0.003538        0.000412   \n",
       "...                   ...               ...             ...   \n",
       "4966                  NaN               NaN             NaN   \n",
       "4967             0.000287          0.001985        0.001189   \n",
       "4968             0.000787          0.001112        0.000443   \n",
       "4969             0.000499          0.002734        0.000622   \n",
       "4970             0.000810          0.001279        0.000436   \n",
       "\n",
       "      c_shopping_empath  c_ship_empath  c_religion_empath  c_tourism_empath  \\\n",
       "0              0.003689       0.003559           0.001634          0.002662   \n",
       "1              0.005263       0.005594           0.000768          0.000973   \n",
       "2              0.004290       0.008465           0.001763          0.003203   \n",
       "3              0.001157       0.010131           0.003298          0.001899   \n",
       "4              0.003487       0.004577           0.003098          0.003364   \n",
       "...                 ...            ...                ...               ...   \n",
       "4966                NaN            NaN                NaN               NaN   \n",
       "4967           0.002902       0.007812           0.002805          0.002117   \n",
       "4968           0.004597       0.003462           0.003837          0.004023   \n",
       "4969           0.003903       0.005755           0.002673          0.002098   \n",
       "4970           0.001004       0.006799           0.001359          0.000732   \n",
       "\n",
       "      c_power_empath  \n",
       "0           0.007487  \n",
       "1           0.011163  \n",
       "2           0.007599  \n",
       "3           0.002811  \n",
       "4           0.005171  \n",
       "...              ...  \n",
       "4966             NaN  \n",
       "4967        0.005742  \n",
       "4968        0.011311  \n",
       "4969        0.005707  \n",
       "4970        0.001650  \n",
       "\n",
       "[4971 rows x 1039 columns]"
      ]
     },
     "execution_count": 7,
     "metadata": {},
     "output_type": "execute_result"
    }
   ],
   "source": [
    "df = df0[df0.hate != 'other'].reset_index(drop=True)\n",
    "df"
   ]
  },
  {
   "cell_type": "code",
   "execution_count": 8,
   "id": "4b85bce9-5acd-410f-adfa-16d63dd4d070",
   "metadata": {
    "colab": {
     "base_uri": "https://localhost:8080/",
     "height": 542
    },
    "id": "4b85bce9-5acd-410f-adfa-16d63dd4d070",
    "outputId": "b38e89a6-0348-442b-b7e7-2992011e3c6f"
   },
   "outputs": [
    {
     "name": "stdout",
     "output_type": "stream",
     "text": [
      "normal     4427\n",
      "hateful     544\n",
      "Name: hate, dtype: int64\n"
     ]
    },
    {
     "data": {
      "image/png": "[encoded data removed]",
      "text/plain": [
       "<Figure size 640x480 with 1 Axes>"
      ]
     },
     "metadata": {},
     "output_type": "display_data"
    }
   ],
   "source": [
    "print(df.hate.value_counts())\n",
    "df.hate.value_counts().plot(kind='bar')\n",
    "plt.title('Распределение по классам')\n",
    "plt.show()"
   ]
  },
  {
   "cell_type": "markdown",
   "id": "JivJbpo5nNM-",
   "metadata": {
    "id": "JivJbpo5nNM-"
   },
   "source": [
    "Можно заметить, что классы являются несбалансированными, что может повлиять на дальнейшие результаты классификации, поэтому надо будет учесть это при выборе параметров моделей"
   ]
  },
  {
   "cell_type": "code",
   "execution_count": 9,
   "id": "SOTNniSFzd7y",
   "metadata": {
    "colab": {
     "base_uri": "https://localhost:8080/",
     "height": 443
    },
    "id": "SOTNniSFzd7y",
    "outputId": "d8b0de7f-d501-499e-b3ef-ab1b5e7af8dc"
   },
   "outputs": [
    {
     "data": {
      "application/vnd.google.colaboratory.intrinsic+json": {
       "type": "dataframe",
       "variable_name": "df"
      },
      "text/html": [
       "\n",
       "  <div id=\"df-1b11b229-5d2a-49c8-bfc0-bd9be40fa85d\" class=\"colab-df-container\">\n",
       "    <div>\n",
       "<style scoped>\n",
       "    .dataframe tbody tr th:only-of-type {\n",
       "        vertical-align: middle;\n",
       "    }\n",
       "\n",
       "    .dataframe tbody tr th {\n",
       "        vertical-align: top;\n",
       "    }\n",
       "\n",
       "    .dataframe thead th {\n",
       "        text-align: right;\n",
       "    }\n",
       "</style>\n",
       "<table border=\"1\" class=\"dataframe\">\n",
       "  <thead>\n",
       "    <tr style=\"text-align: right;\">\n",
       "      <th></th>\n",
       "      <th>user_id</th>\n",
       "      <th>hate</th>\n",
       "      <th>hate_neigh</th>\n",
       "      <th>normal_neigh</th>\n",
       "      <th>statuses_count</th>\n",
       "      <th>followers_count</th>\n",
       "      <th>followees_count</th>\n",
       "      <th>favorites_count</th>\n",
       "      <th>listed_count</th>\n",
       "      <th>betweenness</th>\n",
       "      <th>...</th>\n",
       "      <th>c_feminine_empath</th>\n",
       "      <th>c_medieval_empath</th>\n",
       "      <th>c_journalism_empath</th>\n",
       "      <th>c_farming_empath</th>\n",
       "      <th>c_plant_empath</th>\n",
       "      <th>c_shopping_empath</th>\n",
       "      <th>c_ship_empath</th>\n",
       "      <th>c_religion_empath</th>\n",
       "      <th>c_tourism_empath</th>\n",
       "      <th>c_power_empath</th>\n",
       "    </tr>\n",
       "  </thead>\n",
       "  <tbody>\n",
       "    <tr>\n",
       "      <th>0</th>\n",
       "      <td>0</td>\n",
       "      <td>1</td>\n",
       "      <td>True</td>\n",
       "      <td>True</td>\n",
       "      <td>101767</td>\n",
       "      <td>3504</td>\n",
       "      <td>3673</td>\n",
       "      <td>81635</td>\n",
       "      <td>53</td>\n",
       "      <td>100467.895084</td>\n",
       "      <td>...</td>\n",
       "      <td>0.001380</td>\n",
       "      <td>0.003288</td>\n",
       "      <td>0.000255</td>\n",
       "      <td>0.002189</td>\n",
       "      <td>0.000593</td>\n",
       "      <td>0.003689</td>\n",
       "      <td>0.003559</td>\n",
       "      <td>0.001634</td>\n",
       "      <td>0.002662</td>\n",
       "      <td>0.007487</td>\n",
       "    </tr>\n",
       "    <tr>\n",
       "      <th>1</th>\n",
       "      <td>22</td>\n",
       "      <td>1</td>\n",
       "      <td>False</td>\n",
       "      <td>True</td>\n",
       "      <td>111948</td>\n",
       "      <td>1586</td>\n",
       "      <td>997</td>\n",
       "      <td>80</td>\n",
       "      <td>7</td>\n",
       "      <td>960.147859</td>\n",
       "      <td>...</td>\n",
       "      <td>0.000548</td>\n",
       "      <td>0.000843</td>\n",
       "      <td>0.000200</td>\n",
       "      <td>0.001571</td>\n",
       "      <td>0.000467</td>\n",
       "      <td>0.005263</td>\n",
       "      <td>0.005594</td>\n",
       "      <td>0.000768</td>\n",
       "      <td>0.000973</td>\n",
       "      <td>0.011163</td>\n",
       "    </tr>\n",
       "    <tr>\n",
       "      <th>2</th>\n",
       "      <td>29</td>\n",
       "      <td>1</td>\n",
       "      <td>False</td>\n",
       "      <td>True</td>\n",
       "      <td>28222</td>\n",
       "      <td>27545</td>\n",
       "      <td>282</td>\n",
       "      <td>916</td>\n",
       "      <td>499</td>\n",
       "      <td>60445.401832</td>\n",
       "      <td>...</td>\n",
       "      <td>0.001415</td>\n",
       "      <td>0.003107</td>\n",
       "      <td>0.000237</td>\n",
       "      <td>0.001487</td>\n",
       "      <td>0.001058</td>\n",
       "      <td>0.004290</td>\n",
       "      <td>0.008465</td>\n",
       "      <td>0.001763</td>\n",
       "      <td>0.003203</td>\n",
       "      <td>0.007599</td>\n",
       "    </tr>\n",
       "    <tr>\n",
       "      <th>3</th>\n",
       "      <td>44</td>\n",
       "      <td>1</td>\n",
       "      <td>False</td>\n",
       "      <td>True</td>\n",
       "      <td>3101</td>\n",
       "      <td>2173</td>\n",
       "      <td>923</td>\n",
       "      <td>1193</td>\n",
       "      <td>11</td>\n",
       "      <td>21158.812380</td>\n",
       "      <td>...</td>\n",
       "      <td>0.000436</td>\n",
       "      <td>0.007613</td>\n",
       "      <td>0.000425</td>\n",
       "      <td>0.001987</td>\n",
       "      <td>0.000355</td>\n",
       "      <td>0.001157</td>\n",
       "      <td>0.010131</td>\n",
       "      <td>0.003298</td>\n",
       "      <td>0.001899</td>\n",
       "      <td>0.002811</td>\n",
       "    </tr>\n",
       "    <tr>\n",
       "      <th>4</th>\n",
       "      <td>85</td>\n",
       "      <td>1</td>\n",
       "      <td>False</td>\n",
       "      <td>True</td>\n",
       "      <td>49169</td>\n",
       "      <td>2321</td>\n",
       "      <td>206</td>\n",
       "      <td>24755</td>\n",
       "      <td>37</td>\n",
       "      <td>4926.513875</td>\n",
       "      <td>...</td>\n",
       "      <td>0.000905</td>\n",
       "      <td>0.008520</td>\n",
       "      <td>0.000000</td>\n",
       "      <td>0.003538</td>\n",
       "      <td>0.000412</td>\n",
       "      <td>0.003487</td>\n",
       "      <td>0.004577</td>\n",
       "      <td>0.003098</td>\n",
       "      <td>0.003364</td>\n",
       "      <td>0.005171</td>\n",
       "    </tr>\n",
       "    <tr>\n",
       "      <th>...</th>\n",
       "      <td>...</td>\n",
       "      <td>...</td>\n",
       "      <td>...</td>\n",
       "      <td>...</td>\n",
       "      <td>...</td>\n",
       "      <td>...</td>\n",
       "      <td>...</td>\n",
       "      <td>...</td>\n",
       "      <td>...</td>\n",
       "      <td>...</td>\n",
       "      <td>...</td>\n",
       "      <td>...</td>\n",
       "      <td>...</td>\n",
       "      <td>...</td>\n",
       "      <td>...</td>\n",
       "      <td>...</td>\n",
       "      <td>...</td>\n",
       "      <td>...</td>\n",
       "      <td>...</td>\n",
       "      <td>...</td>\n",
       "      <td>...</td>\n",
       "    </tr>\n",
       "    <tr>\n",
       "      <th>4966</th>\n",
       "      <td>100332</td>\n",
       "      <td>1</td>\n",
       "      <td>False</td>\n",
       "      <td>True</td>\n",
       "      <td>104905</td>\n",
       "      <td>3700</td>\n",
       "      <td>65</td>\n",
       "      <td>266</td>\n",
       "      <td>64</td>\n",
       "      <td>3387.440356</td>\n",
       "      <td>...</td>\n",
       "      <td>NaN</td>\n",
       "      <td>NaN</td>\n",
       "      <td>NaN</td>\n",
       "      <td>NaN</td>\n",
       "      <td>NaN</td>\n",
       "      <td>NaN</td>\n",
       "      <td>NaN</td>\n",
       "      <td>NaN</td>\n",
       "      <td>NaN</td>\n",
       "      <td>NaN</td>\n",
       "    </tr>\n",
       "    <tr>\n",
       "      <th>4967</th>\n",
       "      <td>100338</td>\n",
       "      <td>1</td>\n",
       "      <td>False</td>\n",
       "      <td>True</td>\n",
       "      <td>5607</td>\n",
       "      <td>676</td>\n",
       "      <td>444</td>\n",
       "      <td>2664</td>\n",
       "      <td>24</td>\n",
       "      <td>16388.187011</td>\n",
       "      <td>...</td>\n",
       "      <td>0.000785</td>\n",
       "      <td>0.003694</td>\n",
       "      <td>0.000287</td>\n",
       "      <td>0.001985</td>\n",
       "      <td>0.001189</td>\n",
       "      <td>0.002902</td>\n",
       "      <td>0.007812</td>\n",
       "      <td>0.002805</td>\n",
       "      <td>0.002117</td>\n",
       "      <td>0.005742</td>\n",
       "    </tr>\n",
       "    <tr>\n",
       "      <th>4968</th>\n",
       "      <td>100362</td>\n",
       "      <td>1</td>\n",
       "      <td>False</td>\n",
       "      <td>True</td>\n",
       "      <td>34</td>\n",
       "      <td>7534</td>\n",
       "      <td>527</td>\n",
       "      <td>1393</td>\n",
       "      <td>298</td>\n",
       "      <td>9278.713536</td>\n",
       "      <td>...</td>\n",
       "      <td>0.002501</td>\n",
       "      <td>0.014842</td>\n",
       "      <td>0.000787</td>\n",
       "      <td>0.001112</td>\n",
       "      <td>0.000443</td>\n",
       "      <td>0.004597</td>\n",
       "      <td>0.003462</td>\n",
       "      <td>0.003837</td>\n",
       "      <td>0.004023</td>\n",
       "      <td>0.011311</td>\n",
       "    </tr>\n",
       "    <tr>\n",
       "      <th>4969</th>\n",
       "      <td>100380</td>\n",
       "      <td>0</td>\n",
       "      <td>True</td>\n",
       "      <td>True</td>\n",
       "      <td>14608</td>\n",
       "      <td>49583</td>\n",
       "      <td>615</td>\n",
       "      <td>5373</td>\n",
       "      <td>927</td>\n",
       "      <td>153084.227764</td>\n",
       "      <td>...</td>\n",
       "      <td>0.000725</td>\n",
       "      <td>0.003434</td>\n",
       "      <td>0.000499</td>\n",
       "      <td>0.002734</td>\n",
       "      <td>0.000622</td>\n",
       "      <td>0.003903</td>\n",
       "      <td>0.005755</td>\n",
       "      <td>0.002673</td>\n",
       "      <td>0.002098</td>\n",
       "      <td>0.005707</td>\n",
       "    </tr>\n",
       "    <tr>\n",
       "      <th>4970</th>\n",
       "      <td>100385</td>\n",
       "      <td>1</td>\n",
       "      <td>False</td>\n",
       "      <td>True</td>\n",
       "      <td>6868</td>\n",
       "      <td>433</td>\n",
       "      <td>114</td>\n",
       "      <td>6488</td>\n",
       "      <td>0</td>\n",
       "      <td>6634.902953</td>\n",
       "      <td>...</td>\n",
       "      <td>0.000183</td>\n",
       "      <td>0.003698</td>\n",
       "      <td>0.000810</td>\n",
       "      <td>0.001279</td>\n",
       "      <td>0.000436</td>\n",
       "      <td>0.001004</td>\n",
       "      <td>0.006799</td>\n",
       "      <td>0.001359</td>\n",
       "      <td>0.000732</td>\n",
       "      <td>0.001650</td>\n",
       "    </tr>\n",
       "  </tbody>\n",
       "</table>\n",
       "<p>4971 rows × 1039 columns</p>\n",
       "</div>\n",
       "    <div class=\"colab-df-buttons\">\n",
       "\n",
       "  <div class=\"colab-df-container\">\n",
       "    <button class=\"colab-df-convert\" onclick=\"convertToInteractive('df-1b11b229-5d2a-49c8-bfc0-bd9be40fa85d')\"\n",
       "            title=\"Convert this dataframe to an interactive table.\"\n",
       "            style=\"display:none;\">\n",
       "\n",
       "  <svg xmlns=\"http://www.w3.org/2000/svg\" height=\"24px\" viewBox=\"0 -960 960 960\">\n",
       "    <path d=\"M120-120v-720h720v720H120Zm60-500h600v-160H180v160Zm220 220h160v-160H400v160Zm0 220h160v-160H400v160ZM180-400h160v-160H180v160Zm440 0h160v-160H620v160ZM180-180h160v-160H180v160Zm440 0h160v-160H620v160Z\"/>\n",
       "  </svg>\n",
       "    </button>\n",
       "\n",
       "  <style>\n",
       "    .colab-df-container {\n",
       "      display:flex;\n",
       "      gap: 12px;\n",
       "    }\n",
       "\n",
       "    .colab-df-convert {\n",
       "      background-color: #E8F0FE;\n",
       "      border: none;\n",
       "      border-radius: 50%;\n",
       "      cursor: pointer;\n",
       "      display: none;\n",
       "      fill: #1967D2;\n",
       "      height: 32px;\n",
       "      padding: 0 0 0 0;\n",
       "      width: 32px;\n",
       "    }\n",
       "\n",
       "    .colab-df-convert:hover {\n",
       "      background-color: #E2EBFA;\n",
       "      box-shadow: 0px 1px 2px rgba(60, 64, 67, 0.3), 0px 1px 3px 1px rgba(60, 64, 67, 0.15);\n",
       "      fill: #174EA6;\n",
       "    }\n",
       "\n",
       "    .colab-df-buttons div {\n",
       "      margin-bottom: 4px;\n",
       "    }\n",
       "\n",
       "    [theme=dark] .colab-df-convert {\n",
       "      background-color: #3B4455;\n",
       "      fill: #D2E3FC;\n",
       "    }\n",
       "\n",
       "    [theme=dark] .colab-df-convert:hover {\n",
       "      background-color: #434B5C;\n",
       "      box-shadow: 0px 1px 3px 1px rgba(0, 0, 0, 0.15);\n",
       "      filter: drop-shadow(0px 1px 2px rgba(0, 0, 0, 0.3));\n",
       "      fill: #FFFFFF;\n",
       "    }\n",
       "  </style>\n",
       "\n",
       "    <script>\n",
       "      const buttonEl =\n",
       "        document.querySelector('#df-1b11b229-5d2a-49c8-bfc0-bd9be40fa85d button.colab-df-convert');\n",
       "      buttonEl.style.display =\n",
       "        google.colab.kernel.accessAllowed ? 'block' : 'none';\n",
       "\n",
       "      async function convertToInteractive(key) {\n",
       "        const element = document.querySelector('#df-1b11b229-5d2a-49c8-bfc0-bd9be40fa85d');\n",
       "        const dataTable =\n",
       "          await google.colab.kernel.invokeFunction('convertToInteractive',\n",
       "                                                    [key], {});\n",
       "        if (!dataTable) return;\n",
       "\n",
       "        const docLinkHtml = 'Like what you see? Visit the ' +\n",
       "          '<a target=\"_blank\" href=https://colab.research.google.com/notebooks/data_table.ipynb>data table notebook</a>'\n",
       "          + ' to learn more about interactive tables.';\n",
       "        element.innerHTML = '';\n",
       "        dataTable['output_type'] = 'display_data';\n",
       "        await google.colab.output.renderOutput(dataTable, element);\n",
       "        const docLink = document.createElement('div');\n",
       "        docLink.innerHTML = docLinkHtml;\n",
       "        element.appendChild(docLink);\n",
       "      }\n",
       "    </script>\n",
       "  </div>\n",
       "\n",
       "\n",
       "<div id=\"df-344d91c7-4f71-48fb-863e-2bc0f92b207d\">\n",
       "  <button class=\"colab-df-quickchart\" onclick=\"quickchart('df-344d91c7-4f71-48fb-863e-2bc0f92b207d')\"\n",
       "            title=\"Suggest charts\"\n",
       "            style=\"display:none;\">\n",
       "\n",
       "<svg xmlns=\"http://www.w3.org/2000/svg\" height=\"24px\"viewBox=\"0 0 24 24\"\n",
       "     width=\"24px\">\n",
       "    <g>\n",
       "        <path d=\"M19 3H5c-1.1 0-2 .9-2 2v14c0 1.1.9 2 2 2h14c1.1 0 2-.9 2-2V5c0-1.1-.9-2-2-2zM9 17H7v-7h2v7zm4 0h-2V7h2v10zm4 0h-2v-4h2v4z\"/>\n",
       "    </g>\n",
       "</svg>\n",
       "  </button>\n",
       "\n",
       "<style>\n",
       "  .colab-df-quickchart {\n",
       "      --bg-color: #E8F0FE;\n",
       "      --fill-color: #1967D2;\n",
       "      --hover-bg-color: #E2EBFA;\n",
       "      --hover-fill-color: #174EA6;\n",
       "      --disabled-fill-color: #AAA;\n",
       "      --disabled-bg-color: #DDD;\n",
       "  }\n",
       "\n",
       "  [theme=dark] .colab-df-quickchart {\n",
       "      --bg-color: #3B4455;\n",
       "      --fill-color: #D2E3FC;\n",
       "      --hover-bg-color: #434B5C;\n",
       "      --hover-fill-color: #FFFFFF;\n",
       "      --disabled-bg-color: #3B4455;\n",
       "      --disabled-fill-color: #666;\n",
       "  }\n",
       "\n",
       "  .colab-df-quickchart {\n",
       "    background-color: var(--bg-color);\n",
       "    border: none;\n",
       "    border-radius: 50%;\n",
       "    cursor: pointer;\n",
       "    display: none;\n",
       "    fill: var(--fill-color);\n",
       "    height: 32px;\n",
       "    padding: 0;\n",
       "    width: 32px;\n",
       "  }\n",
       "\n",
       "  .colab-df-quickchart:hover {\n",
       "    background-color: var(--hover-bg-color);\n",
       "    box-shadow: 0 1px 2px rgba(60, 64, 67, 0.3), 0 1px 3px 1px rgba(60, 64, 67, 0.15);\n",
       "    fill: var(--button-hover-fill-color);\n",
       "  }\n",
       "\n",
       "  .colab-df-quickchart-complete:disabled,\n",
       "  .colab-df-quickchart-complete:disabled:hover {\n",
       "    background-color: var(--disabled-bg-color);\n",
       "    fill: var(--disabled-fill-color);\n",
       "    box-shadow: none;\n",
       "  }\n",
       "\n",
       "  .colab-df-spinner {\n",
       "    border: 2px solid var(--fill-color);\n",
       "    border-color: transparent;\n",
       "    border-bottom-color: var(--fill-color);\n",
       "    animation:\n",
       "      spin 1s steps(1) infinite;\n",
       "  }\n",
       "\n",
       "  @keyframes spin {\n",
       "    0% {\n",
       "      border-color: transparent;\n",
       "      border-bottom-color: var(--fill-color);\n",
       "      border-left-color: var(--fill-color);\n",
       "    }\n",
       "    20% {\n",
       "      border-color: transparent;\n",
       "      border-left-color: var(--fill-color);\n",
       "      border-top-color: var(--fill-color);\n",
       "    }\n",
       "    30% {\n",
       "      border-color: transparent;\n",
       "      border-left-color: var(--fill-color);\n",
       "      border-top-color: var(--fill-color);\n",
       "      border-right-color: var(--fill-color);\n",
       "    }\n",
       "    40% {\n",
       "      border-color: transparent;\n",
       "      border-right-color: var(--fill-color);\n",
       "      border-top-color: var(--fill-color);\n",
       "    }\n",
       "    60% {\n",
       "      border-color: transparent;\n",
       "      border-right-color: var(--fill-color);\n",
       "    }\n",
       "    80% {\n",
       "      border-color: transparent;\n",
       "      border-right-color: var(--fill-color);\n",
       "      border-bottom-color: var(--fill-color);\n",
       "    }\n",
       "    90% {\n",
       "      border-color: transparent;\n",
       "      border-bottom-color: var(--fill-color);\n",
       "    }\n",
       "  }\n",
       "</style>\n",
       "\n",
       "  <script>\n",
       "    async function quickchart(key) {\n",
       "      const quickchartButtonEl =\n",
       "        document.querySelector('#' + key + ' button');\n",
       "      quickchartButtonEl.disabled = true;  // To prevent multiple clicks.\n",
       "      quickchartButtonEl.classList.add('colab-df-spinner');\n",
       "      try {\n",
       "        const charts = await google.colab.kernel.invokeFunction(\n",
       "            'suggestCharts', [key], {});\n",
       "      } catch (error) {\n",
       "        console.error('Error during call to suggestCharts:', error);\n",
       "      }\n",
       "      quickchartButtonEl.classList.remove('colab-df-spinner');\n",
       "      quickchartButtonEl.classList.add('colab-df-quickchart-complete');\n",
       "    }\n",
       "    (() => {\n",
       "      let quickchartButtonEl =\n",
       "        document.querySelector('#df-344d91c7-4f71-48fb-863e-2bc0f92b207d button');\n",
       "      quickchartButtonEl.style.display =\n",
       "        google.colab.kernel.accessAllowed ? 'block' : 'none';\n",
       "    })();\n",
       "  </script>\n",
       "</div>\n",
       "    </div>\n",
       "  </div>\n"
      ],
      "text/plain": [
       "      user_id  hate  hate_neigh  normal_neigh  statuses_count  \\\n",
       "0           0     1        True          True          101767   \n",
       "1          22     1       False          True          111948   \n",
       "2          29     1       False          True           28222   \n",
       "3          44     1       False          True            3101   \n",
       "4          85     1       False          True           49169   \n",
       "...       ...   ...         ...           ...             ...   \n",
       "4966   100332     1       False          True          104905   \n",
       "4967   100338     1       False          True            5607   \n",
       "4968   100362     1       False          True              34   \n",
       "4969   100380     0        True          True           14608   \n",
       "4970   100385     1       False          True            6868   \n",
       "\n",
       "      followers_count  followees_count  favorites_count  listed_count  \\\n",
       "0                3504             3673            81635            53   \n",
       "1                1586              997               80             7   \n",
       "2               27545              282              916           499   \n",
       "3                2173              923             1193            11   \n",
       "4                2321              206            24755            37   \n",
       "...               ...              ...              ...           ...   \n",
       "4966             3700               65              266            64   \n",
       "4967              676              444             2664            24   \n",
       "4968             7534              527             1393           298   \n",
       "4969            49583              615             5373           927   \n",
       "4970              433              114             6488             0   \n",
       "\n",
       "        betweenness  ...  c_feminine_empath  c_medieval_empath  \\\n",
       "0     100467.895084  ...           0.001380           0.003288   \n",
       "1        960.147859  ...           0.000548           0.000843   \n",
       "2      60445.401832  ...           0.001415           0.003107   \n",
       "3      21158.812380  ...           0.000436           0.007613   \n",
       "4       4926.513875  ...           0.000905           0.008520   \n",
       "...             ...  ...                ...                ...   \n",
       "4966    3387.440356  ...                NaN                NaN   \n",
       "4967   16388.187011  ...           0.000785           0.003694   \n",
       "4968    9278.713536  ...           0.002501           0.014842   \n",
       "4969  153084.227764  ...           0.000725           0.003434   \n",
       "4970    6634.902953  ...           0.000183           0.003698   \n",
       "\n",
       "      c_journalism_empath  c_farming_empath  c_plant_empath  \\\n",
       "0                0.000255          0.002189        0.000593   \n",
       "1                0.000200          0.001571        0.000467   \n",
       "2                0.000237          0.001487        0.001058   \n",
       "3                0.000425          0.001987        0.000355   \n",
       "4                0.000000          0.003538        0.000412   \n",
       "...                   ...               ...             ...   \n",
       "4966                  NaN               NaN             NaN   \n",
       "4967             0.000287          0.001985        0.001189   \n",
       "4968             0.000787          0.001112        0.000443   \n",
       "4969             0.000499          0.002734        0.000622   \n",
       "4970             0.000810          0.001279        0.000436   \n",
       "\n",
       "      c_shopping_empath  c_ship_empath  c_religion_empath  c_tourism_empath  \\\n",
       "0              0.003689       0.003559           0.001634          0.002662   \n",
       "1              0.005263       0.005594           0.000768          0.000973   \n",
       "2              0.004290       0.008465           0.001763          0.003203   \n",
       "3              0.001157       0.010131           0.003298          0.001899   \n",
       "4              0.003487       0.004577           0.003098          0.003364   \n",
       "...                 ...            ...                ...               ...   \n",
       "4966                NaN            NaN                NaN               NaN   \n",
       "4967           0.002902       0.007812           0.002805          0.002117   \n",
       "4968           0.004597       0.003462           0.003837          0.004023   \n",
       "4969           0.003903       0.005755           0.002673          0.002098   \n",
       "4970           0.001004       0.006799           0.001359          0.000732   \n",
       "\n",
       "      c_power_empath  \n",
       "0           0.007487  \n",
       "1           0.011163  \n",
       "2           0.007599  \n",
       "3           0.002811  \n",
       "4           0.005171  \n",
       "...              ...  \n",
       "4966             NaN  \n",
       "4967        0.005742  \n",
       "4968        0.011311  \n",
       "4969        0.005707  \n",
       "4970        0.001650  \n",
       "\n",
       "[4971 rows x 1039 columns]"
      ]
     },
     "execution_count": 9,
     "metadata": {},
     "output_type": "execute_result"
    }
   ],
   "source": [
    "df.hate = pd.get_dummies(df, columns=['hate'], drop_first = True)['hate_normal']\n",
    "df"
   ]
  },
  {
   "cell_type": "code",
   "execution_count": 10,
   "id": "d333bdd5-3877-4eda-b249-b056bdecdb7e",
   "metadata": {
    "colab": {
     "base_uri": "https://localhost:8080/"
    },
    "id": "d333bdd5-3877-4eda-b249-b056bdecdb7e",
    "outputId": "8dceb6c4-c07f-4712-b35f-4c3d984f3b73"
   },
   "outputs": [
    {
     "name": "stdout",
     "output_type": "stream",
     "text": [
      "DiGraph with 4971 nodes and 15141 edges\n"
     ]
    }
   ],
   "source": [
    "subgraph = G0.subgraph(map(str, df.user_id.to_list()))\n",
    "print(subgraph)"
   ]
  },
  {
   "cell_type": "markdown",
   "id": "7203347e-278d-4686-966a-84b0991c3a2b",
   "metadata": {
    "id": "7203347e-278d-4686-966a-84b0991c3a2b"
   },
   "source": [
    "Удалим петли, так как они не несут в себе смысловой нагрузки в рамках выбранных данных"
   ]
  },
  {
   "cell_type": "code",
   "execution_count": 11,
   "id": "23d188da-bdc5-47aa-9e5e-1d9c2dca014d",
   "metadata": {
    "colab": {
     "base_uri": "https://localhost:8080/"
    },
    "id": "23d188da-bdc5-47aa-9e5e-1d9c2dca014d",
    "outputId": "fc097f8e-a8d2-471c-c7bf-0b9119f29a2a"
   },
   "outputs": [
    {
     "name": "stdout",
     "output_type": "stream",
     "text": [
      "DiGraph with 4971 nodes and 10170 edges\n"
     ]
    }
   ],
   "source": [
    "G = nx.relabel_nodes(subgraph, dict(zip(subgraph, map(int, subgraph.nodes()))))\n",
    "G = nx.convert_node_labels_to_integers(G, ordering='sorted')\n",
    "G.remove_edges_from(list(nx.selfloop_edges(G)))\n",
    "print(G)\n",
    "#nx.draw(G)"
   ]
  },
  {
   "cell_type": "markdown",
   "id": "8pI4KLzFn0Ul",
   "metadata": {
    "id": "8pI4KLzFn0Ul"
   },
   "source": [
    "Далее представлена десятая часть сети, где красным помечены пользователи, разжигающие ненависть"
   ]
  },
  {
   "cell_type": "code",
   "execution_count": 12,
   "id": "ba9d386d-ec76-4958-8fb0-6344a674bc78",
   "metadata": {
    "colab": {
     "base_uri": "https://localhost:8080/",
     "height": 429
    },
    "id": "ba9d386d-ec76-4958-8fb0-6344a674bc78",
    "outputId": "4252646f-85a2-4358-b6c0-a6c16a0954da"
   },
   "outputs": [
    {
     "data": {
      "image/png": "[encoded data removed]",
      "text/plain": [
       "<Figure size 640x480 with 1 Axes>"
      ]
     },
     "metadata": {},
     "output_type": "display_data"
    }
   ],
   "source": [
    "node_colors = list(map(lambda x: 'r' if x == 0 else 'b', df.hate))\n",
    "nx.draw_networkx(G.subgraph(df.index.to_list()[::10]), node_color = node_colors[::10], with_labels = False)\n",
    "plt.title('Граф (выборка)')\n",
    "plt.show()"
   ]
  },
  {
   "cell_type": "markdown",
   "id": "Rq0vS-cLRbqt",
   "metadata": {
    "id": "Rq0vS-cLRbqt"
   },
   "source": [
    "### **2.2. Векторные представления узлов**"
   ]
  },
  {
   "cell_type": "markdown",
   "id": "9b84cc98-93d8-4e36-a562-2cfc1a0a4f53",
   "metadata": {
    "id": "9b84cc98-93d8-4e36-a562-2cfc1a0a4f53"
   },
   "source": [
    "Рассмотрим некоторые методы векторных представлений узлов, которые основаны на:\n",
    "\n",
    "1) Матричном разложении\n",
    "\n",
    "2) Случайных блужданиях"
   ]
  },
  {
   "cell_type": "markdown",
   "id": "c4ZJ0G2wojeA",
   "metadata": {
    "id": "c4ZJ0G2wojeA"
   },
   "source": [
    "Для удобства при применении каждого из методов будем получать вектора одинаковой размерности"
   ]
  },
  {
   "cell_type": "markdown",
   "id": "4SkEbr0CRibk",
   "metadata": {
    "id": "4SkEbr0CRibk"
   },
   "source": [
    "#### *2.2.1. Матричное разложение*"
   ]
  },
  {
   "cell_type": "markdown",
   "id": "22hmlhFtqRjZ",
   "metadata": {
    "id": "22hmlhFtqRjZ"
   },
   "source": [
    "##### *Сингулярное разложение матрицы смежности узлов*"
   ]
  },
  {
   "cell_type": "markdown",
   "id": "8f4e7c42-ab97-4dee-811b-4b3b7ef5513c",
   "metadata": {
    "id": "8f4e7c42-ab97-4dee-811b-4b3b7ef5513c"
   },
   "source": [
    "Самой простой способ получения векторных представлений узлов из графа с использованием матричной факторизации заключается в использовании метода Singular Value Decomposition (SVD), который уменьшает размерность матрицы смежности узлов посредством сингулярного разложения"
   ]
  },
  {
   "cell_type": "code",
   "execution_count": 13,
   "id": "5d16bbd6-12e7-4617-ab4a-30bd49cfe49a",
   "metadata": {
    "colab": {
     "base_uri": "https://localhost:8080/"
    },
    "id": "5d16bbd6-12e7-4617-ab4a-30bd49cfe49a",
    "outputId": "29a48409-734c-4e38-b5c5-afe7d3acd93c"
   },
   "outputs": [
    {
     "data": {
      "text/plain": [
       "(4971, 32)"
      ]
     },
     "execution_count": 13,
     "metadata": {},
     "output_type": "execute_result"
    }
   ],
   "source": [
    "A = nx.to_numpy_array(G)\n",
    "svd = TruncatedSVD(n_components=32)\n",
    "vec_svd = svd.fit_transform(A)\n",
    "vec_svd.shape"
   ]
  },
  {
   "cell_type": "markdown",
   "id": "2VuKqwxiqega",
   "metadata": {
    "id": "2VuKqwxiqega"
   },
   "source": [
    "##### *GraRep (Learning Graph Representations with Global Structural Information)*"
   ]
  },
  {
   "cell_type": "markdown",
   "id": "Q_57brGPWllC",
   "metadata": {
    "id": "Q_57brGPWllC"
   },
   "source": [
    "Метод GraRep основывается на вычислении матрицы переходов, элементы который являются вероятностями перехода из одного узла в другой, рассчитанными на основе количества общих соседей этих узлов"
   ]
  },
  {
   "cell_type": "code",
   "execution_count": 14,
   "id": "OIOEhd0n1W0u",
   "metadata": {
    "id": "OIOEhd0n1W0u"
   },
   "outputs": [],
   "source": [
    "model = GraRep(dimensions = 8, order = 4)\n",
    "model.fit(G)"
   ]
  },
  {
   "cell_type": "code",
   "execution_count": 15,
   "id": "LDBniKdw18dz",
   "metadata": {
    "colab": {
     "base_uri": "https://localhost:8080/"
    },
    "id": "LDBniKdw18dz",
    "outputId": "90d200e6-d0c7-45d8-8f45-8430a6dcf1ec"
   },
   "outputs": [
    {
     "data": {
      "text/plain": [
       "(4971, 32)"
      ]
     },
     "execution_count": 15,
     "metadata": {},
     "output_type": "execute_result"
    }
   ],
   "source": [
    "vec_grarep = model.get_embedding()\n",
    "vec_grarep.shape"
   ]
  },
  {
   "cell_type": "markdown",
   "id": "OL7a8N6Xq2S-",
   "metadata": {
    "id": "OL7a8N6Xq2S-"
   },
   "source": [
    "##### *HOPE (Higher-Order Proximity Embeddings)*"
   ]
  },
  {
   "cell_type": "markdown",
   "id": "jSa_WmpaaF2w",
   "metadata": {
    "id": "jSa_WmpaaF2w"
   },
   "source": [
    "Метод HOPE основан на идее, что узлы, которые имеют сходную структуру связей с другими узлами, должны иметь схожие векторные представления. Особенность алгоритма в том, что он учитывает связи выше второго порядка"
   ]
  },
  {
   "cell_type": "code",
   "execution_count": 16,
   "id": "qRpRMublaHwW",
   "metadata": {
    "id": "qRpRMublaHwW"
   },
   "outputs": [],
   "source": [
    "model = HOPE(dimensions = 32)\n",
    "model.fit(G)"
   ]
  },
  {
   "cell_type": "code",
   "execution_count": 17,
   "id": "ft5ipsAzaRWp",
   "metadata": {
    "colab": {
     "base_uri": "https://localhost:8080/"
    },
    "id": "ft5ipsAzaRWp",
    "outputId": "870d25db-3de0-4f3b-bded-0e101b9a6863"
   },
   "outputs": [
    {
     "data": {
      "text/plain": [
       "(4971, 32)"
      ]
     },
     "execution_count": 17,
     "metadata": {},
     "output_type": "execute_result"
    }
   ],
   "source": [
    "vec_hope = model.get_embedding()\n",
    "vec_hope.shape"
   ]
  },
  {
   "cell_type": "markdown",
   "id": "RXmYX_OMyWJr",
   "metadata": {
    "id": "RXmYX_OMyWJr"
   },
   "source": [
    "#### *2.2.2. Случайные блуждания*"
   ]
  },
  {
   "cell_type": "markdown",
   "id": "g-udOv_FRN8W",
   "metadata": {
    "id": "g-udOv_FRN8W"
   },
   "source": [
    "Методы, который вычисляют векторные представления узла на основе случайных блужданий в графе: DeepWalk и Node2Vec.\n",
    "\n",
    "Node2Vec - это вариация DeepWalk, которая вводит смещенные\n",
    "случайные блуждания. Случайными блужданиями управляют два параметра: p уменьшает\n",
    "вероятность повторного посещения предыдущего узла, в то время\n",
    "как q уменьшает вероятность перехода к узлам, которые\n",
    "не были соседями исходного узла."
   ]
  },
  {
   "cell_type": "markdown",
   "id": "_F8KaBW9rK-e",
   "metadata": {
    "id": "_F8KaBW9rK-e"
   },
   "source": [
    "###### *DeepWalk*"
   ]
  },
  {
   "cell_type": "code",
   "execution_count": 18,
   "id": "N9x6S9xgh7zz",
   "metadata": {
    "colab": {
     "base_uri": "https://localhost:8080/"
    },
    "id": "N9x6S9xgh7zz",
    "outputId": "51a30f12-4749-4215-b892-8c9692a52d44"
   },
   "outputs": [
    {
     "name": "stderr",
     "output_type": "stream",
     "text": [
      "WARNING:gensim.models.word2vec:Both hierarchical softmax and negative sampling are activated. This is probably a mistake. You should set either 'hs=0' or 'negative=0' to disable one of them. \n"
     ]
    }
   ],
   "source": [
    "model = DeepWalk(dimensions = 32, walk_length=30, workers=4, walk_number = 50)\n",
    "model.fit(G)"
   ]
  },
  {
   "cell_type": "code",
   "execution_count": 19,
   "id": "Q0-IuE3rh7z0",
   "metadata": {
    "colab": {
     "base_uri": "https://localhost:8080/"
    },
    "id": "Q0-IuE3rh7z0",
    "outputId": "9fcb6cf3-843b-48fc-d36d-7938b9b9b15c"
   },
   "outputs": [
    {
     "data": {
      "text/plain": [
       "(4971, 32)"
      ]
     },
     "execution_count": 19,
     "metadata": {},
     "output_type": "execute_result"
    }
   ],
   "source": [
    "vec_deepwalk = model.get_embedding()\n",
    "vec_deepwalk.shape"
   ]
  },
  {
   "cell_type": "markdown",
   "id": "0GxEQVCPrWVW",
   "metadata": {
    "id": "0GxEQVCPrWVW"
   },
   "source": [
    "##### *Node2Vec*"
   ]
  },
  {
   "cell_type": "code",
   "execution_count": 20,
   "id": "ec2d4ed3-09d2-4341-bef7-af0a28a63d46",
   "metadata": {
    "colab": {
     "base_uri": "https://localhost:8080/",
     "height": 67,
     "referenced_widgets": [
      "41e74e098d8b44968aa4142b2a60e3ff",
      "23d029311a0b4dcba1721c5fe24f6496",
      "ecfca35794d8476d8c23bd307aaf9e08",
      "7b0b1a484a8f4adab03df5065217f055",
      "c990cbdd31cc427e9e871043855cf306",
      "994d66b4af114157a32e4f26e3e17efb",
      "74b0ecbbaae549e98d724457b6838744",
      "ae91dff297b24429a25e06236c50c0e6",
      "f63ced5b653845f0a6538654e4105c60",
      "2011973368a744708cf34d654478a5e4",
      "1308c88bc5c14717991fcf99047488c7"
     ]
    },
    "id": "ec2d4ed3-09d2-4341-bef7-af0a28a63d46",
    "outputId": "61e75538-5ef1-403f-8f07-9edd63de1371"
   },
   "outputs": [
    {
     "data": {
      "application/vnd.jupyter.widget-view+json": {
       "model_id": "41e74e098d8b44968aa4142b2a60e3ff",
       "version_major": 2,
       "version_minor": 0
      },
      "text/plain": [
       "Computing transition probabilities:   0%|          | 0/4971 [00:00<?, ?it/s]"
      ]
     },
     "metadata": {},
     "output_type": "display_data"
    },
    {
     "data": {
      "text/plain": [
       "(4971, 32)"
      ]
     },
     "execution_count": 20,
     "metadata": {},
     "output_type": "execute_result"
    }
   ],
   "source": [
    "node2vec = Node2Vec(G, dimensions=32, walk_length=50, num_walks=30, workers=4, p = 1.3, q = 0.7)\n",
    "model = node2vec.fit(window=10, min_count=1)\n",
    "vec_node2vec = np.array([model.wv[node] for node in G.nodes()])\n",
    "vec_node2vec.shape"
   ]
  },
  {
   "cell_type": "markdown",
   "id": "8urNArIMrZme",
   "metadata": {
    "id": "8urNArIMrZme"
   },
   "source": [
    "##### *SINE (Scalable Incomplete Network Embedding)*"
   ]
  },
  {
   "cell_type": "markdown",
   "id": "9QC-CtTejljM",
   "metadata": {
    "id": "9QC-CtTejljM"
   },
   "source": [
    "Метод SINE позволяет использовать атрибуты узлов для построения векторов.\n",
    "\n",
    "Процедура неявно факторизует совместную мощность матрицы смежности и матрицы признаков. Декомпозиция выполняется на основе усеченных случайных блужданий, и мощности матрицы смежности объединяются."
   ]
  },
  {
   "cell_type": "code",
   "execution_count": 21,
   "id": "GtCNd6T9n2zF",
   "metadata": {
    "id": "GtCNd6T9n2zF"
   },
   "outputs": [],
   "source": [
    "df_features = df.iloc[:, 2:].select_dtypes(include='number')\n",
    "features = df_features.to_numpy()"
   ]
  },
  {
   "cell_type": "code",
   "execution_count": 22,
   "id": "2wmUVMdjlqZF",
   "metadata": {
    "id": "2wmUVMdjlqZF"
   },
   "outputs": [],
   "source": [
    "X = coo_matrix(features)\n",
    "model = SINE(dimensions = 32)\n",
    "model.fit(G, X)"
   ]
  },
  {
   "cell_type": "code",
   "execution_count": 23,
   "id": "qao-HCxo75Bz",
   "metadata": {
    "colab": {
     "base_uri": "https://localhost:8080/"
    },
    "id": "qao-HCxo75Bz",
    "outputId": "f344e8e2-8f78-4007-88f5-59eec828822a"
   },
   "outputs": [
    {
     "data": {
      "text/plain": [
       "(4971, 32)"
      ]
     },
     "execution_count": 23,
     "metadata": {},
     "output_type": "execute_result"
    }
   ],
   "source": [
    "vec_sine = model.get_embedding()\n",
    "vec_sine.shape"
   ]
  },
  {
   "cell_type": "markdown",
   "id": "L2INjayARoYT",
   "metadata": {
    "id": "L2INjayARoYT"
   },
   "source": [
    "### **2.3. Классификация узлов**"
   ]
  },
  {
   "cell_type": "markdown",
   "id": "754e5030-9213-4871-9945-b2e9135a092d",
   "metadata": {
    "id": "754e5030-9213-4871-9945-b2e9135a092d"
   },
   "source": [
    "Чтобы получить более точные результаты сравнения, классификацию будем проводить разными методами:\n",
    "\n",
    "1) Методы машинного обучения\n",
    "\n",
    "2) Нейронная сеть"
   ]
  },
  {
   "cell_type": "markdown",
   "id": "SEpm2Ak2vTMF",
   "metadata": {
    "id": "SEpm2Ak2vTMF"
   },
   "source": [
    "#### *2.3.1. Методы машинного обучения*"
   ]
  },
  {
   "cell_type": "markdown",
   "id": "uhpO4Lncrv3l",
   "metadata": {
    "id": "uhpO4Lncrv3l"
   },
   "source": [
    "Разделим данные на обучающую и тестовую выборки, а также найдем веса классов"
   ]
  },
  {
   "cell_type": "code",
   "execution_count": 24,
   "id": "c3R24IG-xT3P",
   "metadata": {
    "id": "c3R24IG-xT3P"
   },
   "outputs": [],
   "source": [
    "train_mask, test_mask = train_test_split(df.index, test_size=0.2)\n",
    "y = df.hate\n",
    "class_weights = compute_class_weight('balanced', classes=np.unique(y), y=y)\n",
    "cw = dict(zip(np.unique(y), class_weights))"
   ]
  },
  {
   "cell_type": "markdown",
   "id": "Tos96xiy5W39",
   "metadata": {
    "id": "Tos96xiy5W39"
   },
   "source": [
    "##### *SVC (Support Vector Classifier)*"
   ]
  },
  {
   "cell_type": "markdown",
   "id": "TU_WRwCwsD3k",
   "metadata": {
    "id": "TU_WRwCwsD3k"
   },
   "source": [
    "Работает путем нахождения гиперплоскости в многомерном пространстве, которая разделяет точки данных на разные классы."
   ]
  },
  {
   "cell_type": "code",
   "execution_count": 25,
   "id": "pDm2-TD0ur3b",
   "metadata": {
    "colab": {
     "base_uri": "https://localhost:8080/",
     "height": 74
    },
    "id": "pDm2-TD0ur3b",
    "outputId": "73f4df87-6815-422a-f3ae-b2f76d70f6a0"
   },
   "outputs": [
    {
     "data": {
      "text/html": [
       "<style>#sk-container-id-1 {color: black;background-color: white;}#sk-container-id-1 pre{padding: 0;}#sk-container-id-1 div.sk-toggleable {background-color: white;}#sk-container-id-1 label.sk-toggleable__label {cursor: pointer;display: block;width: 100%;margin-bottom: 0;padding: 0.3em;box-sizing: border-box;text-align: center;}#sk-container-id-1 label.sk-toggleable__label-arrow:before {content: \"▸\";float: left;margin-right: 0.25em;color: #696969;}#sk-container-id-1 label.sk-toggleable__label-arrow:hover:before {color: black;}#sk-container-id-1 div.sk-estimator:hover label.sk-toggleable__label-arrow:before {color: black;}#sk-container-id-1 div.sk-toggleable__content {max-height: 0;max-width: 0;overflow: hidden;text-align: left;background-color: #f0f8ff;}#sk-container-id-1 div.sk-toggleable__content pre {margin: 0.2em;color: black;border-radius: 0.25em;background-color: #f0f8ff;}#sk-container-id-1 input.sk-toggleable__control:checked~div.sk-toggleable__content {max-height: 200px;max-width: 100%;overflow: auto;}#sk-container-id-1 input.sk-toggleable__control:checked~label.sk-toggleable__label-arrow:before {content: \"▾\";}#sk-container-id-1 div.sk-estimator input.sk-toggleable__control:checked~label.sk-toggleable__label {background-color: #d4ebff;}#sk-container-id-1 div.sk-label input.sk-toggleable__control:checked~label.sk-toggleable__label {background-color: #d4ebff;}#sk-container-id-1 input.sk-hidden--visually {border: 0;clip: rect(1px 1px 1px 1px);clip: rect(1px, 1px, 1px, 1px);height: 1px;margin: -1px;overflow: hidden;padding: 0;position: absolute;width: 1px;}#sk-container-id-1 div.sk-estimator {font-family: monospace;background-color: #f0f8ff;border: 1px dotted black;border-radius: 0.25em;box-sizing: border-box;margin-bottom: 0.5em;}#sk-container-id-1 div.sk-estimator:hover {background-color: #d4ebff;}#sk-container-id-1 div.sk-parallel-item::after {content: \"\";width: 100%;border-bottom: 1px solid gray;flex-grow: 1;}#sk-container-id-1 div.sk-label:hover label.sk-toggleable__label {background-color: #d4ebff;}#sk-container-id-1 div.sk-serial::before {content: \"\";position: absolute;border-left: 1px solid gray;box-sizing: border-box;top: 0;bottom: 0;left: 50%;z-index: 0;}#sk-container-id-1 div.sk-serial {display: flex;flex-direction: column;align-items: center;background-color: white;padding-right: 0.2em;padding-left: 0.2em;position: relative;}#sk-container-id-1 div.sk-item {position: relative;z-index: 1;}#sk-container-id-1 div.sk-parallel {display: flex;align-items: stretch;justify-content: center;background-color: white;position: relative;}#sk-container-id-1 div.sk-item::before, #sk-container-id-1 div.sk-parallel-item::before {content: \"\";position: absolute;border-left: 1px solid gray;box-sizing: border-box;top: 0;bottom: 0;left: 50%;z-index: -1;}#sk-container-id-1 div.sk-parallel-item {display: flex;flex-direction: column;z-index: 1;position: relative;background-color: white;}#sk-container-id-1 div.sk-parallel-item:first-child::after {align-self: flex-end;width: 50%;}#sk-container-id-1 div.sk-parallel-item:last-child::after {align-self: flex-start;width: 50%;}#sk-container-id-1 div.sk-parallel-item:only-child::after {width: 0;}#sk-container-id-1 div.sk-dashed-wrapped {border: 1px dashed gray;margin: 0 0.4em 0.5em 0.4em;box-sizing: border-box;padding-bottom: 0.4em;background-color: white;}#sk-container-id-1 div.sk-label label {font-family: monospace;font-weight: bold;display: inline-block;line-height: 1.2em;}#sk-container-id-1 div.sk-label-container {text-align: center;}#sk-container-id-1 div.sk-container {/* jupyter's `normalize.less` sets `[hidden] { display: none; }` but bootstrap.min.css set `[hidden] { display: none !important; }` so we also need the `!important` here to be able to override the default hidden behavior on the sphinx rendered scikit-learn.org. See: https://github.com/scikit-learn/scikit-learn/issues/21755 */display: inline-block !important;position: relative;}#sk-container-id-1 div.sk-text-repr-fallback {display: none;}</style><div id=\"sk-container-id-1\" class=\"sk-top-container\"><div class=\"sk-text-repr-fallback\"><pre>SVC(class_weight={0: 4.568933823529412, 1: 0.5614411565394172})</pre><b>In a Jupyter environment, please rerun this cell to show the HTML representation or trust the notebook. <br />On GitHub, the HTML representation is unable to render, please try loading this page with nbviewer.org.</b></div><div class=\"sk-container\" hidden><div class=\"sk-item\"><div class=\"sk-estimator sk-toggleable\"><input class=\"sk-toggleable__control sk-hidden--visually\" id=\"sk-estimator-id-1\" type=\"checkbox\" checked><label for=\"sk-estimator-id-1\" class=\"sk-toggleable__label sk-toggleable__label-arrow\">SVC</label><div class=\"sk-toggleable__content\"><pre>SVC(class_weight={0: 4.568933823529412, 1: 0.5614411565394172})</pre></div></div></div></div></div>"
      ],
      "text/plain": [
       "SVC(class_weight={0: 4.568933823529412, 1: 0.5614411565394172})"
      ]
     },
     "execution_count": 25,
     "metadata": {},
     "output_type": "execute_result"
    }
   ],
   "source": [
    "clf = svm.SVC(class_weight = cw)\n",
    "clf.fit(vec_svd[train_mask], y[train_mask])"
   ]
  },
  {
   "cell_type": "code",
   "execution_count": 26,
   "id": "muVqVXFz02bc",
   "metadata": {
    "colab": {
     "base_uri": "https://localhost:8080/"
    },
    "id": "muVqVXFz02bc",
    "outputId": "e5815240-2756-49eb-92ee-95c9ebfbcf28"
   },
   "outputs": [
    {
     "name": "stdout",
     "output_type": "stream",
     "text": [
      "              precision    recall  f1-score   support\n",
      "\n",
      "           0       0.92      0.12      0.21       886\n",
      "           1       0.11      0.92      0.20       109\n",
      "\n",
      "    accuracy                           0.20       995\n",
      "   macro avg       0.52      0.52      0.20       995\n",
      "weighted avg       0.83      0.20      0.21       995\n",
      "\n"
     ]
    }
   ],
   "source": [
    "svd_res = clf.predict(vec_svd[test_mask])\n",
    "svc_res = [f1_score(y[test_mask], svd_res, average = 'macro')]\n",
    "print(classification_report(svd_res, y[test_mask]))"
   ]
  },
  {
   "cell_type": "code",
   "execution_count": 27,
   "id": "Y9hmYwZp2qy0",
   "metadata": {
    "colab": {
     "base_uri": "https://localhost:8080/",
     "height": 74
    },
    "id": "Y9hmYwZp2qy0",
    "outputId": "0f241254-d72e-40cf-f3a8-5af7a94e8282"
   },
   "outputs": [
    {
     "data": {
      "text/html": [
       "<style>#sk-container-id-2 {color: black;background-color: white;}#sk-container-id-2 pre{padding: 0;}#sk-container-id-2 div.sk-toggleable {background-color: white;}#sk-container-id-2 label.sk-toggleable__label {cursor: pointer;display: block;width: 100%;margin-bottom: 0;padding: 0.3em;box-sizing: border-box;text-align: center;}#sk-container-id-2 label.sk-toggleable__label-arrow:before {content: \"▸\";float: left;margin-right: 0.25em;color: #696969;}#sk-container-id-2 label.sk-toggleable__label-arrow:hover:before {color: black;}#sk-container-id-2 div.sk-estimator:hover label.sk-toggleable__label-arrow:before {color: black;}#sk-container-id-2 div.sk-toggleable__content {max-height: 0;max-width: 0;overflow: hidden;text-align: left;background-color: #f0f8ff;}#sk-container-id-2 div.sk-toggleable__content pre {margin: 0.2em;color: black;border-radius: 0.25em;background-color: #f0f8ff;}#sk-container-id-2 input.sk-toggleable__control:checked~div.sk-toggleable__content {max-height: 200px;max-width: 100%;overflow: auto;}#sk-container-id-2 input.sk-toggleable__control:checked~label.sk-toggleable__label-arrow:before {content: \"▾\";}#sk-container-id-2 div.sk-estimator input.sk-toggleable__control:checked~label.sk-toggleable__label {background-color: #d4ebff;}#sk-container-id-2 div.sk-label input.sk-toggleable__control:checked~label.sk-toggleable__label {background-color: #d4ebff;}#sk-container-id-2 input.sk-hidden--visually {border: 0;clip: rect(1px 1px 1px 1px);clip: rect(1px, 1px, 1px, 1px);height: 1px;margin: -1px;overflow: hidden;padding: 0;position: absolute;width: 1px;}#sk-container-id-2 div.sk-estimator {font-family: monospace;background-color: #f0f8ff;border: 1px dotted black;border-radius: 0.25em;box-sizing: border-box;margin-bottom: 0.5em;}#sk-container-id-2 div.sk-estimator:hover {background-color: #d4ebff;}#sk-container-id-2 div.sk-parallel-item::after {content: \"\";width: 100%;border-bottom: 1px solid gray;flex-grow: 1;}#sk-container-id-2 div.sk-label:hover label.sk-toggleable__label {background-color: #d4ebff;}#sk-container-id-2 div.sk-serial::before {content: \"\";position: absolute;border-left: 1px solid gray;box-sizing: border-box;top: 0;bottom: 0;left: 50%;z-index: 0;}#sk-container-id-2 div.sk-serial {display: flex;flex-direction: column;align-items: center;background-color: white;padding-right: 0.2em;padding-left: 0.2em;position: relative;}#sk-container-id-2 div.sk-item {position: relative;z-index: 1;}#sk-container-id-2 div.sk-parallel {display: flex;align-items: stretch;justify-content: center;background-color: white;position: relative;}#sk-container-id-2 div.sk-item::before, #sk-container-id-2 div.sk-parallel-item::before {content: \"\";position: absolute;border-left: 1px solid gray;box-sizing: border-box;top: 0;bottom: 0;left: 50%;z-index: -1;}#sk-container-id-2 div.sk-parallel-item {display: flex;flex-direction: column;z-index: 1;position: relative;background-color: white;}#sk-container-id-2 div.sk-parallel-item:first-child::after {align-self: flex-end;width: 50%;}#sk-container-id-2 div.sk-parallel-item:last-child::after {align-self: flex-start;width: 50%;}#sk-container-id-2 div.sk-parallel-item:only-child::after {width: 0;}#sk-container-id-2 div.sk-dashed-wrapped {border: 1px dashed gray;margin: 0 0.4em 0.5em 0.4em;box-sizing: border-box;padding-bottom: 0.4em;background-color: white;}#sk-container-id-2 div.sk-label label {font-family: monospace;font-weight: bold;display: inline-block;line-height: 1.2em;}#sk-container-id-2 div.sk-label-container {text-align: center;}#sk-container-id-2 div.sk-container {/* jupyter's `normalize.less` sets `[hidden] { display: none; }` but bootstrap.min.css set `[hidden] { display: none !important; }` so we also need the `!important` here to be able to override the default hidden behavior on the sphinx rendered scikit-learn.org. See: https://github.com/scikit-learn/scikit-learn/issues/21755 */display: inline-block !important;position: relative;}#sk-container-id-2 div.sk-text-repr-fallback {display: none;}</style><div id=\"sk-container-id-2\" class=\"sk-top-container\"><div class=\"sk-text-repr-fallback\"><pre>SVC(class_weight={0: 4.568933823529412, 1: 0.5614411565394172})</pre><b>In a Jupyter environment, please rerun this cell to show the HTML representation or trust the notebook. <br />On GitHub, the HTML representation is unable to render, please try loading this page with nbviewer.org.</b></div><div class=\"sk-container\" hidden><div class=\"sk-item\"><div class=\"sk-estimator sk-toggleable\"><input class=\"sk-toggleable__control sk-hidden--visually\" id=\"sk-estimator-id-2\" type=\"checkbox\" checked><label for=\"sk-estimator-id-2\" class=\"sk-toggleable__label sk-toggleable__label-arrow\">SVC</label><div class=\"sk-toggleable__content\"><pre>SVC(class_weight={0: 4.568933823529412, 1: 0.5614411565394172})</pre></div></div></div></div></div>"
      ],
      "text/plain": [
       "SVC(class_weight={0: 4.568933823529412, 1: 0.5614411565394172})"
      ]
     },
     "execution_count": 27,
     "metadata": {},
     "output_type": "execute_result"
    }
   ],
   "source": [
    "clf = svm.SVC(class_weight = cw)\n",
    "clf.fit(vec_grarep[train_mask], y[train_mask])"
   ]
  },
  {
   "cell_type": "code",
   "execution_count": 28,
   "id": "TUlEr8wq2qzM",
   "metadata": {
    "colab": {
     "base_uri": "https://localhost:8080/"
    },
    "id": "TUlEr8wq2qzM",
    "outputId": "2b05c9dc-dd64-4e62-8604-385d795dc550"
   },
   "outputs": [
    {
     "name": "stdout",
     "output_type": "stream",
     "text": [
      "              precision    recall  f1-score   support\n",
      "\n",
      "           0       0.70      0.53      0.60       147\n",
      "           1       0.92      0.96      0.94       848\n",
      "\n",
      "    accuracy                           0.90       995\n",
      "   macro avg       0.81      0.75      0.77       995\n",
      "weighted avg       0.89      0.90      0.89       995\n",
      "\n"
     ]
    }
   ],
   "source": [
    "grarep_res = clf.predict(vec_grarep[test_mask])\n",
    "svc_res.append(f1_score(y[test_mask], grarep_res, average = 'macro'))\n",
    "print(classification_report(grarep_res, y[test_mask]))"
   ]
  },
  {
   "cell_type": "code",
   "execution_count": 29,
   "id": "EC5-5HVh2r_5",
   "metadata": {
    "colab": {
     "base_uri": "https://localhost:8080/",
     "height": 74
    },
    "id": "EC5-5HVh2r_5",
    "outputId": "a617020b-7c68-42a1-cc7d-8c5fa38a39c2"
   },
   "outputs": [
    {
     "data": {
      "text/html": [
       "<style>#sk-container-id-3 {color: black;background-color: white;}#sk-container-id-3 pre{padding: 0;}#sk-container-id-3 div.sk-toggleable {background-color: white;}#sk-container-id-3 label.sk-toggleable__label {cursor: pointer;display: block;width: 100%;margin-bottom: 0;padding: 0.3em;box-sizing: border-box;text-align: center;}#sk-container-id-3 label.sk-toggleable__label-arrow:before {content: \"▸\";float: left;margin-right: 0.25em;color: #696969;}#sk-container-id-3 label.sk-toggleable__label-arrow:hover:before {color: black;}#sk-container-id-3 div.sk-estimator:hover label.sk-toggleable__label-arrow:before {color: black;}#sk-container-id-3 div.sk-toggleable__content {max-height: 0;max-width: 0;overflow: hidden;text-align: left;background-color: #f0f8ff;}#sk-container-id-3 div.sk-toggleable__content pre {margin: 0.2em;color: black;border-radius: 0.25em;background-color: #f0f8ff;}#sk-container-id-3 input.sk-toggleable__control:checked~div.sk-toggleable__content {max-height: 200px;max-width: 100%;overflow: auto;}#sk-container-id-3 input.sk-toggleable__control:checked~label.sk-toggleable__label-arrow:before {content: \"▾\";}#sk-container-id-3 div.sk-estimator input.sk-toggleable__control:checked~label.sk-toggleable__label {background-color: #d4ebff;}#sk-container-id-3 div.sk-label input.sk-toggleable__control:checked~label.sk-toggleable__label {background-color: #d4ebff;}#sk-container-id-3 input.sk-hidden--visually {border: 0;clip: rect(1px 1px 1px 1px);clip: rect(1px, 1px, 1px, 1px);height: 1px;margin: -1px;overflow: hidden;padding: 0;position: absolute;width: 1px;}#sk-container-id-3 div.sk-estimator {font-family: monospace;background-color: #f0f8ff;border: 1px dotted black;border-radius: 0.25em;box-sizing: border-box;margin-bottom: 0.5em;}#sk-container-id-3 div.sk-estimator:hover {background-color: #d4ebff;}#sk-container-id-3 div.sk-parallel-item::after {content: \"\";width: 100%;border-bottom: 1px solid gray;flex-grow: 1;}#sk-container-id-3 div.sk-label:hover label.sk-toggleable__label {background-color: #d4ebff;}#sk-container-id-3 div.sk-serial::before {content: \"\";position: absolute;border-left: 1px solid gray;box-sizing: border-box;top: 0;bottom: 0;left: 50%;z-index: 0;}#sk-container-id-3 div.sk-serial {display: flex;flex-direction: column;align-items: center;background-color: white;padding-right: 0.2em;padding-left: 0.2em;position: relative;}#sk-container-id-3 div.sk-item {position: relative;z-index: 1;}#sk-container-id-3 div.sk-parallel {display: flex;align-items: stretch;justify-content: center;background-color: white;position: relative;}#sk-container-id-3 div.sk-item::before, #sk-container-id-3 div.sk-parallel-item::before {content: \"\";position: absolute;border-left: 1px solid gray;box-sizing: border-box;top: 0;bottom: 0;left: 50%;z-index: -1;}#sk-container-id-3 div.sk-parallel-item {display: flex;flex-direction: column;z-index: 1;position: relative;background-color: white;}#sk-container-id-3 div.sk-parallel-item:first-child::after {align-self: flex-end;width: 50%;}#sk-container-id-3 div.sk-parallel-item:last-child::after {align-self: flex-start;width: 50%;}#sk-container-id-3 div.sk-parallel-item:only-child::after {width: 0;}#sk-container-id-3 div.sk-dashed-wrapped {border: 1px dashed gray;margin: 0 0.4em 0.5em 0.4em;box-sizing: border-box;padding-bottom: 0.4em;background-color: white;}#sk-container-id-3 div.sk-label label {font-family: monospace;font-weight: bold;display: inline-block;line-height: 1.2em;}#sk-container-id-3 div.sk-label-container {text-align: center;}#sk-container-id-3 div.sk-container {/* jupyter's `normalize.less` sets `[hidden] { display: none; }` but bootstrap.min.css set `[hidden] { display: none !important; }` so we also need the `!important` here to be able to override the default hidden behavior on the sphinx rendered scikit-learn.org. See: https://github.com/scikit-learn/scikit-learn/issues/21755 */display: inline-block !important;position: relative;}#sk-container-id-3 div.sk-text-repr-fallback {display: none;}</style><div id=\"sk-container-id-3\" class=\"sk-top-container\"><div class=\"sk-text-repr-fallback\"><pre>SVC(class_weight={0: 4.568933823529412, 1: 0.5614411565394172})</pre><b>In a Jupyter environment, please rerun this cell to show the HTML representation or trust the notebook. <br />On GitHub, the HTML representation is unable to render, please try loading this page with nbviewer.org.</b></div><div class=\"sk-container\" hidden><div class=\"sk-item\"><div class=\"sk-estimator sk-toggleable\"><input class=\"sk-toggleable__control sk-hidden--visually\" id=\"sk-estimator-id-3\" type=\"checkbox\" checked><label for=\"sk-estimator-id-3\" class=\"sk-toggleable__label sk-toggleable__label-arrow\">SVC</label><div class=\"sk-toggleable__content\"><pre>SVC(class_weight={0: 4.568933823529412, 1: 0.5614411565394172})</pre></div></div></div></div></div>"
      ],
      "text/plain": [
       "SVC(class_weight={0: 4.568933823529412, 1: 0.5614411565394172})"
      ]
     },
     "execution_count": 29,
     "metadata": {},
     "output_type": "execute_result"
    }
   ],
   "source": [
    "clf = svm.SVC(class_weight = cw)\n",
    "clf.fit(vec_hope[train_mask], y[train_mask])"
   ]
  },
  {
   "cell_type": "code",
   "execution_count": 30,
   "id": "ZQbL6WSK2r_7",
   "metadata": {
    "colab": {
     "base_uri": "https://localhost:8080/"
    },
    "id": "ZQbL6WSK2r_7",
    "outputId": "d578f7b3-84a4-42ce-95e1-2f0f648c91c1"
   },
   "outputs": [
    {
     "name": "stdout",
     "output_type": "stream",
     "text": [
      "              precision    recall  f1-score   support\n",
      "\n",
      "           0       0.64      0.60      0.62       120\n",
      "           1       0.95      0.95      0.95       875\n",
      "\n",
      "    accuracy                           0.91       995\n",
      "   macro avg       0.79      0.78      0.79       995\n",
      "weighted avg       0.91      0.91      0.91       995\n",
      "\n"
     ]
    }
   ],
   "source": [
    "hope_res = clf.predict(vec_hope[test_mask])\n",
    "svc_res.append(f1_score(y[test_mask], hope_res, average = 'macro'))\n",
    "print(classification_report(hope_res, y[test_mask]))"
   ]
  },
  {
   "cell_type": "code",
   "execution_count": 31,
   "id": "oSHc65cb2su_",
   "metadata": {
    "colab": {
     "base_uri": "https://localhost:8080/",
     "height": 74
    },
    "id": "oSHc65cb2su_",
    "outputId": "aa4eb23f-bd5e-4dee-8285-29f1f0083d70"
   },
   "outputs": [
    {
     "data": {
      "text/html": [
       "<style>#sk-container-id-4 {color: black;background-color: white;}#sk-container-id-4 pre{padding: 0;}#sk-container-id-4 div.sk-toggleable {background-color: white;}#sk-container-id-4 label.sk-toggleable__label {cursor: pointer;display: block;width: 100%;margin-bottom: 0;padding: 0.3em;box-sizing: border-box;text-align: center;}#sk-container-id-4 label.sk-toggleable__label-arrow:before {content: \"▸\";float: left;margin-right: 0.25em;color: #696969;}#sk-container-id-4 label.sk-toggleable__label-arrow:hover:before {color: black;}#sk-container-id-4 div.sk-estimator:hover label.sk-toggleable__label-arrow:before {color: black;}#sk-container-id-4 div.sk-toggleable__content {max-height: 0;max-width: 0;overflow: hidden;text-align: left;background-color: #f0f8ff;}#sk-container-id-4 div.sk-toggleable__content pre {margin: 0.2em;color: black;border-radius: 0.25em;background-color: #f0f8ff;}#sk-container-id-4 input.sk-toggleable__control:checked~div.sk-toggleable__content {max-height: 200px;max-width: 100%;overflow: auto;}#sk-container-id-4 input.sk-toggleable__control:checked~label.sk-toggleable__label-arrow:before {content: \"▾\";}#sk-container-id-4 div.sk-estimator input.sk-toggleable__control:checked~label.sk-toggleable__label {background-color: #d4ebff;}#sk-container-id-4 div.sk-label input.sk-toggleable__control:checked~label.sk-toggleable__label {background-color: #d4ebff;}#sk-container-id-4 input.sk-hidden--visually {border: 0;clip: rect(1px 1px 1px 1px);clip: rect(1px, 1px, 1px, 1px);height: 1px;margin: -1px;overflow: hidden;padding: 0;position: absolute;width: 1px;}#sk-container-id-4 div.sk-estimator {font-family: monospace;background-color: #f0f8ff;border: 1px dotted black;border-radius: 0.25em;box-sizing: border-box;margin-bottom: 0.5em;}#sk-container-id-4 div.sk-estimator:hover {background-color: #d4ebff;}#sk-container-id-4 div.sk-parallel-item::after {content: \"\";width: 100%;border-bottom: 1px solid gray;flex-grow: 1;}#sk-container-id-4 div.sk-label:hover label.sk-toggleable__label {background-color: #d4ebff;}#sk-container-id-4 div.sk-serial::before {content: \"\";position: absolute;border-left: 1px solid gray;box-sizing: border-box;top: 0;bottom: 0;left: 50%;z-index: 0;}#sk-container-id-4 div.sk-serial {display: flex;flex-direction: column;align-items: center;background-color: white;padding-right: 0.2em;padding-left: 0.2em;position: relative;}#sk-container-id-4 div.sk-item {position: relative;z-index: 1;}#sk-container-id-4 div.sk-parallel {display: flex;align-items: stretch;justify-content: center;background-color: white;position: relative;}#sk-container-id-4 div.sk-item::before, #sk-container-id-4 div.sk-parallel-item::before {content: \"\";position: absolute;border-left: 1px solid gray;box-sizing: border-box;top: 0;bottom: 0;left: 50%;z-index: -1;}#sk-container-id-4 div.sk-parallel-item {display: flex;flex-direction: column;z-index: 1;position: relative;background-color: white;}#sk-container-id-4 div.sk-parallel-item:first-child::after {align-self: flex-end;width: 50%;}#sk-container-id-4 div.sk-parallel-item:last-child::after {align-self: flex-start;width: 50%;}#sk-container-id-4 div.sk-parallel-item:only-child::after {width: 0;}#sk-container-id-4 div.sk-dashed-wrapped {border: 1px dashed gray;margin: 0 0.4em 0.5em 0.4em;box-sizing: border-box;padding-bottom: 0.4em;background-color: white;}#sk-container-id-4 div.sk-label label {font-family: monospace;font-weight: bold;display: inline-block;line-height: 1.2em;}#sk-container-id-4 div.sk-label-container {text-align: center;}#sk-container-id-4 div.sk-container {/* jupyter's `normalize.less` sets `[hidden] { display: none; }` but bootstrap.min.css set `[hidden] { display: none !important; }` so we also need the `!important` here to be able to override the default hidden behavior on the sphinx rendered scikit-learn.org. See: https://github.com/scikit-learn/scikit-learn/issues/21755 */display: inline-block !important;position: relative;}#sk-container-id-4 div.sk-text-repr-fallback {display: none;}</style><div id=\"sk-container-id-4\" class=\"sk-top-container\"><div class=\"sk-text-repr-fallback\"><pre>SVC(class_weight={0: 4.568933823529412, 1: 0.5614411565394172})</pre><b>In a Jupyter environment, please rerun this cell to show the HTML representation or trust the notebook. <br />On GitHub, the HTML representation is unable to render, please try loading this page with nbviewer.org.</b></div><div class=\"sk-container\" hidden><div class=\"sk-item\"><div class=\"sk-estimator sk-toggleable\"><input class=\"sk-toggleable__control sk-hidden--visually\" id=\"sk-estimator-id-4\" type=\"checkbox\" checked><label for=\"sk-estimator-id-4\" class=\"sk-toggleable__label sk-toggleable__label-arrow\">SVC</label><div class=\"sk-toggleable__content\"><pre>SVC(class_weight={0: 4.568933823529412, 1: 0.5614411565394172})</pre></div></div></div></div></div>"
      ],
      "text/plain": [
       "SVC(class_weight={0: 4.568933823529412, 1: 0.5614411565394172})"
      ]
     },
     "execution_count": 31,
     "metadata": {},
     "output_type": "execute_result"
    }
   ],
   "source": [
    "clf = svm.SVC(class_weight = cw)\n",
    "clf.fit(vec_deepwalk[train_mask], y[train_mask])"
   ]
  },
  {
   "cell_type": "code",
   "execution_count": 32,
   "id": "N7eOzSjO2svA",
   "metadata": {
    "colab": {
     "base_uri": "https://localhost:8080/"
    },
    "id": "N7eOzSjO2svA",
    "outputId": "8548ddb4-92af-437a-9f99-d3e172989f2f"
   },
   "outputs": [
    {
     "name": "stdout",
     "output_type": "stream",
     "text": [
      "              precision    recall  f1-score   support\n",
      "\n",
      "           0       0.56      0.53      0.55       118\n",
      "           1       0.94      0.94      0.94       877\n",
      "\n",
      "    accuracy                           0.90       995\n",
      "   macro avg       0.75      0.74      0.74       995\n",
      "weighted avg       0.89      0.90      0.89       995\n",
      "\n"
     ]
    }
   ],
   "source": [
    "deepwalk_res = clf.predict(vec_deepwalk[test_mask])\n",
    "svc_res.append(f1_score(y[test_mask], deepwalk_res, average = 'macro'))\n",
    "print(classification_report(deepwalk_res, y[test_mask]))"
   ]
  },
  {
   "cell_type": "code",
   "execution_count": 33,
   "id": "KlnojW2w2tY1",
   "metadata": {
    "colab": {
     "base_uri": "https://localhost:8080/",
     "height": 74
    },
    "id": "KlnojW2w2tY1",
    "outputId": "b1b03e71-e8aa-49db-b0c3-c4499b7bd5b8"
   },
   "outputs": [
    {
     "data": {
      "text/html": [
       "<style>#sk-container-id-5 {color: black;background-color: white;}#sk-container-id-5 pre{padding: 0;}#sk-container-id-5 div.sk-toggleable {background-color: white;}#sk-container-id-5 label.sk-toggleable__label {cursor: pointer;display: block;width: 100%;margin-bottom: 0;padding: 0.3em;box-sizing: border-box;text-align: center;}#sk-container-id-5 label.sk-toggleable__label-arrow:before {content: \"▸\";float: left;margin-right: 0.25em;color: #696969;}#sk-container-id-5 label.sk-toggleable__label-arrow:hover:before {color: black;}#sk-container-id-5 div.sk-estimator:hover label.sk-toggleable__label-arrow:before {color: black;}#sk-container-id-5 div.sk-toggleable__content {max-height: 0;max-width: 0;overflow: hidden;text-align: left;background-color: #f0f8ff;}#sk-container-id-5 div.sk-toggleable__content pre {margin: 0.2em;color: black;border-radius: 0.25em;background-color: #f0f8ff;}#sk-container-id-5 input.sk-toggleable__control:checked~div.sk-toggleable__content {max-height: 200px;max-width: 100%;overflow: auto;}#sk-container-id-5 input.sk-toggleable__control:checked~label.sk-toggleable__label-arrow:before {content: \"▾\";}#sk-container-id-5 div.sk-estimator input.sk-toggleable__control:checked~label.sk-toggleable__label {background-color: #d4ebff;}#sk-container-id-5 div.sk-label input.sk-toggleable__control:checked~label.sk-toggleable__label {background-color: #d4ebff;}#sk-container-id-5 input.sk-hidden--visually {border: 0;clip: rect(1px 1px 1px 1px);clip: rect(1px, 1px, 1px, 1px);height: 1px;margin: -1px;overflow: hidden;padding: 0;position: absolute;width: 1px;}#sk-container-id-5 div.sk-estimator {font-family: monospace;background-color: #f0f8ff;border: 1px dotted black;border-radius: 0.25em;box-sizing: border-box;margin-bottom: 0.5em;}#sk-container-id-5 div.sk-estimator:hover {background-color: #d4ebff;}#sk-container-id-5 div.sk-parallel-item::after {content: \"\";width: 100%;border-bottom: 1px solid gray;flex-grow: 1;}#sk-container-id-5 div.sk-label:hover label.sk-toggleable__label {background-color: #d4ebff;}#sk-container-id-5 div.sk-serial::before {content: \"\";position: absolute;border-left: 1px solid gray;box-sizing: border-box;top: 0;bottom: 0;left: 50%;z-index: 0;}#sk-container-id-5 div.sk-serial {display: flex;flex-direction: column;align-items: center;background-color: white;padding-right: 0.2em;padding-left: 0.2em;position: relative;}#sk-container-id-5 div.sk-item {position: relative;z-index: 1;}#sk-container-id-5 div.sk-parallel {display: flex;align-items: stretch;justify-content: center;background-color: white;position: relative;}#sk-container-id-5 div.sk-item::before, #sk-container-id-5 div.sk-parallel-item::before {content: \"\";position: absolute;border-left: 1px solid gray;box-sizing: border-box;top: 0;bottom: 0;left: 50%;z-index: -1;}#sk-container-id-5 div.sk-parallel-item {display: flex;flex-direction: column;z-index: 1;position: relative;background-color: white;}#sk-container-id-5 div.sk-parallel-item:first-child::after {align-self: flex-end;width: 50%;}#sk-container-id-5 div.sk-parallel-item:last-child::after {align-self: flex-start;width: 50%;}#sk-container-id-5 div.sk-parallel-item:only-child::after {width: 0;}#sk-container-id-5 div.sk-dashed-wrapped {border: 1px dashed gray;margin: 0 0.4em 0.5em 0.4em;box-sizing: border-box;padding-bottom: 0.4em;background-color: white;}#sk-container-id-5 div.sk-label label {font-family: monospace;font-weight: bold;display: inline-block;line-height: 1.2em;}#sk-container-id-5 div.sk-label-container {text-align: center;}#sk-container-id-5 div.sk-container {/* jupyter's `normalize.less` sets `[hidden] { display: none; }` but bootstrap.min.css set `[hidden] { display: none !important; }` so we also need the `!important` here to be able to override the default hidden behavior on the sphinx rendered scikit-learn.org. See: https://github.com/scikit-learn/scikit-learn/issues/21755 */display: inline-block !important;position: relative;}#sk-container-id-5 div.sk-text-repr-fallback {display: none;}</style><div id=\"sk-container-id-5\" class=\"sk-top-container\"><div class=\"sk-text-repr-fallback\"><pre>SVC(class_weight={0: 4.568933823529412, 1: 0.5614411565394172})</pre><b>In a Jupyter environment, please rerun this cell to show the HTML representation or trust the notebook. <br />On GitHub, the HTML representation is unable to render, please try loading this page with nbviewer.org.</b></div><div class=\"sk-container\" hidden><div class=\"sk-item\"><div class=\"sk-estimator sk-toggleable\"><input class=\"sk-toggleable__control sk-hidden--visually\" id=\"sk-estimator-id-5\" type=\"checkbox\" checked><label for=\"sk-estimator-id-5\" class=\"sk-toggleable__label sk-toggleable__label-arrow\">SVC</label><div class=\"sk-toggleable__content\"><pre>SVC(class_weight={0: 4.568933823529412, 1: 0.5614411565394172})</pre></div></div></div></div></div>"
      ],
      "text/plain": [
       "SVC(class_weight={0: 4.568933823529412, 1: 0.5614411565394172})"
      ]
     },
     "execution_count": 33,
     "metadata": {},
     "output_type": "execute_result"
    }
   ],
   "source": [
    "clf = svm.SVC(class_weight = cw)\n",
    "clf.fit(vec_node2vec[train_mask], y[train_mask])"
   ]
  },
  {
   "cell_type": "code",
   "execution_count": 34,
   "id": "aropM2m02tY2",
   "metadata": {
    "colab": {
     "base_uri": "https://localhost:8080/"
    },
    "id": "aropM2m02tY2",
    "outputId": "94118a8f-96d6-4329-9ca0-fa9c37f70917"
   },
   "outputs": [
    {
     "name": "stdout",
     "output_type": "stream",
     "text": [
      "              precision    recall  f1-score   support\n",
      "\n",
      "           0       0.43      0.12      0.19       396\n",
      "           1       0.61      0.89      0.72       599\n",
      "\n",
      "    accuracy                           0.59       995\n",
      "   macro avg       0.52      0.51      0.46       995\n",
      "weighted avg       0.54      0.59      0.51       995\n",
      "\n"
     ]
    }
   ],
   "source": [
    "node2vec_res = clf.predict(vec_node2vec[test_mask])\n",
    "svc_res.append(f1_score(y[test_mask], node2vec_res, average = 'macro'))\n",
    "print(classification_report(node2vec_res, y[test_mask]))"
   ]
  },
  {
   "cell_type": "code",
   "execution_count": 35,
   "id": "r_ZqOI-744Qj",
   "metadata": {
    "colab": {
     "base_uri": "https://localhost:8080/",
     "height": 74
    },
    "id": "r_ZqOI-744Qj",
    "outputId": "71d0ceb0-181d-4984-a47b-796980f01d5b"
   },
   "outputs": [
    {
     "data": {
      "text/html": [
       "<style>#sk-container-id-6 {color: black;background-color: white;}#sk-container-id-6 pre{padding: 0;}#sk-container-id-6 div.sk-toggleable {background-color: white;}#sk-container-id-6 label.sk-toggleable__label {cursor: pointer;display: block;width: 100%;margin-bottom: 0;padding: 0.3em;box-sizing: border-box;text-align: center;}#sk-container-id-6 label.sk-toggleable__label-arrow:before {content: \"▸\";float: left;margin-right: 0.25em;color: #696969;}#sk-container-id-6 label.sk-toggleable__label-arrow:hover:before {color: black;}#sk-container-id-6 div.sk-estimator:hover label.sk-toggleable__label-arrow:before {color: black;}#sk-container-id-6 div.sk-toggleable__content {max-height: 0;max-width: 0;overflow: hidden;text-align: left;background-color: #f0f8ff;}#sk-container-id-6 div.sk-toggleable__content pre {margin: 0.2em;color: black;border-radius: 0.25em;background-color: #f0f8ff;}#sk-container-id-6 input.sk-toggleable__control:checked~div.sk-toggleable__content {max-height: 200px;max-width: 100%;overflow: auto;}#sk-container-id-6 input.sk-toggleable__control:checked~label.sk-toggleable__label-arrow:before {content: \"▾\";}#sk-container-id-6 div.sk-estimator input.sk-toggleable__control:checked~label.sk-toggleable__label {background-color: #d4ebff;}#sk-container-id-6 div.sk-label input.sk-toggleable__control:checked~label.sk-toggleable__label {background-color: #d4ebff;}#sk-container-id-6 input.sk-hidden--visually {border: 0;clip: rect(1px 1px 1px 1px);clip: rect(1px, 1px, 1px, 1px);height: 1px;margin: -1px;overflow: hidden;padding: 0;position: absolute;width: 1px;}#sk-container-id-6 div.sk-estimator {font-family: monospace;background-color: #f0f8ff;border: 1px dotted black;border-radius: 0.25em;box-sizing: border-box;margin-bottom: 0.5em;}#sk-container-id-6 div.sk-estimator:hover {background-color: #d4ebff;}#sk-container-id-6 div.sk-parallel-item::after {content: \"\";width: 100%;border-bottom: 1px solid gray;flex-grow: 1;}#sk-container-id-6 div.sk-label:hover label.sk-toggleable__label {background-color: #d4ebff;}#sk-container-id-6 div.sk-serial::before {content: \"\";position: absolute;border-left: 1px solid gray;box-sizing: border-box;top: 0;bottom: 0;left: 50%;z-index: 0;}#sk-container-id-6 div.sk-serial {display: flex;flex-direction: column;align-items: center;background-color: white;padding-right: 0.2em;padding-left: 0.2em;position: relative;}#sk-container-id-6 div.sk-item {position: relative;z-index: 1;}#sk-container-id-6 div.sk-parallel {display: flex;align-items: stretch;justify-content: center;background-color: white;position: relative;}#sk-container-id-6 div.sk-item::before, #sk-container-id-6 div.sk-parallel-item::before {content: \"\";position: absolute;border-left: 1px solid gray;box-sizing: border-box;top: 0;bottom: 0;left: 50%;z-index: -1;}#sk-container-id-6 div.sk-parallel-item {display: flex;flex-direction: column;z-index: 1;position: relative;background-color: white;}#sk-container-id-6 div.sk-parallel-item:first-child::after {align-self: flex-end;width: 50%;}#sk-container-id-6 div.sk-parallel-item:last-child::after {align-self: flex-start;width: 50%;}#sk-container-id-6 div.sk-parallel-item:only-child::after {width: 0;}#sk-container-id-6 div.sk-dashed-wrapped {border: 1px dashed gray;margin: 0 0.4em 0.5em 0.4em;box-sizing: border-box;padding-bottom: 0.4em;background-color: white;}#sk-container-id-6 div.sk-label label {font-family: monospace;font-weight: bold;display: inline-block;line-height: 1.2em;}#sk-container-id-6 div.sk-label-container {text-align: center;}#sk-container-id-6 div.sk-container {/* jupyter's `normalize.less` sets `[hidden] { display: none; }` but bootstrap.min.css set `[hidden] { display: none !important; }` so we also need the `!important` here to be able to override the default hidden behavior on the sphinx rendered scikit-learn.org. See: https://github.com/scikit-learn/scikit-learn/issues/21755 */display: inline-block !important;position: relative;}#sk-container-id-6 div.sk-text-repr-fallback {display: none;}</style><div id=\"sk-container-id-6\" class=\"sk-top-container\"><div class=\"sk-text-repr-fallback\"><pre>SVC(class_weight={0: 4.568933823529412, 1: 0.5614411565394172})</pre><b>In a Jupyter environment, please rerun this cell to show the HTML representation or trust the notebook. <br />On GitHub, the HTML representation is unable to render, please try loading this page with nbviewer.org.</b></div><div class=\"sk-container\" hidden><div class=\"sk-item\"><div class=\"sk-estimator sk-toggleable\"><input class=\"sk-toggleable__control sk-hidden--visually\" id=\"sk-estimator-id-6\" type=\"checkbox\" checked><label for=\"sk-estimator-id-6\" class=\"sk-toggleable__label sk-toggleable__label-arrow\">SVC</label><div class=\"sk-toggleable__content\"><pre>SVC(class_weight={0: 4.568933823529412, 1: 0.5614411565394172})</pre></div></div></div></div></div>"
      ],
      "text/plain": [
       "SVC(class_weight={0: 4.568933823529412, 1: 0.5614411565394172})"
      ]
     },
     "execution_count": 35,
     "metadata": {},
     "output_type": "execute_result"
    }
   ],
   "source": [
    "clf = svm.SVC(class_weight = cw)\n",
    "clf.fit(vec_sine[train_mask], y[train_mask])"
   ]
  },
  {
   "cell_type": "code",
   "execution_count": 36,
   "id": "NiStgMvF44Q5",
   "metadata": {
    "colab": {
     "base_uri": "https://localhost:8080/"
    },
    "id": "NiStgMvF44Q5",
    "outputId": "00895ce3-b0a4-4cd9-a7a5-09f484964f79"
   },
   "outputs": [
    {
     "name": "stdout",
     "output_type": "stream",
     "text": [
      "              precision    recall  f1-score   support\n",
      "\n",
      "           0       0.67      0.56      0.61       135\n",
      "           1       0.93      0.96      0.94       860\n",
      "\n",
      "    accuracy                           0.90       995\n",
      "   macro avg       0.80      0.76      0.78       995\n",
      "weighted avg       0.90      0.90      0.90       995\n",
      "\n"
     ]
    }
   ],
   "source": [
    "sine_res = clf.predict(vec_sine[test_mask])\n",
    "svc_res.append(f1_score(y[test_mask], sine_res, average = 'macro'))\n",
    "print(classification_report(sine_res, y[test_mask]))"
   ]
  },
  {
   "cell_type": "code",
   "execution_count": 37,
   "id": "M7Z-4bU_otHj",
   "metadata": {
    "colab": {
     "base_uri": "https://localhost:8080/",
     "height": 237
    },
    "id": "M7Z-4bU_otHj",
    "outputId": "cc84f250-b9a5-4ea8-aef5-85fdb7983c67"
   },
   "outputs": [
    {
     "data": {
      "application/vnd.google.colaboratory.intrinsic+json": {
       "summary": "{\n  \"name\": \"pd\",\n  \"rows\": 6,\n  \"fields\": [\n    {\n      \"column\": \"f1_score\",\n      \"properties\": {\n        \"dtype\": \"number\",\n        \"std\": 0.24085891831125397,\n        \"min\": 0.20401286443855454,\n        \"max\": 0.7853163861755129,\n        \"num_unique_values\": 6,\n        \"samples\": [\n          0.7853163861755129,\n          0.7758181366298044,\n          0.20401286443855454\n        ],\n        \"semantic_type\": \"\",\n        \"description\": \"\"\n      }\n    }\n  ]\n}",
       "type": "dataframe"
      },
      "text/html": [
       "\n",
       "  <div id=\"df-65f99e28-3624-4fb4-99ee-c11192f4163a\" class=\"colab-df-container\">\n",
       "    <div>\n",
       "<style scoped>\n",
       "    .dataframe tbody tr th:only-of-type {\n",
       "        vertical-align: middle;\n",
       "    }\n",
       "\n",
       "    .dataframe tbody tr th {\n",
       "        vertical-align: top;\n",
       "    }\n",
       "\n",
       "    .dataframe thead th {\n",
       "        text-align: right;\n",
       "    }\n",
       "</style>\n",
       "<table border=\"1\" class=\"dataframe\">\n",
       "  <thead>\n",
       "    <tr style=\"text-align: right;\">\n",
       "      <th></th>\n",
       "      <th>f1_score</th>\n",
       "    </tr>\n",
       "  </thead>\n",
       "  <tbody>\n",
       "    <tr>\n",
       "      <th>hope</th>\n",
       "      <td>0.785316</td>\n",
       "    </tr>\n",
       "    <tr>\n",
       "      <th>sine</th>\n",
       "      <td>0.775818</td>\n",
       "    </tr>\n",
       "    <tr>\n",
       "      <th>grarep</th>\n",
       "      <td>0.771407</td>\n",
       "    </tr>\n",
       "    <tr>\n",
       "      <th>deepwalk</th>\n",
       "      <td>0.744368</td>\n",
       "    </tr>\n",
       "    <tr>\n",
       "      <th>node2vec</th>\n",
       "      <td>0.455487</td>\n",
       "    </tr>\n",
       "    <tr>\n",
       "      <th>svd</th>\n",
       "      <td>0.204013</td>\n",
       "    </tr>\n",
       "  </tbody>\n",
       "</table>\n",
       "</div>\n",
       "    <div class=\"colab-df-buttons\">\n",
       "\n",
       "  <div class=\"colab-df-container\">\n",
       "    <button class=\"colab-df-convert\" onclick=\"convertToInteractive('df-65f99e28-3624-4fb4-99ee-c11192f4163a')\"\n",
       "            title=\"Convert this dataframe to an interactive table.\"\n",
       "            style=\"display:none;\">\n",
       "\n",
       "  <svg xmlns=\"http://www.w3.org/2000/svg\" height=\"24px\" viewBox=\"0 -960 960 960\">\n",
       "    <path d=\"M120-120v-720h720v720H120Zm60-500h600v-160H180v160Zm220 220h160v-160H400v160Zm0 220h160v-160H400v160ZM180-400h160v-160H180v160Zm440 0h160v-160H620v160ZM180-180h160v-160H180v160Zm440 0h160v-160H620v160Z\"/>\n",
       "  </svg>\n",
       "    </button>\n",
       "\n",
       "  <style>\n",
       "    .colab-df-container {\n",
       "      display:flex;\n",
       "      gap: 12px;\n",
       "    }\n",
       "\n",
       "    .colab-df-convert {\n",
       "      background-color: #E8F0FE;\n",
       "      border: none;\n",
       "      border-radius: 50%;\n",
       "      cursor: pointer;\n",
       "      display: none;\n",
       "      fill: #1967D2;\n",
       "      height: 32px;\n",
       "      padding: 0 0 0 0;\n",
       "      width: 32px;\n",
       "    }\n",
       "\n",
       "    .colab-df-convert:hover {\n",
       "      background-color: #E2EBFA;\n",
       "      box-shadow: 0px 1px 2px rgba(60, 64, 67, 0.3), 0px 1px 3px 1px rgba(60, 64, 67, 0.15);\n",
       "      fill: #174EA6;\n",
       "    }\n",
       "\n",
       "    .colab-df-buttons div {\n",
       "      margin-bottom: 4px;\n",
       "    }\n",
       "\n",
       "    [theme=dark] .colab-df-convert {\n",
       "      background-color: #3B4455;\n",
       "      fill: #D2E3FC;\n",
       "    }\n",
       "\n",
       "    [theme=dark] .colab-df-convert:hover {\n",
       "      background-color: #434B5C;\n",
       "      box-shadow: 0px 1px 3px 1px rgba(0, 0, 0, 0.15);\n",
       "      filter: drop-shadow(0px 1px 2px rgba(0, 0, 0, 0.3));\n",
       "      fill: #FFFFFF;\n",
       "    }\n",
       "  </style>\n",
       "\n",
       "    <script>\n",
       "      const buttonEl =\n",
       "        document.querySelector('#df-65f99e28-3624-4fb4-99ee-c11192f4163a button.colab-df-convert');\n",
       "      buttonEl.style.display =\n",
       "        google.colab.kernel.accessAllowed ? 'block' : 'none';\n",
       "\n",
       "      async function convertToInteractive(key) {\n",
       "        const element = document.querySelector('#df-65f99e28-3624-4fb4-99ee-c11192f4163a');\n",
       "        const dataTable =\n",
       "          await google.colab.kernel.invokeFunction('convertToInteractive',\n",
       "                                                    [key], {});\n",
       "        if (!dataTable) return;\n",
       "\n",
       "        const docLinkHtml = 'Like what you see? Visit the ' +\n",
       "          '<a target=\"_blank\" href=https://colab.research.google.com/notebooks/data_table.ipynb>data table notebook</a>'\n",
       "          + ' to learn more about interactive tables.';\n",
       "        element.innerHTML = '';\n",
       "        dataTable['output_type'] = 'display_data';\n",
       "        await google.colab.output.renderOutput(dataTable, element);\n",
       "        const docLink = document.createElement('div');\n",
       "        docLink.innerHTML = docLinkHtml;\n",
       "        element.appendChild(docLink);\n",
       "      }\n",
       "    </script>\n",
       "  </div>\n",
       "\n",
       "\n",
       "<div id=\"df-59c8b393-2868-4993-97e4-0e7f43224e99\">\n",
       "  <button class=\"colab-df-quickchart\" onclick=\"quickchart('df-59c8b393-2868-4993-97e4-0e7f43224e99')\"\n",
       "            title=\"Suggest charts\"\n",
       "            style=\"display:none;\">\n",
       "\n",
       "<svg xmlns=\"http://www.w3.org/2000/svg\" height=\"24px\"viewBox=\"0 0 24 24\"\n",
       "     width=\"24px\">\n",
       "    <g>\n",
       "        <path d=\"M19 3H5c-1.1 0-2 .9-2 2v14c0 1.1.9 2 2 2h14c1.1 0 2-.9 2-2V5c0-1.1-.9-2-2-2zM9 17H7v-7h2v7zm4 0h-2V7h2v10zm4 0h-2v-4h2v4z\"/>\n",
       "    </g>\n",
       "</svg>\n",
       "  </button>\n",
       "\n",
       "<style>\n",
       "  .colab-df-quickchart {\n",
       "      --bg-color: #E8F0FE;\n",
       "      --fill-color: #1967D2;\n",
       "      --hover-bg-color: #E2EBFA;\n",
       "      --hover-fill-color: #174EA6;\n",
       "      --disabled-fill-color: #AAA;\n",
       "      --disabled-bg-color: #DDD;\n",
       "  }\n",
       "\n",
       "  [theme=dark] .colab-df-quickchart {\n",
       "      --bg-color: #3B4455;\n",
       "      --fill-color: #D2E3FC;\n",
       "      --hover-bg-color: #434B5C;\n",
       "      --hover-fill-color: #FFFFFF;\n",
       "      --disabled-bg-color: #3B4455;\n",
       "      --disabled-fill-color: #666;\n",
       "  }\n",
       "\n",
       "  .colab-df-quickchart {\n",
       "    background-color: var(--bg-color);\n",
       "    border: none;\n",
       "    border-radius: 50%;\n",
       "    cursor: pointer;\n",
       "    display: none;\n",
       "    fill: var(--fill-color);\n",
       "    height: 32px;\n",
       "    padding: 0;\n",
       "    width: 32px;\n",
       "  }\n",
       "\n",
       "  .colab-df-quickchart:hover {\n",
       "    background-color: var(--hover-bg-color);\n",
       "    box-shadow: 0 1px 2px rgba(60, 64, 67, 0.3), 0 1px 3px 1px rgba(60, 64, 67, 0.15);\n",
       "    fill: var(--button-hover-fill-color);\n",
       "  }\n",
       "\n",
       "  .colab-df-quickchart-complete:disabled,\n",
       "  .colab-df-quickchart-complete:disabled:hover {\n",
       "    background-color: var(--disabled-bg-color);\n",
       "    fill: var(--disabled-fill-color);\n",
       "    box-shadow: none;\n",
       "  }\n",
       "\n",
       "  .colab-df-spinner {\n",
       "    border: 2px solid var(--fill-color);\n",
       "    border-color: transparent;\n",
       "    border-bottom-color: var(--fill-color);\n",
       "    animation:\n",
       "      spin 1s steps(1) infinite;\n",
       "  }\n",
       "\n",
       "  @keyframes spin {\n",
       "    0% {\n",
       "      border-color: transparent;\n",
       "      border-bottom-color: var(--fill-color);\n",
       "      border-left-color: var(--fill-color);\n",
       "    }\n",
       "    20% {\n",
       "      border-color: transparent;\n",
       "      border-left-color: var(--fill-color);\n",
       "      border-top-color: var(--fill-color);\n",
       "    }\n",
       "    30% {\n",
       "      border-color: transparent;\n",
       "      border-left-color: var(--fill-color);\n",
       "      border-top-color: var(--fill-color);\n",
       "      border-right-color: var(--fill-color);\n",
       "    }\n",
       "    40% {\n",
       "      border-color: transparent;\n",
       "      border-right-color: var(--fill-color);\n",
       "      border-top-color: var(--fill-color);\n",
       "    }\n",
       "    60% {\n",
       "      border-color: transparent;\n",
       "      border-right-color: var(--fill-color);\n",
       "    }\n",
       "    80% {\n",
       "      border-color: transparent;\n",
       "      border-right-color: var(--fill-color);\n",
       "      border-bottom-color: var(--fill-color);\n",
       "    }\n",
       "    90% {\n",
       "      border-color: transparent;\n",
       "      border-bottom-color: var(--fill-color);\n",
       "    }\n",
       "  }\n",
       "</style>\n",
       "\n",
       "  <script>\n",
       "    async function quickchart(key) {\n",
       "      const quickchartButtonEl =\n",
       "        document.querySelector('#' + key + ' button');\n",
       "      quickchartButtonEl.disabled = true;  // To prevent multiple clicks.\n",
       "      quickchartButtonEl.classList.add('colab-df-spinner');\n",
       "      try {\n",
       "        const charts = await google.colab.kernel.invokeFunction(\n",
       "            'suggestCharts', [key], {});\n",
       "      } catch (error) {\n",
       "        console.error('Error during call to suggestCharts:', error);\n",
       "      }\n",
       "      quickchartButtonEl.classList.remove('colab-df-spinner');\n",
       "      quickchartButtonEl.classList.add('colab-df-quickchart-complete');\n",
       "    }\n",
       "    (() => {\n",
       "      let quickchartButtonEl =\n",
       "        document.querySelector('#df-59c8b393-2868-4993-97e4-0e7f43224e99 button');\n",
       "      quickchartButtonEl.style.display =\n",
       "        google.colab.kernel.accessAllowed ? 'block' : 'none';\n",
       "    })();\n",
       "  </script>\n",
       "</div>\n",
       "    </div>\n",
       "  </div>\n"
      ],
      "text/plain": [
       "          f1_score\n",
       "hope      0.785316\n",
       "sine      0.775818\n",
       "grarep    0.771407\n",
       "deepwalk  0.744368\n",
       "node2vec  0.455487\n",
       "svd       0.204013"
      ]
     },
     "execution_count": 37,
     "metadata": {},
     "output_type": "execute_result"
    }
   ],
   "source": [
    "pd.DataFrame(svc_res, columns=['f1_score'], index = ['svd','grarep','hope','deepwalk', 'node2vec', 'sine']).sort_values(by='f1_score', ascending = False)"
   ]
  },
  {
   "cell_type": "markdown",
   "id": "m2ITzILIsKbW",
   "metadata": {
    "id": "m2ITzILIsKbW"
   },
   "source": [
    "Лучший результат по f1-score показал метод SINE, который при обучении векторов использует атрибуты узлов. Атрибуты узлов в свою очередь являются своеобразными характеристика поведения пользователей, поэтому метод может быть очень показателен при наличии таких данных.\n",
    "\n",
    "Второе место у HOPE. Можно предположить, что это происходит из-за того, что HOPE, в отличие от остальных методов, рассматривает связи выше второго порядка, то есть углубляется в сеть и взаимосвязи между пользователями. В рамках взятых данных - социальная сеть с ретвитами - это может означать, что пользователи, разжигающие ненависть, имеют определенные не сразу заметные сходства.\n",
    "\n",
    "На последних местах svd и Node2Vec. Первое не вызывает особых вопросов, в связи с поверхностностью построения векторов. Node2Vec, вероятно, показывает плохой результат из-за неправильно подобрабных параметров при обучении векторов."
   ]
  },
  {
   "cell_type": "markdown",
   "id": "EYgs_z465ceS",
   "metadata": {
    "id": "EYgs_z465ceS"
   },
   "source": [
    "##### *Random Forest*"
   ]
  },
  {
   "cell_type": "markdown",
   "id": "NpKEjp5auNAF",
   "metadata": {
    "id": "NpKEjp5auNAF"
   },
   "source": [
    "Работает путем построения множества деревьев решений и объединения их предсказаний.\n"
   ]
  },
  {
   "cell_type": "code",
   "execution_count": 38,
   "id": "_aqMbpPe59w1",
   "metadata": {
    "colab": {
     "base_uri": "https://localhost:8080/",
     "height": 92
    },
    "id": "_aqMbpPe59w1",
    "outputId": "9d162019-2fbb-4700-d354-4de2ad56a179"
   },
   "outputs": [
    {
     "data": {
      "text/html": [
       "<style>#sk-container-id-7 {color: black;background-color: white;}#sk-container-id-7 pre{padding: 0;}#sk-container-id-7 div.sk-toggleable {background-color: white;}#sk-container-id-7 label.sk-toggleable__label {cursor: pointer;display: block;width: 100%;margin-bottom: 0;padding: 0.3em;box-sizing: border-box;text-align: center;}#sk-container-id-7 label.sk-toggleable__label-arrow:before {content: \"▸\";float: left;margin-right: 0.25em;color: #696969;}#sk-container-id-7 label.sk-toggleable__label-arrow:hover:before {color: black;}#sk-container-id-7 div.sk-estimator:hover label.sk-toggleable__label-arrow:before {color: black;}#sk-container-id-7 div.sk-toggleable__content {max-height: 0;max-width: 0;overflow: hidden;text-align: left;background-color: #f0f8ff;}#sk-container-id-7 div.sk-toggleable__content pre {margin: 0.2em;color: black;border-radius: 0.25em;background-color: #f0f8ff;}#sk-container-id-7 input.sk-toggleable__control:checked~div.sk-toggleable__content {max-height: 200px;max-width: 100%;overflow: auto;}#sk-container-id-7 input.sk-toggleable__control:checked~label.sk-toggleable__label-arrow:before {content: \"▾\";}#sk-container-id-7 div.sk-estimator input.sk-toggleable__control:checked~label.sk-toggleable__label {background-color: #d4ebff;}#sk-container-id-7 div.sk-label input.sk-toggleable__control:checked~label.sk-toggleable__label {background-color: #d4ebff;}#sk-container-id-7 input.sk-hidden--visually {border: 0;clip: rect(1px 1px 1px 1px);clip: rect(1px, 1px, 1px, 1px);height: 1px;margin: -1px;overflow: hidden;padding: 0;position: absolute;width: 1px;}#sk-container-id-7 div.sk-estimator {font-family: monospace;background-color: #f0f8ff;border: 1px dotted black;border-radius: 0.25em;box-sizing: border-box;margin-bottom: 0.5em;}#sk-container-id-7 div.sk-estimator:hover {background-color: #d4ebff;}#sk-container-id-7 div.sk-parallel-item::after {content: \"\";width: 100%;border-bottom: 1px solid gray;flex-grow: 1;}#sk-container-id-7 div.sk-label:hover label.sk-toggleable__label {background-color: #d4ebff;}#sk-container-id-7 div.sk-serial::before {content: \"\";position: absolute;border-left: 1px solid gray;box-sizing: border-box;top: 0;bottom: 0;left: 50%;z-index: 0;}#sk-container-id-7 div.sk-serial {display: flex;flex-direction: column;align-items: center;background-color: white;padding-right: 0.2em;padding-left: 0.2em;position: relative;}#sk-container-id-7 div.sk-item {position: relative;z-index: 1;}#sk-container-id-7 div.sk-parallel {display: flex;align-items: stretch;justify-content: center;background-color: white;position: relative;}#sk-container-id-7 div.sk-item::before, #sk-container-id-7 div.sk-parallel-item::before {content: \"\";position: absolute;border-left: 1px solid gray;box-sizing: border-box;top: 0;bottom: 0;left: 50%;z-index: -1;}#sk-container-id-7 div.sk-parallel-item {display: flex;flex-direction: column;z-index: 1;position: relative;background-color: white;}#sk-container-id-7 div.sk-parallel-item:first-child::after {align-self: flex-end;width: 50%;}#sk-container-id-7 div.sk-parallel-item:last-child::after {align-self: flex-start;width: 50%;}#sk-container-id-7 div.sk-parallel-item:only-child::after {width: 0;}#sk-container-id-7 div.sk-dashed-wrapped {border: 1px dashed gray;margin: 0 0.4em 0.5em 0.4em;box-sizing: border-box;padding-bottom: 0.4em;background-color: white;}#sk-container-id-7 div.sk-label label {font-family: monospace;font-weight: bold;display: inline-block;line-height: 1.2em;}#sk-container-id-7 div.sk-label-container {text-align: center;}#sk-container-id-7 div.sk-container {/* jupyter's `normalize.less` sets `[hidden] { display: none; }` but bootstrap.min.css set `[hidden] { display: none !important; }` so we also need the `!important` here to be able to override the default hidden behavior on the sphinx rendered scikit-learn.org. See: https://github.com/scikit-learn/scikit-learn/issues/21755 */display: inline-block !important;position: relative;}#sk-container-id-7 div.sk-text-repr-fallback {display: none;}</style><div id=\"sk-container-id-7\" class=\"sk-top-container\"><div class=\"sk-text-repr-fallback\"><pre>RandomForestClassifier(class_weight={0: 4.568933823529412,\n",
       "                                     1: 0.5614411565394172})</pre><b>In a Jupyter environment, please rerun this cell to show the HTML representation or trust the notebook. <br />On GitHub, the HTML representation is unable to render, please try loading this page with nbviewer.org.</b></div><div class=\"sk-container\" hidden><div class=\"sk-item\"><div class=\"sk-estimator sk-toggleable\"><input class=\"sk-toggleable__control sk-hidden--visually\" id=\"sk-estimator-id-7\" type=\"checkbox\" checked><label for=\"sk-estimator-id-7\" class=\"sk-toggleable__label sk-toggleable__label-arrow\">RandomForestClassifier</label><div class=\"sk-toggleable__content\"><pre>RandomForestClassifier(class_weight={0: 4.568933823529412,\n",
       "                                     1: 0.5614411565394172})</pre></div></div></div></div></div>"
      ],
      "text/plain": [
       "RandomForestClassifier(class_weight={0: 4.568933823529412,\n",
       "                                     1: 0.5614411565394172})"
      ]
     },
     "execution_count": 38,
     "metadata": {},
     "output_type": "execute_result"
    }
   ],
   "source": [
    "clf = RandomForestClassifier(class_weight = cw)\n",
    "clf.fit(vec_svd[train_mask], y[train_mask])"
   ]
  },
  {
   "cell_type": "code",
   "execution_count": 39,
   "id": "4nlga5AA59xM",
   "metadata": {
    "colab": {
     "base_uri": "https://localhost:8080/"
    },
    "id": "4nlga5AA59xM",
    "outputId": "7e83bc83-e132-4cc9-db85-7813a385ae31"
   },
   "outputs": [
    {
     "name": "stdout",
     "output_type": "stream",
     "text": [
      "              precision    recall  f1-score   support\n",
      "\n",
      "           0       0.68      0.11      0.19       699\n",
      "           1       0.29      0.88      0.44       296\n",
      "\n",
      "    accuracy                           0.34       995\n",
      "   macro avg       0.49      0.49      0.31       995\n",
      "weighted avg       0.56      0.34      0.26       995\n",
      "\n"
     ]
    }
   ],
   "source": [
    "svd_res = clf.predict(vec_svd[test_mask])\n",
    "rf_res = [f1_score(y[test_mask], svd_res, average = 'macro')]\n",
    "print(classification_report(svd_res, y[test_mask]))"
   ]
  },
  {
   "cell_type": "code",
   "execution_count": 40,
   "id": "iNhPVNJx59xN",
   "metadata": {
    "colab": {
     "base_uri": "https://localhost:8080/",
     "height": 92
    },
    "id": "iNhPVNJx59xN",
    "outputId": "2a1b71ac-de35-41e8-dfe2-8143f49ea8c9"
   },
   "outputs": [
    {
     "data": {
      "text/html": [
       "<style>#sk-container-id-8 {color: black;background-color: white;}#sk-container-id-8 pre{padding: 0;}#sk-container-id-8 div.sk-toggleable {background-color: white;}#sk-container-id-8 label.sk-toggleable__label {cursor: pointer;display: block;width: 100%;margin-bottom: 0;padding: 0.3em;box-sizing: border-box;text-align: center;}#sk-container-id-8 label.sk-toggleable__label-arrow:before {content: \"▸\";float: left;margin-right: 0.25em;color: #696969;}#sk-container-id-8 label.sk-toggleable__label-arrow:hover:before {color: black;}#sk-container-id-8 div.sk-estimator:hover label.sk-toggleable__label-arrow:before {color: black;}#sk-container-id-8 div.sk-toggleable__content {max-height: 0;max-width: 0;overflow: hidden;text-align: left;background-color: #f0f8ff;}#sk-container-id-8 div.sk-toggleable__content pre {margin: 0.2em;color: black;border-radius: 0.25em;background-color: #f0f8ff;}#sk-container-id-8 input.sk-toggleable__control:checked~div.sk-toggleable__content {max-height: 200px;max-width: 100%;overflow: auto;}#sk-container-id-8 input.sk-toggleable__control:checked~label.sk-toggleable__label-arrow:before {content: \"▾\";}#sk-container-id-8 div.sk-estimator input.sk-toggleable__control:checked~label.sk-toggleable__label {background-color: #d4ebff;}#sk-container-id-8 div.sk-label input.sk-toggleable__control:checked~label.sk-toggleable__label {background-color: #d4ebff;}#sk-container-id-8 input.sk-hidden--visually {border: 0;clip: rect(1px 1px 1px 1px);clip: rect(1px, 1px, 1px, 1px);height: 1px;margin: -1px;overflow: hidden;padding: 0;position: absolute;width: 1px;}#sk-container-id-8 div.sk-estimator {font-family: monospace;background-color: #f0f8ff;border: 1px dotted black;border-radius: 0.25em;box-sizing: border-box;margin-bottom: 0.5em;}#sk-container-id-8 div.sk-estimator:hover {background-color: #d4ebff;}#sk-container-id-8 div.sk-parallel-item::after {content: \"\";width: 100%;border-bottom: 1px solid gray;flex-grow: 1;}#sk-container-id-8 div.sk-label:hover label.sk-toggleable__label {background-color: #d4ebff;}#sk-container-id-8 div.sk-serial::before {content: \"\";position: absolute;border-left: 1px solid gray;box-sizing: border-box;top: 0;bottom: 0;left: 50%;z-index: 0;}#sk-container-id-8 div.sk-serial {display: flex;flex-direction: column;align-items: center;background-color: white;padding-right: 0.2em;padding-left: 0.2em;position: relative;}#sk-container-id-8 div.sk-item {position: relative;z-index: 1;}#sk-container-id-8 div.sk-parallel {display: flex;align-items: stretch;justify-content: center;background-color: white;position: relative;}#sk-container-id-8 div.sk-item::before, #sk-container-id-8 div.sk-parallel-item::before {content: \"\";position: absolute;border-left: 1px solid gray;box-sizing: border-box;top: 0;bottom: 0;left: 50%;z-index: -1;}#sk-container-id-8 div.sk-parallel-item {display: flex;flex-direction: column;z-index: 1;position: relative;background-color: white;}#sk-container-id-8 div.sk-parallel-item:first-child::after {align-self: flex-end;width: 50%;}#sk-container-id-8 div.sk-parallel-item:last-child::after {align-self: flex-start;width: 50%;}#sk-container-id-8 div.sk-parallel-item:only-child::after {width: 0;}#sk-container-id-8 div.sk-dashed-wrapped {border: 1px dashed gray;margin: 0 0.4em 0.5em 0.4em;box-sizing: border-box;padding-bottom: 0.4em;background-color: white;}#sk-container-id-8 div.sk-label label {font-family: monospace;font-weight: bold;display: inline-block;line-height: 1.2em;}#sk-container-id-8 div.sk-label-container {text-align: center;}#sk-container-id-8 div.sk-container {/* jupyter's `normalize.less` sets `[hidden] { display: none; }` but bootstrap.min.css set `[hidden] { display: none !important; }` so we also need the `!important` here to be able to override the default hidden behavior on the sphinx rendered scikit-learn.org. See: https://github.com/scikit-learn/scikit-learn/issues/21755 */display: inline-block !important;position: relative;}#sk-container-id-8 div.sk-text-repr-fallback {display: none;}</style><div id=\"sk-container-id-8\" class=\"sk-top-container\"><div class=\"sk-text-repr-fallback\"><pre>RandomForestClassifier(class_weight={0: 4.568933823529412,\n",
       "                                     1: 0.5614411565394172})</pre><b>In a Jupyter environment, please rerun this cell to show the HTML representation or trust the notebook. <br />On GitHub, the HTML representation is unable to render, please try loading this page with nbviewer.org.</b></div><div class=\"sk-container\" hidden><div class=\"sk-item\"><div class=\"sk-estimator sk-toggleable\"><input class=\"sk-toggleable__control sk-hidden--visually\" id=\"sk-estimator-id-8\" type=\"checkbox\" checked><label for=\"sk-estimator-id-8\" class=\"sk-toggleable__label sk-toggleable__label-arrow\">RandomForestClassifier</label><div class=\"sk-toggleable__content\"><pre>RandomForestClassifier(class_weight={0: 4.568933823529412,\n",
       "                                     1: 0.5614411565394172})</pre></div></div></div></div></div>"
      ],
      "text/plain": [
       "RandomForestClassifier(class_weight={0: 4.568933823529412,\n",
       "                                     1: 0.5614411565394172})"
      ]
     },
     "execution_count": 40,
     "metadata": {},
     "output_type": "execute_result"
    }
   ],
   "source": [
    "clf = RandomForestClassifier(class_weight = cw)\n",
    "clf.fit(vec_grarep[train_mask], y[train_mask])"
   ]
  },
  {
   "cell_type": "code",
   "execution_count": 41,
   "id": "DnZUOIM-59xN",
   "metadata": {
    "colab": {
     "base_uri": "https://localhost:8080/"
    },
    "id": "DnZUOIM-59xN",
    "outputId": "e9f87344-699c-41e8-d55c-2c677ed060a0"
   },
   "outputs": [
    {
     "name": "stdout",
     "output_type": "stream",
     "text": [
      "              precision    recall  f1-score   support\n",
      "\n",
      "           0       0.46      0.64      0.54        81\n",
      "           1       0.97      0.93      0.95       914\n",
      "\n",
      "    accuracy                           0.91       995\n",
      "   macro avg       0.72      0.79      0.74       995\n",
      "weighted avg       0.93      0.91      0.92       995\n",
      "\n"
     ]
    }
   ],
   "source": [
    "grarep_res = clf.predict(vec_grarep[test_mask])\n",
    "rf_res.append(f1_score(y[test_mask], grarep_res, average = 'macro'))\n",
    "print(classification_report(grarep_res, y[test_mask]))"
   ]
  },
  {
   "cell_type": "code",
   "execution_count": 42,
   "id": "wYAqwyXh59xO",
   "metadata": {
    "colab": {
     "base_uri": "https://localhost:8080/",
     "height": 92
    },
    "id": "wYAqwyXh59xO",
    "outputId": "2689619d-97ff-4ee0-ae85-b0bdfcd4da8c"
   },
   "outputs": [
    {
     "data": {
      "text/html": [
       "<style>#sk-container-id-9 {color: black;background-color: white;}#sk-container-id-9 pre{padding: 0;}#sk-container-id-9 div.sk-toggleable {background-color: white;}#sk-container-id-9 label.sk-toggleable__label {cursor: pointer;display: block;width: 100%;margin-bottom: 0;padding: 0.3em;box-sizing: border-box;text-align: center;}#sk-container-id-9 label.sk-toggleable__label-arrow:before {content: \"▸\";float: left;margin-right: 0.25em;color: #696969;}#sk-container-id-9 label.sk-toggleable__label-arrow:hover:before {color: black;}#sk-container-id-9 div.sk-estimator:hover label.sk-toggleable__label-arrow:before {color: black;}#sk-container-id-9 div.sk-toggleable__content {max-height: 0;max-width: 0;overflow: hidden;text-align: left;background-color: #f0f8ff;}#sk-container-id-9 div.sk-toggleable__content pre {margin: 0.2em;color: black;border-radius: 0.25em;background-color: #f0f8ff;}#sk-container-id-9 input.sk-toggleable__control:checked~div.sk-toggleable__content {max-height: 200px;max-width: 100%;overflow: auto;}#sk-container-id-9 input.sk-toggleable__control:checked~label.sk-toggleable__label-arrow:before {content: \"▾\";}#sk-container-id-9 div.sk-estimator input.sk-toggleable__control:checked~label.sk-toggleable__label {background-color: #d4ebff;}#sk-container-id-9 div.sk-label input.sk-toggleable__control:checked~label.sk-toggleable__label {background-color: #d4ebff;}#sk-container-id-9 input.sk-hidden--visually {border: 0;clip: rect(1px 1px 1px 1px);clip: rect(1px, 1px, 1px, 1px);height: 1px;margin: -1px;overflow: hidden;padding: 0;position: absolute;width: 1px;}#sk-container-id-9 div.sk-estimator {font-family: monospace;background-color: #f0f8ff;border: 1px dotted black;border-radius: 0.25em;box-sizing: border-box;margin-bottom: 0.5em;}#sk-container-id-9 div.sk-estimator:hover {background-color: #d4ebff;}#sk-container-id-9 div.sk-parallel-item::after {content: \"\";width: 100%;border-bottom: 1px solid gray;flex-grow: 1;}#sk-container-id-9 div.sk-label:hover label.sk-toggleable__label {background-color: #d4ebff;}#sk-container-id-9 div.sk-serial::before {content: \"\";position: absolute;border-left: 1px solid gray;box-sizing: border-box;top: 0;bottom: 0;left: 50%;z-index: 0;}#sk-container-id-9 div.sk-serial {display: flex;flex-direction: column;align-items: center;background-color: white;padding-right: 0.2em;padding-left: 0.2em;position: relative;}#sk-container-id-9 div.sk-item {position: relative;z-index: 1;}#sk-container-id-9 div.sk-parallel {display: flex;align-items: stretch;justify-content: center;background-color: white;position: relative;}#sk-container-id-9 div.sk-item::before, #sk-container-id-9 div.sk-parallel-item::before {content: \"\";position: absolute;border-left: 1px solid gray;box-sizing: border-box;top: 0;bottom: 0;left: 50%;z-index: -1;}#sk-container-id-9 div.sk-parallel-item {display: flex;flex-direction: column;z-index: 1;position: relative;background-color: white;}#sk-container-id-9 div.sk-parallel-item:first-child::after {align-self: flex-end;width: 50%;}#sk-container-id-9 div.sk-parallel-item:last-child::after {align-self: flex-start;width: 50%;}#sk-container-id-9 div.sk-parallel-item:only-child::after {width: 0;}#sk-container-id-9 div.sk-dashed-wrapped {border: 1px dashed gray;margin: 0 0.4em 0.5em 0.4em;box-sizing: border-box;padding-bottom: 0.4em;background-color: white;}#sk-container-id-9 div.sk-label label {font-family: monospace;font-weight: bold;display: inline-block;line-height: 1.2em;}#sk-container-id-9 div.sk-label-container {text-align: center;}#sk-container-id-9 div.sk-container {/* jupyter's `normalize.less` sets `[hidden] { display: none; }` but bootstrap.min.css set `[hidden] { display: none !important; }` so we also need the `!important` here to be able to override the default hidden behavior on the sphinx rendered scikit-learn.org. See: https://github.com/scikit-learn/scikit-learn/issues/21755 */display: inline-block !important;position: relative;}#sk-container-id-9 div.sk-text-repr-fallback {display: none;}</style><div id=\"sk-container-id-9\" class=\"sk-top-container\"><div class=\"sk-text-repr-fallback\"><pre>RandomForestClassifier(class_weight={0: 4.568933823529412,\n",
       "                                     1: 0.5614411565394172})</pre><b>In a Jupyter environment, please rerun this cell to show the HTML representation or trust the notebook. <br />On GitHub, the HTML representation is unable to render, please try loading this page with nbviewer.org.</b></div><div class=\"sk-container\" hidden><div class=\"sk-item\"><div class=\"sk-estimator sk-toggleable\"><input class=\"sk-toggleable__control sk-hidden--visually\" id=\"sk-estimator-id-9\" type=\"checkbox\" checked><label for=\"sk-estimator-id-9\" class=\"sk-toggleable__label sk-toggleable__label-arrow\">RandomForestClassifier</label><div class=\"sk-toggleable__content\"><pre>RandomForestClassifier(class_weight={0: 4.568933823529412,\n",
       "                                     1: 0.5614411565394172})</pre></div></div></div></div></div>"
      ],
      "text/plain": [
       "RandomForestClassifier(class_weight={0: 4.568933823529412,\n",
       "                                     1: 0.5614411565394172})"
      ]
     },
     "execution_count": 42,
     "metadata": {},
     "output_type": "execute_result"
    }
   ],
   "source": [
    "clf = RandomForestClassifier(class_weight = cw)\n",
    "clf.fit(vec_hope[train_mask], y[train_mask])"
   ]
  },
  {
   "cell_type": "code",
   "execution_count": 43,
   "id": "GVrP-hE459xO",
   "metadata": {
    "colab": {
     "base_uri": "https://localhost:8080/"
    },
    "id": "GVrP-hE459xO",
    "outputId": "e0dc4f15-47f3-42ee-e681-00a3b6b27903"
   },
   "outputs": [
    {
     "name": "stdout",
     "output_type": "stream",
     "text": [
      "              precision    recall  f1-score   support\n",
      "\n",
      "           0       0.39      0.76      0.52        58\n",
      "           1       0.98      0.93      0.95       937\n",
      "\n",
      "    accuracy                           0.92       995\n",
      "   macro avg       0.69      0.84      0.74       995\n",
      "weighted avg       0.95      0.92      0.93       995\n",
      "\n"
     ]
    }
   ],
   "source": [
    "hope_res = clf.predict(vec_hope[test_mask])\n",
    "rf_res.append(f1_score(y[test_mask], hope_res, average = 'macro'))\n",
    "print(classification_report(hope_res, y[test_mask]))"
   ]
  },
  {
   "cell_type": "code",
   "execution_count": 44,
   "id": "DaiKJjgx59xO",
   "metadata": {
    "colab": {
     "base_uri": "https://localhost:8080/",
     "height": 92
    },
    "id": "DaiKJjgx59xO",
    "outputId": "020197e4-ed26-4a4b-a833-32b8f9e03fb4"
   },
   "outputs": [
    {
     "data": {
      "text/html": [
       "<style>#sk-container-id-10 {color: black;background-color: white;}#sk-container-id-10 pre{padding: 0;}#sk-container-id-10 div.sk-toggleable {background-color: white;}#sk-container-id-10 label.sk-toggleable__label {cursor: pointer;display: block;width: 100%;margin-bottom: 0;padding: 0.3em;box-sizing: border-box;text-align: center;}#sk-container-id-10 label.sk-toggleable__label-arrow:before {content: \"▸\";float: left;margin-right: 0.25em;color: #696969;}#sk-container-id-10 label.sk-toggleable__label-arrow:hover:before {color: black;}#sk-container-id-10 div.sk-estimator:hover label.sk-toggleable__label-arrow:before {color: black;}#sk-container-id-10 div.sk-toggleable__content {max-height: 0;max-width: 0;overflow: hidden;text-align: left;background-color: #f0f8ff;}#sk-container-id-10 div.sk-toggleable__content pre {margin: 0.2em;color: black;border-radius: 0.25em;background-color: #f0f8ff;}#sk-container-id-10 input.sk-toggleable__control:checked~div.sk-toggleable__content {max-height: 200px;max-width: 100%;overflow: auto;}#sk-container-id-10 input.sk-toggleable__control:checked~label.sk-toggleable__label-arrow:before {content: \"▾\";}#sk-container-id-10 div.sk-estimator input.sk-toggleable__control:checked~label.sk-toggleable__label {background-color: #d4ebff;}#sk-container-id-10 div.sk-label input.sk-toggleable__control:checked~label.sk-toggleable__label {background-color: #d4ebff;}#sk-container-id-10 input.sk-hidden--visually {border: 0;clip: rect(1px 1px 1px 1px);clip: rect(1px, 1px, 1px, 1px);height: 1px;margin: -1px;overflow: hidden;padding: 0;position: absolute;width: 1px;}#sk-container-id-10 div.sk-estimator {font-family: monospace;background-color: #f0f8ff;border: 1px dotted black;border-radius: 0.25em;box-sizing: border-box;margin-bottom: 0.5em;}#sk-container-id-10 div.sk-estimator:hover {background-color: #d4ebff;}#sk-container-id-10 div.sk-parallel-item::after {content: \"\";width: 100%;border-bottom: 1px solid gray;flex-grow: 1;}#sk-container-id-10 div.sk-label:hover label.sk-toggleable__label {background-color: #d4ebff;}#sk-container-id-10 div.sk-serial::before {content: \"\";position: absolute;border-left: 1px solid gray;box-sizing: border-box;top: 0;bottom: 0;left: 50%;z-index: 0;}#sk-container-id-10 div.sk-serial {display: flex;flex-direction: column;align-items: center;background-color: white;padding-right: 0.2em;padding-left: 0.2em;position: relative;}#sk-container-id-10 div.sk-item {position: relative;z-index: 1;}#sk-container-id-10 div.sk-parallel {display: flex;align-items: stretch;justify-content: center;background-color: white;position: relative;}#sk-container-id-10 div.sk-item::before, #sk-container-id-10 div.sk-parallel-item::before {content: \"\";position: absolute;border-left: 1px solid gray;box-sizing: border-box;top: 0;bottom: 0;left: 50%;z-index: -1;}#sk-container-id-10 div.sk-parallel-item {display: flex;flex-direction: column;z-index: 1;position: relative;background-color: white;}#sk-container-id-10 div.sk-parallel-item:first-child::after {align-self: flex-end;width: 50%;}#sk-container-id-10 div.sk-parallel-item:last-child::after {align-self: flex-start;width: 50%;}#sk-container-id-10 div.sk-parallel-item:only-child::after {width: 0;}#sk-container-id-10 div.sk-dashed-wrapped {border: 1px dashed gray;margin: 0 0.4em 0.5em 0.4em;box-sizing: border-box;padding-bottom: 0.4em;background-color: white;}#sk-container-id-10 div.sk-label label {font-family: monospace;font-weight: bold;display: inline-block;line-height: 1.2em;}#sk-container-id-10 div.sk-label-container {text-align: center;}#sk-container-id-10 div.sk-container {/* jupyter's `normalize.less` sets `[hidden] { display: none; }` but bootstrap.min.css set `[hidden] { display: none !important; }` so we also need the `!important` here to be able to override the default hidden behavior on the sphinx rendered scikit-learn.org. See: https://github.com/scikit-learn/scikit-learn/issues/21755 */display: inline-block !important;position: relative;}#sk-container-id-10 div.sk-text-repr-fallback {display: none;}</style><div id=\"sk-container-id-10\" class=\"sk-top-container\"><div class=\"sk-text-repr-fallback\"><pre>RandomForestClassifier(class_weight={0: 4.568933823529412,\n",
       "                                     1: 0.5614411565394172})</pre><b>In a Jupyter environment, please rerun this cell to show the HTML representation or trust the notebook. <br />On GitHub, the HTML representation is unable to render, please try loading this page with nbviewer.org.</b></div><div class=\"sk-container\" hidden><div class=\"sk-item\"><div class=\"sk-estimator sk-toggleable\"><input class=\"sk-toggleable__control sk-hidden--visually\" id=\"sk-estimator-id-10\" type=\"checkbox\" checked><label for=\"sk-estimator-id-10\" class=\"sk-toggleable__label sk-toggleable__label-arrow\">RandomForestClassifier</label><div class=\"sk-toggleable__content\"><pre>RandomForestClassifier(class_weight={0: 4.568933823529412,\n",
       "                                     1: 0.5614411565394172})</pre></div></div></div></div></div>"
      ],
      "text/plain": [
       "RandomForestClassifier(class_weight={0: 4.568933823529412,\n",
       "                                     1: 0.5614411565394172})"
      ]
     },
     "execution_count": 44,
     "metadata": {},
     "output_type": "execute_result"
    }
   ],
   "source": [
    "clf = RandomForestClassifier(class_weight = cw)\n",
    "clf.fit(vec_deepwalk[train_mask], y[train_mask])"
   ]
  },
  {
   "cell_type": "code",
   "execution_count": 45,
   "id": "Re4jQPJs59xP",
   "metadata": {
    "colab": {
     "base_uri": "https://localhost:8080/"
    },
    "id": "Re4jQPJs59xP",
    "outputId": "1eff7934-cc24-441b-aadd-14524fd1a02e"
   },
   "outputs": [
    {
     "name": "stdout",
     "output_type": "stream",
     "text": [
      "              precision    recall  f1-score   support\n",
      "\n",
      "           0       0.09      0.91      0.16        11\n",
      "           1       1.00      0.90      0.94       984\n",
      "\n",
      "    accuracy                           0.90       995\n",
      "   macro avg       0.54      0.90      0.55       995\n",
      "weighted avg       0.99      0.90      0.94       995\n",
      "\n"
     ]
    }
   ],
   "source": [
    "deepwalk_res = clf.predict(vec_deepwalk[test_mask])\n",
    "rf_res.append(f1_score(y[test_mask], deepwalk_res, average = 'macro'))\n",
    "print(classification_report(deepwalk_res, y[test_mask]))"
   ]
  },
  {
   "cell_type": "code",
   "execution_count": 46,
   "id": "226BI_5I59xP",
   "metadata": {
    "colab": {
     "base_uri": "https://localhost:8080/",
     "height": 92
    },
    "id": "226BI_5I59xP",
    "outputId": "58bffad0-9f04-48d9-e3d3-05365e2d974f"
   },
   "outputs": [
    {
     "data": {
      "text/html": [
       "<style>#sk-container-id-11 {color: black;background-color: white;}#sk-container-id-11 pre{padding: 0;}#sk-container-id-11 div.sk-toggleable {background-color: white;}#sk-container-id-11 label.sk-toggleable__label {cursor: pointer;display: block;width: 100%;margin-bottom: 0;padding: 0.3em;box-sizing: border-box;text-align: center;}#sk-container-id-11 label.sk-toggleable__label-arrow:before {content: \"▸\";float: left;margin-right: 0.25em;color: #696969;}#sk-container-id-11 label.sk-toggleable__label-arrow:hover:before {color: black;}#sk-container-id-11 div.sk-estimator:hover label.sk-toggleable__label-arrow:before {color: black;}#sk-container-id-11 div.sk-toggleable__content {max-height: 0;max-width: 0;overflow: hidden;text-align: left;background-color: #f0f8ff;}#sk-container-id-11 div.sk-toggleable__content pre {margin: 0.2em;color: black;border-radius: 0.25em;background-color: #f0f8ff;}#sk-container-id-11 input.sk-toggleable__control:checked~div.sk-toggleable__content {max-height: 200px;max-width: 100%;overflow: auto;}#sk-container-id-11 input.sk-toggleable__control:checked~label.sk-toggleable__label-arrow:before {content: \"▾\";}#sk-container-id-11 div.sk-estimator input.sk-toggleable__control:checked~label.sk-toggleable__label {background-color: #d4ebff;}#sk-container-id-11 div.sk-label input.sk-toggleable__control:checked~label.sk-toggleable__label {background-color: #d4ebff;}#sk-container-id-11 input.sk-hidden--visually {border: 0;clip: rect(1px 1px 1px 1px);clip: rect(1px, 1px, 1px, 1px);height: 1px;margin: -1px;overflow: hidden;padding: 0;position: absolute;width: 1px;}#sk-container-id-11 div.sk-estimator {font-family: monospace;background-color: #f0f8ff;border: 1px dotted black;border-radius: 0.25em;box-sizing: border-box;margin-bottom: 0.5em;}#sk-container-id-11 div.sk-estimator:hover {background-color: #d4ebff;}#sk-container-id-11 div.sk-parallel-item::after {content: \"\";width: 100%;border-bottom: 1px solid gray;flex-grow: 1;}#sk-container-id-11 div.sk-label:hover label.sk-toggleable__label {background-color: #d4ebff;}#sk-container-id-11 div.sk-serial::before {content: \"\";position: absolute;border-left: 1px solid gray;box-sizing: border-box;top: 0;bottom: 0;left: 50%;z-index: 0;}#sk-container-id-11 div.sk-serial {display: flex;flex-direction: column;align-items: center;background-color: white;padding-right: 0.2em;padding-left: 0.2em;position: relative;}#sk-container-id-11 div.sk-item {position: relative;z-index: 1;}#sk-container-id-11 div.sk-parallel {display: flex;align-items: stretch;justify-content: center;background-color: white;position: relative;}#sk-container-id-11 div.sk-item::before, #sk-container-id-11 div.sk-parallel-item::before {content: \"\";position: absolute;border-left: 1px solid gray;box-sizing: border-box;top: 0;bottom: 0;left: 50%;z-index: -1;}#sk-container-id-11 div.sk-parallel-item {display: flex;flex-direction: column;z-index: 1;position: relative;background-color: white;}#sk-container-id-11 div.sk-parallel-item:first-child::after {align-self: flex-end;width: 50%;}#sk-container-id-11 div.sk-parallel-item:last-child::after {align-self: flex-start;width: 50%;}#sk-container-id-11 div.sk-parallel-item:only-child::after {width: 0;}#sk-container-id-11 div.sk-dashed-wrapped {border: 1px dashed gray;margin: 0 0.4em 0.5em 0.4em;box-sizing: border-box;padding-bottom: 0.4em;background-color: white;}#sk-container-id-11 div.sk-label label {font-family: monospace;font-weight: bold;display: inline-block;line-height: 1.2em;}#sk-container-id-11 div.sk-label-container {text-align: center;}#sk-container-id-11 div.sk-container {/* jupyter's `normalize.less` sets `[hidden] { display: none; }` but bootstrap.min.css set `[hidden] { display: none !important; }` so we also need the `!important` here to be able to override the default hidden behavior on the sphinx rendered scikit-learn.org. See: https://github.com/scikit-learn/scikit-learn/issues/21755 */display: inline-block !important;position: relative;}#sk-container-id-11 div.sk-text-repr-fallback {display: none;}</style><div id=\"sk-container-id-11\" class=\"sk-top-container\"><div class=\"sk-text-repr-fallback\"><pre>RandomForestClassifier(class_weight={0: 4.568933823529412,\n",
       "                                     1: 0.5614411565394172})</pre><b>In a Jupyter environment, please rerun this cell to show the HTML representation or trust the notebook. <br />On GitHub, the HTML representation is unable to render, please try loading this page with nbviewer.org.</b></div><div class=\"sk-container\" hidden><div class=\"sk-item\"><div class=\"sk-estimator sk-toggleable\"><input class=\"sk-toggleable__control sk-hidden--visually\" id=\"sk-estimator-id-11\" type=\"checkbox\" checked><label for=\"sk-estimator-id-11\" class=\"sk-toggleable__label sk-toggleable__label-arrow\">RandomForestClassifier</label><div class=\"sk-toggleable__content\"><pre>RandomForestClassifier(class_weight={0: 4.568933823529412,\n",
       "                                     1: 0.5614411565394172})</pre></div></div></div></div></div>"
      ],
      "text/plain": [
       "RandomForestClassifier(class_weight={0: 4.568933823529412,\n",
       "                                     1: 0.5614411565394172})"
      ]
     },
     "execution_count": 46,
     "metadata": {},
     "output_type": "execute_result"
    }
   ],
   "source": [
    "clf = RandomForestClassifier(class_weight = cw)\n",
    "clf.fit(vec_node2vec[train_mask], y[train_mask])"
   ]
  },
  {
   "cell_type": "code",
   "execution_count": 47,
   "id": "Z4I2DLNJ59xP",
   "metadata": {
    "colab": {
     "base_uri": "https://localhost:8080/"
    },
    "id": "Z4I2DLNJ59xP",
    "outputId": "3ad81e5e-f169-4fa9-fa50-30f2a2177c5a"
   },
   "outputs": [
    {
     "name": "stdout",
     "output_type": "stream",
     "text": [
      "              precision    recall  f1-score   support\n",
      "\n",
      "           0       0.00      0.00      0.00         5\n",
      "           1       0.99      0.89      0.94       990\n",
      "\n",
      "    accuracy                           0.88       995\n",
      "   macro avg       0.50      0.44      0.47       995\n",
      "weighted avg       0.99      0.88      0.93       995\n",
      "\n"
     ]
    }
   ],
   "source": [
    "node2vec_res = clf.predict(vec_node2vec[test_mask])\n",
    "rf_res.append(f1_score(y[test_mask], node2vec_res, average = 'macro'))\n",
    "print(classification_report(node2vec_res, y[test_mask]))"
   ]
  },
  {
   "cell_type": "code",
   "execution_count": 48,
   "id": "5-wQ9GlB59xQ",
   "metadata": {
    "colab": {
     "base_uri": "https://localhost:8080/",
     "height": 92
    },
    "id": "5-wQ9GlB59xQ",
    "outputId": "6e2087f4-5027-483a-ff12-b84e007f10a8"
   },
   "outputs": [
    {
     "data": {
      "text/html": [
       "<style>#sk-container-id-12 {color: black;background-color: white;}#sk-container-id-12 pre{padding: 0;}#sk-container-id-12 div.sk-toggleable {background-color: white;}#sk-container-id-12 label.sk-toggleable__label {cursor: pointer;display: block;width: 100%;margin-bottom: 0;padding: 0.3em;box-sizing: border-box;text-align: center;}#sk-container-id-12 label.sk-toggleable__label-arrow:before {content: \"▸\";float: left;margin-right: 0.25em;color: #696969;}#sk-container-id-12 label.sk-toggleable__label-arrow:hover:before {color: black;}#sk-container-id-12 div.sk-estimator:hover label.sk-toggleable__label-arrow:before {color: black;}#sk-container-id-12 div.sk-toggleable__content {max-height: 0;max-width: 0;overflow: hidden;text-align: left;background-color: #f0f8ff;}#sk-container-id-12 div.sk-toggleable__content pre {margin: 0.2em;color: black;border-radius: 0.25em;background-color: #f0f8ff;}#sk-container-id-12 input.sk-toggleable__control:checked~div.sk-toggleable__content {max-height: 200px;max-width: 100%;overflow: auto;}#sk-container-id-12 input.sk-toggleable__control:checked~label.sk-toggleable__label-arrow:before {content: \"▾\";}#sk-container-id-12 div.sk-estimator input.sk-toggleable__control:checked~label.sk-toggleable__label {background-color: #d4ebff;}#sk-container-id-12 div.sk-label input.sk-toggleable__control:checked~label.sk-toggleable__label {background-color: #d4ebff;}#sk-container-id-12 input.sk-hidden--visually {border: 0;clip: rect(1px 1px 1px 1px);clip: rect(1px, 1px, 1px, 1px);height: 1px;margin: -1px;overflow: hidden;padding: 0;position: absolute;width: 1px;}#sk-container-id-12 div.sk-estimator {font-family: monospace;background-color: #f0f8ff;border: 1px dotted black;border-radius: 0.25em;box-sizing: border-box;margin-bottom: 0.5em;}#sk-container-id-12 div.sk-estimator:hover {background-color: #d4ebff;}#sk-container-id-12 div.sk-parallel-item::after {content: \"\";width: 100%;border-bottom: 1px solid gray;flex-grow: 1;}#sk-container-id-12 div.sk-label:hover label.sk-toggleable__label {background-color: #d4ebff;}#sk-container-id-12 div.sk-serial::before {content: \"\";position: absolute;border-left: 1px solid gray;box-sizing: border-box;top: 0;bottom: 0;left: 50%;z-index: 0;}#sk-container-id-12 div.sk-serial {display: flex;flex-direction: column;align-items: center;background-color: white;padding-right: 0.2em;padding-left: 0.2em;position: relative;}#sk-container-id-12 div.sk-item {position: relative;z-index: 1;}#sk-container-id-12 div.sk-parallel {display: flex;align-items: stretch;justify-content: center;background-color: white;position: relative;}#sk-container-id-12 div.sk-item::before, #sk-container-id-12 div.sk-parallel-item::before {content: \"\";position: absolute;border-left: 1px solid gray;box-sizing: border-box;top: 0;bottom: 0;left: 50%;z-index: -1;}#sk-container-id-12 div.sk-parallel-item {display: flex;flex-direction: column;z-index: 1;position: relative;background-color: white;}#sk-container-id-12 div.sk-parallel-item:first-child::after {align-self: flex-end;width: 50%;}#sk-container-id-12 div.sk-parallel-item:last-child::after {align-self: flex-start;width: 50%;}#sk-container-id-12 div.sk-parallel-item:only-child::after {width: 0;}#sk-container-id-12 div.sk-dashed-wrapped {border: 1px dashed gray;margin: 0 0.4em 0.5em 0.4em;box-sizing: border-box;padding-bottom: 0.4em;background-color: white;}#sk-container-id-12 div.sk-label label {font-family: monospace;font-weight: bold;display: inline-block;line-height: 1.2em;}#sk-container-id-12 div.sk-label-container {text-align: center;}#sk-container-id-12 div.sk-container {/* jupyter's `normalize.less` sets `[hidden] { display: none; }` but bootstrap.min.css set `[hidden] { display: none !important; }` so we also need the `!important` here to be able to override the default hidden behavior on the sphinx rendered scikit-learn.org. See: https://github.com/scikit-learn/scikit-learn/issues/21755 */display: inline-block !important;position: relative;}#sk-container-id-12 div.sk-text-repr-fallback {display: none;}</style><div id=\"sk-container-id-12\" class=\"sk-top-container\"><div class=\"sk-text-repr-fallback\"><pre>RandomForestClassifier(class_weight={0: 4.568933823529412,\n",
       "                                     1: 0.5614411565394172})</pre><b>In a Jupyter environment, please rerun this cell to show the HTML representation or trust the notebook. <br />On GitHub, the HTML representation is unable to render, please try loading this page with nbviewer.org.</b></div><div class=\"sk-container\" hidden><div class=\"sk-item\"><div class=\"sk-estimator sk-toggleable\"><input class=\"sk-toggleable__control sk-hidden--visually\" id=\"sk-estimator-id-12\" type=\"checkbox\" checked><label for=\"sk-estimator-id-12\" class=\"sk-toggleable__label sk-toggleable__label-arrow\">RandomForestClassifier</label><div class=\"sk-toggleable__content\"><pre>RandomForestClassifier(class_weight={0: 4.568933823529412,\n",
       "                                     1: 0.5614411565394172})</pre></div></div></div></div></div>"
      ],
      "text/plain": [
       "RandomForestClassifier(class_weight={0: 4.568933823529412,\n",
       "                                     1: 0.5614411565394172})"
      ]
     },
     "execution_count": 48,
     "metadata": {},
     "output_type": "execute_result"
    }
   ],
   "source": [
    "clf = RandomForestClassifier(class_weight = cw)\n",
    "clf.fit(vec_sine[train_mask], y[train_mask])"
   ]
  },
  {
   "cell_type": "code",
   "execution_count": 49,
   "id": "n9ikuj7959xQ",
   "metadata": {
    "colab": {
     "base_uri": "https://localhost:8080/"
    },
    "id": "n9ikuj7959xQ",
    "outputId": "b5a156d8-3e85-4e54-e0c3-b8f90698afcc"
   },
   "outputs": [
    {
     "name": "stdout",
     "output_type": "stream",
     "text": [
      "              precision    recall  f1-score   support\n",
      "\n",
      "           0       0.39      0.86      0.54        51\n",
      "           1       0.99      0.93      0.96       944\n",
      "\n",
      "    accuracy                           0.92       995\n",
      "   macro avg       0.69      0.90      0.75       995\n",
      "weighted avg       0.96      0.92      0.94       995\n",
      "\n"
     ]
    }
   ],
   "source": [
    "sine_res = clf.predict(vec_sine[test_mask])\n",
    "rf_res.append(f1_score(y[test_mask], sine_res, average = 'macro'))\n",
    "print(classification_report(sine_res, y[test_mask]))"
   ]
  },
  {
   "cell_type": "code",
   "execution_count": 50,
   "id": "JlBxpxrcozbL",
   "metadata": {
    "colab": {
     "base_uri": "https://localhost:8080/",
     "height": 237
    },
    "id": "JlBxpxrcozbL",
    "outputId": "f28e3b59-6db3-416b-c54c-19f51e55733a"
   },
   "outputs": [
    {
     "data": {
      "application/vnd.google.colaboratory.intrinsic+json": {
       "summary": "{\n  \"name\": \"pd\",\n  \"rows\": 6,\n  \"fields\": [\n    {\n      \"column\": \"f1_score\",\n      \"properties\": {\n        \"dtype\": \"number\",\n        \"std\": 0.18037380019999852,\n        \"min\": 0.3142373367051222,\n        \"max\": 0.7494131987468142,\n        \"num_unique_values\": 6,\n        \"samples\": [\n          0.7494131987468142,\n          0.7446665571000604,\n          0.3142373367051222\n        ],\n        \"semantic_type\": \"\",\n        \"description\": \"\"\n      }\n    }\n  ]\n}",
       "type": "dataframe"
      },
      "text/html": [
       "\n",
       "  <div id=\"df-7649d539-24e1-4982-95e0-9676f053e087\" class=\"colab-df-container\">\n",
       "    <div>\n",
       "<style scoped>\n",
       "    .dataframe tbody tr th:only-of-type {\n",
       "        vertical-align: middle;\n",
       "    }\n",
       "\n",
       "    .dataframe tbody tr th {\n",
       "        vertical-align: top;\n",
       "    }\n",
       "\n",
       "    .dataframe thead th {\n",
       "        text-align: right;\n",
       "    }\n",
       "</style>\n",
       "<table border=\"1\" class=\"dataframe\">\n",
       "  <thead>\n",
       "    <tr style=\"text-align: right;\">\n",
       "      <th></th>\n",
       "      <th>f1_score</th>\n",
       "    </tr>\n",
       "  </thead>\n",
       "  <tbody>\n",
       "    <tr>\n",
       "      <th>sine</th>\n",
       "      <td>0.749413</td>\n",
       "    </tr>\n",
       "    <tr>\n",
       "      <th>grarep</th>\n",
       "      <td>0.744667</td>\n",
       "    </tr>\n",
       "    <tr>\n",
       "      <th>hope</th>\n",
       "      <td>0.736296</td>\n",
       "    </tr>\n",
       "    <tr>\n",
       "      <th>deepwalk</th>\n",
       "      <td>0.553716</td>\n",
       "    </tr>\n",
       "    <tr>\n",
       "      <th>node2vec</th>\n",
       "      <td>0.468767</td>\n",
       "    </tr>\n",
       "    <tr>\n",
       "      <th>svd</th>\n",
       "      <td>0.314237</td>\n",
       "    </tr>\n",
       "  </tbody>\n",
       "</table>\n",
       "</div>\n",
       "    <div class=\"colab-df-buttons\">\n",
       "\n",
       "  <div class=\"colab-df-container\">\n",
       "    <button class=\"colab-df-convert\" onclick=\"convertToInteractive('df-7649d539-24e1-4982-95e0-9676f053e087')\"\n",
       "            title=\"Convert this dataframe to an interactive table.\"\n",
       "            style=\"display:none;\">\n",
       "\n",
       "  <svg xmlns=\"http://www.w3.org/2000/svg\" height=\"24px\" viewBox=\"0 -960 960 960\">\n",
       "    <path d=\"M120-120v-720h720v720H120Zm60-500h600v-160H180v160Zm220 220h160v-160H400v160Zm0 220h160v-160H400v160ZM180-400h160v-160H180v160Zm440 0h160v-160H620v160ZM180-180h160v-160H180v160Zm440 0h160v-160H620v160Z\"/>\n",
       "  </svg>\n",
       "    </button>\n",
       "\n",
       "  <style>\n",
       "    .colab-df-container {\n",
       "      display:flex;\n",
       "      gap: 12px;\n",
       "    }\n",
       "\n",
       "    .colab-df-convert {\n",
       "      background-color: #E8F0FE;\n",
       "      border: none;\n",
       "      border-radius: 50%;\n",
       "      cursor: pointer;\n",
       "      display: none;\n",
       "      fill: #1967D2;\n",
       "      height: 32px;\n",
       "      padding: 0 0 0 0;\n",
       "      width: 32px;\n",
       "    }\n",
       "\n",
       "    .colab-df-convert:hover {\n",
       "      background-color: #E2EBFA;\n",
       "      box-shadow: 0px 1px 2px rgba(60, 64, 67, 0.3), 0px 1px 3px 1px rgba(60, 64, 67, 0.15);\n",
       "      fill: #174EA6;\n",
       "    }\n",
       "\n",
       "    .colab-df-buttons div {\n",
       "      margin-bottom: 4px;\n",
       "    }\n",
       "\n",
       "    [theme=dark] .colab-df-convert {\n",
       "      background-color: #3B4455;\n",
       "      fill: #D2E3FC;\n",
       "    }\n",
       "\n",
       "    [theme=dark] .colab-df-convert:hover {\n",
       "      background-color: #434B5C;\n",
       "      box-shadow: 0px 1px 3px 1px rgba(0, 0, 0, 0.15);\n",
       "      filter: drop-shadow(0px 1px 2px rgba(0, 0, 0, 0.3));\n",
       "      fill: #FFFFFF;\n",
       "    }\n",
       "  </style>\n",
       "\n",
       "    <script>\n",
       "      const buttonEl =\n",
       "        document.querySelector('#df-7649d539-24e1-4982-95e0-9676f053e087 button.colab-df-convert');\n",
       "      buttonEl.style.display =\n",
       "        google.colab.kernel.accessAllowed ? 'block' : 'none';\n",
       "\n",
       "      async function convertToInteractive(key) {\n",
       "        const element = document.querySelector('#df-7649d539-24e1-4982-95e0-9676f053e087');\n",
       "        const dataTable =\n",
       "          await google.colab.kernel.invokeFunction('convertToInteractive',\n",
       "                                                    [key], {});\n",
       "        if (!dataTable) return;\n",
       "\n",
       "        const docLinkHtml = 'Like what you see? Visit the ' +\n",
       "          '<a target=\"_blank\" href=https://colab.research.google.com/notebooks/data_table.ipynb>data table notebook</a>'\n",
       "          + ' to learn more about interactive tables.';\n",
       "        element.innerHTML = '';\n",
       "        dataTable['output_type'] = 'display_data';\n",
       "        await google.colab.output.renderOutput(dataTable, element);\n",
       "        const docLink = document.createElement('div');\n",
       "        docLink.innerHTML = docLinkHtml;\n",
       "        element.appendChild(docLink);\n",
       "      }\n",
       "    </script>\n",
       "  </div>\n",
       "\n",
       "\n",
       "<div id=\"df-262685c1-79f0-486b-89fc-ffe3bef229e9\">\n",
       "  <button class=\"colab-df-quickchart\" onclick=\"quickchart('df-262685c1-79f0-486b-89fc-ffe3bef229e9')\"\n",
       "            title=\"Suggest charts\"\n",
       "            style=\"display:none;\">\n",
       "\n",
       "<svg xmlns=\"http://www.w3.org/2000/svg\" height=\"24px\"viewBox=\"0 0 24 24\"\n",
       "     width=\"24px\">\n",
       "    <g>\n",
       "        <path d=\"M19 3H5c-1.1 0-2 .9-2 2v14c0 1.1.9 2 2 2h14c1.1 0 2-.9 2-2V5c0-1.1-.9-2-2-2zM9 17H7v-7h2v7zm4 0h-2V7h2v10zm4 0h-2v-4h2v4z\"/>\n",
       "    </g>\n",
       "</svg>\n",
       "  </button>\n",
       "\n",
       "<style>\n",
       "  .colab-df-quickchart {\n",
       "      --bg-color: #E8F0FE;\n",
       "      --fill-color: #1967D2;\n",
       "      --hover-bg-color: #E2EBFA;\n",
       "      --hover-fill-color: #174EA6;\n",
       "      --disabled-fill-color: #AAA;\n",
       "      --disabled-bg-color: #DDD;\n",
       "  }\n",
       "\n",
       "  [theme=dark] .colab-df-quickchart {\n",
       "      --bg-color: #3B4455;\n",
       "      --fill-color: #D2E3FC;\n",
       "      --hover-bg-color: #434B5C;\n",
       "      --hover-fill-color: #FFFFFF;\n",
       "      --disabled-bg-color: #3B4455;\n",
       "      --disabled-fill-color: #666;\n",
       "  }\n",
       "\n",
       "  .colab-df-quickchart {\n",
       "    background-color: var(--bg-color);\n",
       "    border: none;\n",
       "    border-radius: 50%;\n",
       "    cursor: pointer;\n",
       "    display: none;\n",
       "    fill: var(--fill-color);\n",
       "    height: 32px;\n",
       "    padding: 0;\n",
       "    width: 32px;\n",
       "  }\n",
       "\n",
       "  .colab-df-quickchart:hover {\n",
       "    background-color: var(--hover-bg-color);\n",
       "    box-shadow: 0 1px 2px rgba(60, 64, 67, 0.3), 0 1px 3px 1px rgba(60, 64, 67, 0.15);\n",
       "    fill: var(--button-hover-fill-color);\n",
       "  }\n",
       "\n",
       "  .colab-df-quickchart-complete:disabled,\n",
       "  .colab-df-quickchart-complete:disabled:hover {\n",
       "    background-color: var(--disabled-bg-color);\n",
       "    fill: var(--disabled-fill-color);\n",
       "    box-shadow: none;\n",
       "  }\n",
       "\n",
       "  .colab-df-spinner {\n",
       "    border: 2px solid var(--fill-color);\n",
       "    border-color: transparent;\n",
       "    border-bottom-color: var(--fill-color);\n",
       "    animation:\n",
       "      spin 1s steps(1) infinite;\n",
       "  }\n",
       "\n",
       "  @keyframes spin {\n",
       "    0% {\n",
       "      border-color: transparent;\n",
       "      border-bottom-color: var(--fill-color);\n",
       "      border-left-color: var(--fill-color);\n",
       "    }\n",
       "    20% {\n",
       "      border-color: transparent;\n",
       "      border-left-color: var(--fill-color);\n",
       "      border-top-color: var(--fill-color);\n",
       "    }\n",
       "    30% {\n",
       "      border-color: transparent;\n",
       "      border-left-color: var(--fill-color);\n",
       "      border-top-color: var(--fill-color);\n",
       "      border-right-color: var(--fill-color);\n",
       "    }\n",
       "    40% {\n",
       "      border-color: transparent;\n",
       "      border-right-color: var(--fill-color);\n",
       "      border-top-color: var(--fill-color);\n",
       "    }\n",
       "    60% {\n",
       "      border-color: transparent;\n",
       "      border-right-color: var(--fill-color);\n",
       "    }\n",
       "    80% {\n",
       "      border-color: transparent;\n",
       "      border-right-color: var(--fill-color);\n",
       "      border-bottom-color: var(--fill-color);\n",
       "    }\n",
       "    90% {\n",
       "      border-color: transparent;\n",
       "      border-bottom-color: var(--fill-color);\n",
       "    }\n",
       "  }\n",
       "</style>\n",
       "\n",
       "  <script>\n",
       "    async function quickchart(key) {\n",
       "      const quickchartButtonEl =\n",
       "        document.querySelector('#' + key + ' button');\n",
       "      quickchartButtonEl.disabled = true;  // To prevent multiple clicks.\n",
       "      quickchartButtonEl.classList.add('colab-df-spinner');\n",
       "      try {\n",
       "        const charts = await google.colab.kernel.invokeFunction(\n",
       "            'suggestCharts', [key], {});\n",
       "      } catch (error) {\n",
       "        console.error('Error during call to suggestCharts:', error);\n",
       "      }\n",
       "      quickchartButtonEl.classList.remove('colab-df-spinner');\n",
       "      quickchartButtonEl.classList.add('colab-df-quickchart-complete');\n",
       "    }\n",
       "    (() => {\n",
       "      let quickchartButtonEl =\n",
       "        document.querySelector('#df-262685c1-79f0-486b-89fc-ffe3bef229e9 button');\n",
       "      quickchartButtonEl.style.display =\n",
       "        google.colab.kernel.accessAllowed ? 'block' : 'none';\n",
       "    })();\n",
       "  </script>\n",
       "</div>\n",
       "    </div>\n",
       "  </div>\n"
      ],
      "text/plain": [
       "          f1_score\n",
       "sine      0.749413\n",
       "grarep    0.744667\n",
       "hope      0.736296\n",
       "deepwalk  0.553716\n",
       "node2vec  0.468767\n",
       "svd       0.314237"
      ]
     },
     "execution_count": 50,
     "metadata": {},
     "output_type": "execute_result"
    }
   ],
   "source": [
    "pd.DataFrame(rf_res, columns=['f1_score'], index = ['svd','grarep','hope','deepwalk', 'node2vec', 'sine']).sort_values(by='f1_score', ascending = False)"
   ]
  },
  {
   "cell_type": "markdown",
   "id": "LupUkJ5CuFLc",
   "metadata": {
    "id": "LupUkJ5CuFLc"
   },
   "source": [
    "В случае модели Случайного леса лучшим стал снова метод SINE.\n",
    "\n",
    "Можно еще выделить метод GraRep, который занял 2 место по f1-score, несмотря на относительно небольшую вычислительную мощность. Данный метод учитывает первостепенные и второстепенные связи, на основе которых, как показала практика, можно получить хорошие результаты классификации."
   ]
  },
  {
   "cell_type": "code",
   "execution_count": 51,
   "id": "lKNW9SaP6nU_",
   "metadata": {
    "colab": {
     "base_uri": "https://localhost:8080/",
     "height": 472
    },
    "id": "lKNW9SaP6nU_",
    "outputId": "ea2be46f-42b3-407d-e788-dc767821b24c"
   },
   "outputs": [
    {
     "data": {
      "image/png": "[encoded data removed]",
      "text/plain": [
       "<Figure size 640x480 with 1 Axes>"
      ]
     },
     "metadata": {},
     "output_type": "display_data"
    }
   ],
   "source": [
    "r = np.arange(6)\n",
    "width = 0.25\n",
    "\n",
    "plt.bar(r, svc_res, color = 'b', width = width, edgecolor = 'black', label='SVC')\n",
    "plt.bar(r + width, rf_res, color = 'g', width = width, edgecolor = 'black', label='Random Forest')\n",
    "\n",
    "plt.xlabel(\"Методы\")\n",
    "plt.ylabel(\"f1-score\")\n",
    "plt.title(\"Результаты классификации\")\n",
    "\n",
    "plt.xticks(r + width/2,['svd','grarep','hope','deepwalk', 'node2vec', 'sine'])\n",
    "plt.legend()\n",
    "plt.show()"
   ]
  },
  {
   "cell_type": "markdown",
   "id": "LRtsbNibvvNI",
   "metadata": {
    "id": "LRtsbNibvvNI"
   },
   "source": [
    "Обобщая результаты проведенной классификации двумя алгоритмами машинного обучения, можено сделать вывод, что для социальной сети лучше подходит SVC модель, которая находит оптимальную гиперплоскость для разделения классов. Так как данные имеют векторное представление, такой результат можно назвать закономерным\n",
    "\n",
    "Интересно, что DeepWalk, который использует только случайные блуждания для построения векторных представлений, имеет большое различие между f1-score"
   ]
  },
  {
   "cell_type": "markdown",
   "id": "jjP5jBLkHpFy",
   "metadata": {
    "id": "jjP5jBLkHpFy"
   },
   "source": [
    "#### *2.3.2. Нейронная сеть*"
   ]
  },
  {
   "cell_type": "markdown",
   "id": "yiLIIfFfySQK",
   "metadata": {
    "id": "yiLIIfFfySQK"
   },
   "source": [
    "Далее попробуем классифицировать узлы при помощи графовой сверточной сети.\n",
    "\n",
    "Сначала в качестве признаков узлов будем использовать атрибуты узлов, уменьшенные в размерности с помощью сингулярного разложения, а после - векторные представления узлов, полученные ранее"
   ]
  },
  {
   "cell_type": "code",
   "execution_count": 72,
   "id": "XhSl7LL9N3i5",
   "metadata": {
    "id": "XhSl7LL9N3i5"
   },
   "outputs": [],
   "source": [
    "class GCN(nn.Module):\n",
    "    def __init__(self, n_input, n_hidden, n_output):\n",
    "        super().__init__()\n",
    "        self.conv1 = GCNConv(n_input, n_hidden)\n",
    "        self.conv2 = GCNConv(n_hidden, n_output)\n",
    "\n",
    "    def forward(self, data):\n",
    "        x, edge_index = data.x, data.edge_index\n",
    "        x = F.relu(self.conv1(x, edge_index))\n",
    "        x = self.conv2(x, edge_index)\n",
    "        return x"
   ]
  },
  {
   "cell_type": "code",
   "execution_count": 73,
   "id": "Wn8n0n6Qy9Hp",
   "metadata": {
    "id": "Wn8n0n6Qy9Hp"
   },
   "outputs": [],
   "source": [
    "n_epochs = 301\n",
    "n_input = 32\n",
    "n_hidden = 128\n",
    "n_out = 2"
   ]
  },
  {
   "cell_type": "code",
   "execution_count": 74,
   "id": "GteC4sf4rzuy",
   "metadata": {
    "id": "GteC4sf4rzuy"
   },
   "outputs": [],
   "source": [
    "def visualize():\n",
    "  model.eval()\n",
    "  with torch.no_grad():\n",
    "      predictions = model(data)\n",
    "\n",
    "  for cl in labels.unique():\n",
    "      plt.scatter(predictions[cl == labels, 0], predictions[cl == labels, 1], label=str(cl.item()), linewidths = 5)\n",
    "  plt.legend()\n",
    "  plt.show()"
   ]
  },
  {
   "cell_type": "code",
   "execution_count": 75,
   "id": "ZcM_CyKQp8QW",
   "metadata": {
    "colab": {
     "base_uri": "https://localhost:8080/",
     "height": 471
    },
    "id": "ZcM_CyKQp8QW",
    "outputId": "176884ec-39a8-4056-8951-5a4edb7fe1ad"
   },
   "outputs": [
    {
     "data": {
      "image/png": "[encoded data removed]",
      "text/plain": [
       "<Figure size 640x480 with 1 Axes>"
      ]
     },
     "metadata": {},
     "output_type": "display_data"
    }
   ],
   "source": [
    "model = GCN(n_input, n_hidden, n_out)\n",
    "\n",
    "svd = TruncatedSVD(n_components=32)\n",
    "features32 = svd.fit_transform(df_features.fillna(df.mean(numeric_only=True)).to_numpy())\n",
    "\n",
    "labels = torch.tensor(y).to(torch.int64)\n",
    "edges = torch.tensor(list(G.edges)).t().contiguous().long()\n",
    "data = Data(x = torch.from_numpy(features32).to(torch.float32), edge_index = edges)\n",
    "\n",
    "plt.title('Предсказания необученной модели')\n",
    "visualize()"
   ]
  },
  {
   "cell_type": "code",
   "execution_count": 76,
   "id": "2ax2RdFaPzrc",
   "metadata": {
    "colab": {
     "base_uri": "https://localhost:8080/"
    },
    "id": "2ax2RdFaPzrc",
    "outputId": "99f82370-7d4f-4946-8075-c845a485e023"
   },
   "outputs": [
    {
     "name": "stdout",
     "output_type": "stream",
     "text": [
      "In epoch 0, train acc: 0.109, test acc: 0.113\n",
      "In epoch 20, train acc: 0.891, test acc: 0.887\n",
      "In epoch 40, train acc: 0.109, test acc: 0.114\n",
      "In epoch 60, train acc: 0.891, test acc: 0.887\n",
      "In epoch 80, train acc: 0.109, test acc: 0.114\n",
      "In epoch 100, train acc: 0.891, test acc: 0.887\n",
      "In epoch 120, train acc: 0.891, test acc: 0.886\n",
      "In epoch 140, train acc: 0.891, test acc: 0.887\n",
      "In epoch 160, train acc: 0.891, test acc: 0.887\n",
      "In epoch 180, train acc: 0.891, test acc: 0.887\n",
      "In epoch 200, train acc: 0.191, test acc: 0.188\n",
      "In epoch 220, train acc: 0.891, test acc: 0.887\n",
      "In epoch 240, train acc: 0.891, test acc: 0.887\n",
      "In epoch 260, train acc: 0.891, test acc: 0.887\n",
      "In epoch 280, train acc: 0.891, test acc: 0.887\n",
      "In epoch 300, train acc: 0.891, test acc: 0.887\n"
     ]
    }
   ],
   "source": [
    "model = GCN(n_input, n_hidden, n_out)\n",
    "\n",
    "optimizer = optim.Adam(model.parameters(), lr=.01)\n",
    "criterion = nn.CrossEntropyLoss()\n",
    "\n",
    "for epoch in range(n_epochs):\n",
    "    logits = model(data)\n",
    "    loss = criterion(logits[train_mask], labels[train_mask])\n",
    "\n",
    "    loss.backward()\n",
    "    optimizer.step()\n",
    "    optimizer.zero_grad()\n",
    "\n",
    "    with torch.no_grad():\n",
    "        predictions = logits.argmax(dim=1)\n",
    "        train_acc = (predictions[train_mask] == labels[train_mask]).float().mean()\n",
    "        test_acc = (predictions[test_mask] == labels[test_mask]).float().mean()\n",
    "\n",
    "    if not epoch % 20:\n",
    "        print(f'In epoch {epoch}, train acc: {train_acc:.3f}, test acc: {test_acc:.3f}')\n",
    "\n",
    "gcn_res = [f1_score(predictions[test_mask], labels[test_mask], average = 'macro')]"
   ]
  },
  {
   "cell_type": "code",
   "execution_count": 77,
   "id": "-RQGTg72sFAp",
   "metadata": {
    "colab": {
     "base_uri": "https://localhost:8080/",
     "height": 486
    },
    "id": "-RQGTg72sFAp",
    "outputId": "d6030f5c-2dd7-4661-eba5-93ec9ec54094"
   },
   "outputs": [
    {
     "data": {
      "image/png": "[encoded data removed]",
      "text/plain": [
       "<Figure size 640x480 with 1 Axes>"
      ]
     },
     "metadata": {},
     "output_type": "display_data"
    }
   ],
   "source": [
    "plt.title('Предсказания модели, обученной на атрибутах узлов')\n",
    "visualize()"
   ]
  },
  {
   "cell_type": "code",
   "execution_count": 78,
   "id": "Dst5N3hCjKE5",
   "metadata": {
    "colab": {
     "base_uri": "https://localhost:8080/"
    },
    "id": "Dst5N3hCjKE5",
    "outputId": "ae5b3119-7562-449b-b77d-3b26a6af9f61"
   },
   "outputs": [
    {
     "name": "stdout",
     "output_type": "stream",
     "text": [
      "In epoch 0, train acc: 0.362, test acc: 0.366\n",
      "In epoch 40, train acc: 0.892, test acc: 0.885\n",
      "In epoch 80, train acc: 0.897, test acc: 0.884\n",
      "In epoch 120, train acc: 0.907, test acc: 0.891\n",
      "In epoch 160, train acc: 0.920, test acc: 0.903\n",
      "In epoch 200, train acc: 0.926, test acc: 0.904\n",
      "In epoch 240, train acc: 0.927, test acc: 0.908\n",
      "In epoch 280, train acc: 0.930, test acc: 0.907\n"
     ]
    }
   ],
   "source": [
    "model = GCN(n_input, n_hidden, n_out)\n",
    "\n",
    "optimizer = optim.Adam(model.parameters(), lr=.01)\n",
    "criterion = nn.CrossEntropyLoss()\n",
    "\n",
    "data = Data(x = torch.from_numpy(vec_svd).to(torch.float32), edge_index = edges)\n",
    "\n",
    "for epoch in range(n_epochs):\n",
    "    logits = model(data)\n",
    "    loss = criterion(logits[train_mask], labels[train_mask])\n",
    "\n",
    "    loss.backward()\n",
    "    optimizer.step()\n",
    "    optimizer.zero_grad()\n",
    "\n",
    "    with torch.no_grad():\n",
    "        predictions = logits.argmax(dim=1)\n",
    "        train_acc = (predictions[train_mask] == labels[train_mask]).float().mean()\n",
    "        test_acc = (predictions[test_mask] == labels[test_mask]).float().mean()\n",
    "\n",
    "    if not epoch % 40:\n",
    "        print(f'In epoch {epoch}, train acc: {train_acc:.3f}, test acc: {test_acc:.3f}')\n",
    "\n",
    "gcn_res.append(f1_score(predictions[test_mask], labels[test_mask], average = 'macro'))"
   ]
  },
  {
   "cell_type": "code",
   "execution_count": 79,
   "id": "1GjQy1BZsKs7",
   "metadata": {
    "colab": {
     "base_uri": "https://localhost:8080/",
     "height": 452
    },
    "id": "1GjQy1BZsKs7",
    "outputId": "ca174a17-928c-4c4f-d8dc-dad6adfcf935"
   },
   "outputs": [
    {
     "data": {
      "image/png": "[encoded data removed]",
      "text/plain": [
       "<Figure size 640x480 with 1 Axes>"
      ]
     },
     "metadata": {},
     "output_type": "display_data"
    }
   ],
   "source": [
    "plt.title('Предсказания модели, обученной на векторах svd')\n",
    "visualize()"
   ]
  },
  {
   "cell_type": "code",
   "execution_count": 80,
   "id": "7ph1CkvHkjU0",
   "metadata": {
    "colab": {
     "base_uri": "https://localhost:8080/"
    },
    "id": "7ph1CkvHkjU0",
    "outputId": "95b5057a-b389-48a8-8a4c-7fe3cc9dbec8"
   },
   "outputs": [
    {
     "name": "stdout",
     "output_type": "stream",
     "text": [
      "In epoch 0, train acc: 0.693, test acc: 0.694\n",
      "In epoch 40, train acc: 0.908, test acc: 0.910\n",
      "In epoch 80, train acc: 0.912, test acc: 0.905\n",
      "In epoch 120, train acc: 0.889, test acc: 0.898\n",
      "In epoch 160, train acc: 0.894, test acc: 0.889\n",
      "In epoch 200, train acc: 0.910, test acc: 0.908\n",
      "In epoch 240, train acc: 0.917, test acc: 0.912\n",
      "In epoch 280, train acc: 0.924, test acc: 0.919\n"
     ]
    }
   ],
   "source": [
    "model = GCN(n_input, n_hidden, n_out)\n",
    "\n",
    "optimizer = optim.Adam(model.parameters(), lr=.01)\n",
    "criterion = nn.CrossEntropyLoss()\n",
    "\n",
    "data = Data(x = torch.from_numpy(vec_grarep).to(torch.float32), edge_index = edges)\n",
    "\n",
    "for epoch in range(n_epochs):\n",
    "    logits = model(data)\n",
    "    loss = criterion(logits[train_mask], labels[train_mask])\n",
    "\n",
    "    loss.backward()\n",
    "    optimizer.step()\n",
    "    optimizer.zero_grad()\n",
    "\n",
    "    with torch.no_grad():\n",
    "        predictions = logits.argmax(dim=1)\n",
    "        train_acc = (predictions[train_mask] == labels[train_mask]).float().mean()\n",
    "        test_acc = (predictions[test_mask] == labels[test_mask]).float().mean()\n",
    "\n",
    "    if not epoch % 40:\n",
    "        print(f'In epoch {epoch}, train acc: {train_acc:.3f}, test acc: {test_acc:.3f}')\n",
    "\n",
    "gcn_res.append(f1_score(predictions[test_mask], labels[test_mask], average = 'macro'))"
   ]
  },
  {
   "cell_type": "code",
   "execution_count": 81,
   "id": "Zdd6vnwfsMNW",
   "metadata": {
    "colab": {
     "base_uri": "https://localhost:8080/",
     "height": 452
    },
    "id": "Zdd6vnwfsMNW",
    "outputId": "bee26314-2ae9-4d66-dd1a-f8531a7c422c"
   },
   "outputs": [
    {
     "data": {
      "image/png": "[encoded data removed]",
      "text/plain": [
       "<Figure size 640x480 with 1 Axes>"
      ]
     },
     "metadata": {},
     "output_type": "display_data"
    }
   ],
   "source": [
    "plt.title('Предсказания модели, обученной на векторах GraRep')\n",
    "visualize()"
   ]
  },
  {
   "cell_type": "code",
   "execution_count": 82,
   "id": "6yRfY-dyk4kn",
   "metadata": {
    "colab": {
     "base_uri": "https://localhost:8080/"
    },
    "id": "6yRfY-dyk4kn",
    "outputId": "d5ac5873-eca9-41b7-aaf2-4643964d2f76"
   },
   "outputs": [
    {
     "name": "stdout",
     "output_type": "stream",
     "text": [
      "In epoch 0, train acc: 0.462, test acc: 0.454\n",
      "In epoch 40, train acc: 0.926, test acc: 0.918\n",
      "In epoch 80, train acc: 0.931, test acc: 0.920\n",
      "In epoch 120, train acc: 0.937, test acc: 0.923\n",
      "In epoch 160, train acc: 0.941, test acc: 0.918\n",
      "In epoch 200, train acc: 0.944, test acc: 0.922\n",
      "In epoch 240, train acc: 0.947, test acc: 0.918\n",
      "In epoch 280, train acc: 0.950, test acc: 0.919\n"
     ]
    }
   ],
   "source": [
    "model = GCN(n_input, n_hidden, n_out)\n",
    "\n",
    "optimizer = optim.Adam(model.parameters(), lr=.01)\n",
    "criterion = nn.CrossEntropyLoss()\n",
    "\n",
    "data = Data(x = torch.from_numpy(vec_hope).to(torch.float32), edge_index = edges)\n",
    "\n",
    "for epoch in range(n_epochs):\n",
    "    logits = model(data)\n",
    "    loss = criterion(logits[train_mask], labels[train_mask])\n",
    "\n",
    "    loss.backward()\n",
    "    optimizer.step()\n",
    "    optimizer.zero_grad()\n",
    "\n",
    "    with torch.no_grad():\n",
    "        predictions = logits.argmax(dim=1)\n",
    "        train_acc = (predictions[train_mask] == labels[train_mask]).float().mean()\n",
    "        test_acc = (predictions[test_mask] == labels[test_mask]).float().mean()\n",
    "\n",
    "    if not epoch % 40:\n",
    "        print(f'In epoch {epoch}, train acc: {train_acc:.3f}, test acc: {test_acc:.3f}')\n",
    "\n",
    "gcn_res.append(f1_score(predictions[test_mask], labels[test_mask], average = 'macro'))"
   ]
  },
  {
   "cell_type": "code",
   "execution_count": 83,
   "id": "RLQg2fiasQbo",
   "metadata": {
    "colab": {
     "base_uri": "https://localhost:8080/",
     "height": 452
    },
    "id": "RLQg2fiasQbo",
    "outputId": "891fc442-8f56-4373-a185-8e34ee86e061"
   },
   "outputs": [
    {
     "data": {
      "image/png": "[encoded data removed]",
      "text/plain": [
       "<Figure size 640x480 with 1 Axes>"
      ]
     },
     "metadata": {},
     "output_type": "display_data"
    }
   ],
   "source": [
    "plt.title('Предсказания модели, обученной на векторах HOPE')\n",
    "visualize()"
   ]
  },
  {
   "cell_type": "code",
   "execution_count": 84,
   "id": "A3zCWDgWlB08",
   "metadata": {
    "colab": {
     "base_uri": "https://localhost:8080/"
    },
    "id": "A3zCWDgWlB08",
    "outputId": "fccd8aca-3274-4cff-94a7-db01f63d892e"
   },
   "outputs": [
    {
     "name": "stdout",
     "output_type": "stream",
     "text": [
      "In epoch 0, train acc: 0.362, test acc: 0.349\n",
      "In epoch 40, train acc: 0.925, test acc: 0.920\n",
      "In epoch 80, train acc: 0.928, test acc: 0.916\n",
      "In epoch 120, train acc: 0.932, test acc: 0.918\n",
      "In epoch 160, train acc: 0.944, test acc: 0.916\n",
      "In epoch 200, train acc: 0.953, test acc: 0.913\n",
      "In epoch 240, train acc: 0.960, test acc: 0.905\n",
      "In epoch 280, train acc: 0.968, test acc: 0.898\n"
     ]
    }
   ],
   "source": [
    "model = GCN(n_input, n_hidden, n_out)\n",
    "\n",
    "optimizer = optim.Adam(model.parameters(), lr=.01)\n",
    "criterion = nn.CrossEntropyLoss()\n",
    "\n",
    "data = Data(x = torch.from_numpy(vec_deepwalk).to(torch.float32), edge_index = edges)\n",
    "\n",
    "for epoch in range(n_epochs):\n",
    "    logits = model(data)\n",
    "    loss = criterion(logits[train_mask], labels[train_mask])\n",
    "\n",
    "    loss.backward()\n",
    "    optimizer.step()\n",
    "    optimizer.zero_grad()\n",
    "\n",
    "    with torch.no_grad():\n",
    "        predictions = logits.argmax(dim=1)\n",
    "        train_acc = (predictions[train_mask] == labels[train_mask]).float().mean()\n",
    "        test_acc = (predictions[test_mask] == labels[test_mask]).float().mean()\n",
    "\n",
    "    if not epoch % 40:\n",
    "        print(f'In epoch {epoch}, train acc: {train_acc:.3f}, test acc: {test_acc:.3f}')\n",
    "\n",
    "gcn_res.append(f1_score(predictions[test_mask], labels[test_mask], average = 'macro'))"
   ]
  },
  {
   "cell_type": "code",
   "execution_count": 85,
   "id": "_pyOFVPxsRON",
   "metadata": {
    "colab": {
     "base_uri": "https://localhost:8080/",
     "height": 452
    },
    "id": "_pyOFVPxsRON",
    "outputId": "44373cb5-7928-41de-cd20-50503bf9eb8a"
   },
   "outputs": [
    {
     "data": {
      "image/png": "[encoded data removed]",
      "text/plain": [
       "<Figure size 640x480 with 1 Axes>"
      ]
     },
     "metadata": {},
     "output_type": "display_data"
    }
   ],
   "source": [
    "plt.title('Предсказания модели, обученной на векторах DeepWalk')\n",
    "visualize()"
   ]
  },
  {
   "cell_type": "code",
   "execution_count": 86,
   "id": "mXnisBnrlSW4",
   "metadata": {
    "colab": {
     "base_uri": "https://localhost:8080/"
    },
    "id": "mXnisBnrlSW4",
    "outputId": "c1c8f009-a264-42ab-a28a-089a701ab929"
   },
   "outputs": [
    {
     "name": "stdout",
     "output_type": "stream",
     "text": [
      "In epoch 0, train acc: 0.198, test acc: 0.191\n",
      "In epoch 40, train acc: 0.892, test acc: 0.887\n",
      "In epoch 80, train acc: 0.901, test acc: 0.896\n",
      "In epoch 120, train acc: 0.916, test acc: 0.899\n",
      "In epoch 160, train acc: 0.924, test acc: 0.899\n",
      "In epoch 200, train acc: 0.929, test acc: 0.904\n",
      "In epoch 240, train acc: 0.935, test acc: 0.906\n",
      "In epoch 280, train acc: 0.939, test acc: 0.899\n"
     ]
    }
   ],
   "source": [
    "model = GCN(n_input, n_hidden, n_out)\n",
    "\n",
    "optimizer = optim.Adam(model.parameters(), lr=.01)\n",
    "criterion = nn.CrossEntropyLoss()\n",
    "\n",
    "data = Data(x = torch.from_numpy(vec_node2vec).to(torch.float32), edge_index = edges)\n",
    "\n",
    "for epoch in range(n_epochs):\n",
    "    logits = model(data)\n",
    "    loss = criterion(logits[train_mask], labels[train_mask])\n",
    "\n",
    "    loss.backward()\n",
    "    optimizer.step()\n",
    "    optimizer.zero_grad()\n",
    "\n",
    "    with torch.no_grad():\n",
    "        predictions = logits.argmax(dim=1)\n",
    "        train_acc = (predictions[train_mask] == labels[train_mask]).float().mean()\n",
    "        test_acc = (predictions[test_mask] == labels[test_mask]).float().mean()\n",
    "\n",
    "    if not epoch % 40:\n",
    "        print(f'In epoch {epoch}, train acc: {train_acc:.3f}, test acc: {test_acc:.3f}')\n",
    "\n",
    "gcn_res.append(f1_score(predictions[test_mask], labels[test_mask], average = 'macro'))"
   ]
  },
  {
   "cell_type": "code",
   "execution_count": 87,
   "id": "KtXzg8pMsSfX",
   "metadata": {
    "colab": {
     "base_uri": "https://localhost:8080/",
     "height": 452
    },
    "id": "KtXzg8pMsSfX",
    "outputId": "3b7c938b-2c18-4488-ccd7-8f15e39669f2"
   },
   "outputs": [
    {
     "data": {
      "image/png": "[encoded data removed]",
      "text/plain": [
       "<Figure size 640x480 with 1 Axes>"
      ]
     },
     "metadata": {},
     "output_type": "display_data"
    }
   ],
   "source": [
    "plt.title('Предсказания модели, обученной на векторах Node2Vec')\n",
    "visualize()"
   ]
  },
  {
   "cell_type": "code",
   "execution_count": 88,
   "id": "Fk2AqOTblaC6",
   "metadata": {
    "colab": {
     "base_uri": "https://localhost:8080/"
    },
    "id": "Fk2AqOTblaC6",
    "outputId": "9ab51df4-c907-4342-c89c-74597357045e"
   },
   "outputs": [
    {
     "name": "stdout",
     "output_type": "stream",
     "text": [
      "In epoch 0, train acc: 0.397, test acc: 0.422\n",
      "In epoch 40, train acc: 0.922, test acc: 0.923\n",
      "In epoch 80, train acc: 0.926, test acc: 0.921\n",
      "In epoch 120, train acc: 0.929, test acc: 0.921\n",
      "In epoch 160, train acc: 0.933, test acc: 0.920\n",
      "In epoch 200, train acc: 0.932, test acc: 0.920\n",
      "In epoch 240, train acc: 0.935, test acc: 0.921\n",
      "In epoch 280, train acc: 0.940, test acc: 0.917\n"
     ]
    }
   ],
   "source": [
    "model = GCN(n_input, n_hidden, n_out)\n",
    "\n",
    "optimizer = optim.Adam(model.parameters(), lr=.01)\n",
    "criterion = nn.CrossEntropyLoss()\n",
    "\n",
    "data = Data(x = torch.from_numpy(vec_sine).to(torch.float32), edge_index = edges)\n",
    "\n",
    "for epoch in range(n_epochs):\n",
    "    logits = model(data)\n",
    "    loss = criterion(logits[train_mask], labels[train_mask])\n",
    "\n",
    "    loss.backward()\n",
    "    optimizer.step()\n",
    "    optimizer.zero_grad()\n",
    "\n",
    "    with torch.no_grad():\n",
    "        predictions = logits.argmax(dim=1)\n",
    "        train_acc = (predictions[train_mask] == labels[train_mask]).float().mean()\n",
    "        test_acc = (predictions[test_mask] == labels[test_mask]).float().mean()\n",
    "\n",
    "    if not epoch % 40:\n",
    "        print(f'In epoch {epoch}, train acc: {train_acc:.3f}, test acc: {test_acc:.3f}')\n",
    "\n",
    "gcn_res.append(f1_score(predictions[test_mask], labels[test_mask], average = 'macro'))"
   ]
  },
  {
   "cell_type": "code",
   "execution_count": 89,
   "id": "FhANcVrTqUor",
   "metadata": {
    "colab": {
     "base_uri": "https://localhost:8080/",
     "height": 452
    },
    "id": "FhANcVrTqUor",
    "outputId": "f1bde7c6-150b-4152-d2c5-a7ed43795465"
   },
   "outputs": [
    {
     "data": {
      "image/png": "[encoded data removed]",
      "text/plain": [
       "<Figure size 640x480 with 1 Axes>"
      ]
     },
     "metadata": {},
     "output_type": "display_data"
    }
   ],
   "source": [
    "plt.title('Предсказания модели, обученной на векторах SINE')\n",
    "visualize()"
   ]
  },
  {
   "cell_type": "code",
   "execution_count": 90,
   "id": "N9_NZAx6lgxJ",
   "metadata": {
    "colab": {
     "base_uri": "https://localhost:8080/",
     "height": 472
    },
    "id": "N9_NZAx6lgxJ",
    "outputId": "d51ef499-4daf-4340-b6b9-add778aa8f94"
   },
   "outputs": [
    {
     "data": {
      "image/png": "[encoded data removed]",
      "text/plain": [
       "<Figure size 640x480 with 1 Axes>"
      ]
     },
     "metadata": {},
     "output_type": "display_data"
    }
   ],
   "source": [
    "r = np.arange(7)\n",
    "\n",
    "plt.bar(r, gcn_res, color = 'b', edgecolor = 'black')\n",
    "\n",
    "plt.xlabel(\"Методы\")\n",
    "plt.ylabel(\"f1-score\")\n",
    "plt.title(\"Результаты классификации с помощью GCN\")\n",
    "\n",
    "plt.xticks(r,['features', 'svd','grarep','hope','deepwalk', 'node2vec', 'sine'])\n",
    "plt.show()"
   ]
  },
  {
   "cell_type": "code",
   "execution_count": 91,
   "id": "PcpfAQN-mUUW",
   "metadata": {
    "colab": {
     "base_uri": "https://localhost:8080/",
     "height": 269
    },
    "id": "PcpfAQN-mUUW",
    "outputId": "2a2474b9-4f5a-4ba6-df82-f6e8bed56740"
   },
   "outputs": [
    {
     "data": {
      "application/vnd.google.colaboratory.intrinsic+json": {
       "summary": "{\n  \"name\": \"pd\",\n  \"rows\": 7,\n  \"fields\": [\n    {\n      \"column\": \"f1_score\",\n      \"properties\": {\n        \"dtype\": \"number\",\n        \"std\": 0.10161850394683375,\n        \"min\": 0.47018104366347174,\n        \"max\": 0.7722658239997637,\n        \"num_unique_values\": 7,\n        \"samples\": [\n          0.7722658239997637,\n          0.7520482835748323,\n          0.6944422664784904\n        ],\n        \"semantic_type\": \"\",\n        \"description\": \"\"\n      }\n    }\n  ]\n}",
       "type": "dataframe"
      },
      "text/html": [
       "\n",
       "  <div id=\"df-7255d435-4cab-49ef-ae5d-70f450105922\" class=\"colab-df-container\">\n",
       "    <div>\n",
       "<style scoped>\n",
       "    .dataframe tbody tr th:only-of-type {\n",
       "        vertical-align: middle;\n",
       "    }\n",
       "\n",
       "    .dataframe tbody tr th {\n",
       "        vertical-align: top;\n",
       "    }\n",
       "\n",
       "    .dataframe thead th {\n",
       "        text-align: right;\n",
       "    }\n",
       "</style>\n",
       "<table border=\"1\" class=\"dataframe\">\n",
       "  <thead>\n",
       "    <tr style=\"text-align: right;\">\n",
       "      <th></th>\n",
       "      <th>f1_score</th>\n",
       "    </tr>\n",
       "  </thead>\n",
       "  <tbody>\n",
       "    <tr>\n",
       "      <th>grarep</th>\n",
       "      <td>0.772266</td>\n",
       "    </tr>\n",
       "    <tr>\n",
       "      <th>hope</th>\n",
       "      <td>0.752048</td>\n",
       "    </tr>\n",
       "    <tr>\n",
       "      <th>sine</th>\n",
       "      <td>0.738222</td>\n",
       "    </tr>\n",
       "    <tr>\n",
       "      <th>deepwalk</th>\n",
       "      <td>0.710950</td>\n",
       "    </tr>\n",
       "    <tr>\n",
       "      <th>node2vec</th>\n",
       "      <td>0.706296</td>\n",
       "    </tr>\n",
       "    <tr>\n",
       "      <th>svd</th>\n",
       "      <td>0.694442</td>\n",
       "    </tr>\n",
       "    <tr>\n",
       "      <th>features</th>\n",
       "      <td>0.470181</td>\n",
       "    </tr>\n",
       "  </tbody>\n",
       "</table>\n",
       "</div>\n",
       "    <div class=\"colab-df-buttons\">\n",
       "\n",
       "  <div class=\"colab-df-container\">\n",
       "    <button class=\"colab-df-convert\" onclick=\"convertToInteractive('df-7255d435-4cab-49ef-ae5d-70f450105922')\"\n",
       "            title=\"Convert this dataframe to an interactive table.\"\n",
       "            style=\"display:none;\">\n",
       "\n",
       "  <svg xmlns=\"http://www.w3.org/2000/svg\" height=\"24px\" viewBox=\"0 -960 960 960\">\n",
       "    <path d=\"M120-120v-720h720v720H120Zm60-500h600v-160H180v160Zm220 220h160v-160H400v160Zm0 220h160v-160H400v160ZM180-400h160v-160H180v160Zm440 0h160v-160H620v160ZM180-180h160v-160H180v160Zm440 0h160v-160H620v160Z\"/>\n",
       "  </svg>\n",
       "    </button>\n",
       "\n",
       "  <style>\n",
       "    .colab-df-container {\n",
       "      display:flex;\n",
       "      gap: 12px;\n",
       "    }\n",
       "\n",
       "    .colab-df-convert {\n",
       "      background-color: #E8F0FE;\n",
       "      border: none;\n",
       "      border-radius: 50%;\n",
       "      cursor: pointer;\n",
       "      display: none;\n",
       "      fill: #1967D2;\n",
       "      height: 32px;\n",
       "      padding: 0 0 0 0;\n",
       "      width: 32px;\n",
       "    }\n",
       "\n",
       "    .colab-df-convert:hover {\n",
       "      background-color: #E2EBFA;\n",
       "      box-shadow: 0px 1px 2px rgba(60, 64, 67, 0.3), 0px 1px 3px 1px rgba(60, 64, 67, 0.15);\n",
       "      fill: #174EA6;\n",
       "    }\n",
       "\n",
       "    .colab-df-buttons div {\n",
       "      margin-bottom: 4px;\n",
       "    }\n",
       "\n",
       "    [theme=dark] .colab-df-convert {\n",
       "      background-color: #3B4455;\n",
       "      fill: #D2E3FC;\n",
       "    }\n",
       "\n",
       "    [theme=dark] .colab-df-convert:hover {\n",
       "      background-color: #434B5C;\n",
       "      box-shadow: 0px 1px 3px 1px rgba(0, 0, 0, 0.15);\n",
       "      filter: drop-shadow(0px 1px 2px rgba(0, 0, 0, 0.3));\n",
       "      fill: #FFFFFF;\n",
       "    }\n",
       "  </style>\n",
       "\n",
       "    <script>\n",
       "      const buttonEl =\n",
       "        document.querySelector('#df-7255d435-4cab-49ef-ae5d-70f450105922 button.colab-df-convert');\n",
       "      buttonEl.style.display =\n",
       "        google.colab.kernel.accessAllowed ? 'block' : 'none';\n",
       "\n",
       "      async function convertToInteractive(key) {\n",
       "        const element = document.querySelector('#df-7255d435-4cab-49ef-ae5d-70f450105922');\n",
       "        const dataTable =\n",
       "          await google.colab.kernel.invokeFunction('convertToInteractive',\n",
       "                                                    [key], {});\n",
       "        if (!dataTable) return;\n",
       "\n",
       "        const docLinkHtml = 'Like what you see? Visit the ' +\n",
       "          '<a target=\"_blank\" href=https://colab.research.google.com/notebooks/data_table.ipynb>data table notebook</a>'\n",
       "          + ' to learn more about interactive tables.';\n",
       "        element.innerHTML = '';\n",
       "        dataTable['output_type'] = 'display_data';\n",
       "        await google.colab.output.renderOutput(dataTable, element);\n",
       "        const docLink = document.createElement('div');\n",
       "        docLink.innerHTML = docLinkHtml;\n",
       "        element.appendChild(docLink);\n",
       "      }\n",
       "    </script>\n",
       "  </div>\n",
       "\n",
       "\n",
       "<div id=\"df-7f381fed-c3af-45d4-8558-4ec747d77eb8\">\n",
       "  <button class=\"colab-df-quickchart\" onclick=\"quickchart('df-7f381fed-c3af-45d4-8558-4ec747d77eb8')\"\n",
       "            title=\"Suggest charts\"\n",
       "            style=\"display:none;\">\n",
       "\n",
       "<svg xmlns=\"http://www.w3.org/2000/svg\" height=\"24px\"viewBox=\"0 0 24 24\"\n",
       "     width=\"24px\">\n",
       "    <g>\n",
       "        <path d=\"M19 3H5c-1.1 0-2 .9-2 2v14c0 1.1.9 2 2 2h14c1.1 0 2-.9 2-2V5c0-1.1-.9-2-2-2zM9 17H7v-7h2v7zm4 0h-2V7h2v10zm4 0h-2v-4h2v4z\"/>\n",
       "    </g>\n",
       "</svg>\n",
       "  </button>\n",
       "\n",
       "<style>\n",
       "  .colab-df-quickchart {\n",
       "      --bg-color: #E8F0FE;\n",
       "      --fill-color: #1967D2;\n",
       "      --hover-bg-color: #E2EBFA;\n",
       "      --hover-fill-color: #174EA6;\n",
       "      --disabled-fill-color: #AAA;\n",
       "      --disabled-bg-color: #DDD;\n",
       "  }\n",
       "\n",
       "  [theme=dark] .colab-df-quickchart {\n",
       "      --bg-color: #3B4455;\n",
       "      --fill-color: #D2E3FC;\n",
       "      --hover-bg-color: #434B5C;\n",
       "      --hover-fill-color: #FFFFFF;\n",
       "      --disabled-bg-color: #3B4455;\n",
       "      --disabled-fill-color: #666;\n",
       "  }\n",
       "\n",
       "  .colab-df-quickchart {\n",
       "    background-color: var(--bg-color);\n",
       "    border: none;\n",
       "    border-radius: 50%;\n",
       "    cursor: pointer;\n",
       "    display: none;\n",
       "    fill: var(--fill-color);\n",
       "    height: 32px;\n",
       "    padding: 0;\n",
       "    width: 32px;\n",
       "  }\n",
       "\n",
       "  .colab-df-quickchart:hover {\n",
       "    background-color: var(--hover-bg-color);\n",
       "    box-shadow: 0 1px 2px rgba(60, 64, 67, 0.3), 0 1px 3px 1px rgba(60, 64, 67, 0.15);\n",
       "    fill: var(--button-hover-fill-color);\n",
       "  }\n",
       "\n",
       "  .colab-df-quickchart-complete:disabled,\n",
       "  .colab-df-quickchart-complete:disabled:hover {\n",
       "    background-color: var(--disabled-bg-color);\n",
       "    fill: var(--disabled-fill-color);\n",
       "    box-shadow: none;\n",
       "  }\n",
       "\n",
       "  .colab-df-spinner {\n",
       "    border: 2px solid var(--fill-color);\n",
       "    border-color: transparent;\n",
       "    border-bottom-color: var(--fill-color);\n",
       "    animation:\n",
       "      spin 1s steps(1) infinite;\n",
       "  }\n",
       "\n",
       "  @keyframes spin {\n",
       "    0% {\n",
       "      border-color: transparent;\n",
       "      border-bottom-color: var(--fill-color);\n",
       "      border-left-color: var(--fill-color);\n",
       "    }\n",
       "    20% {\n",
       "      border-color: transparent;\n",
       "      border-left-color: var(--fill-color);\n",
       "      border-top-color: var(--fill-color);\n",
       "    }\n",
       "    30% {\n",
       "      border-color: transparent;\n",
       "      border-left-color: var(--fill-color);\n",
       "      border-top-color: var(--fill-color);\n",
       "      border-right-color: var(--fill-color);\n",
       "    }\n",
       "    40% {\n",
       "      border-color: transparent;\n",
       "      border-right-color: var(--fill-color);\n",
       "      border-top-color: var(--fill-color);\n",
       "    }\n",
       "    60% {\n",
       "      border-color: transparent;\n",
       "      border-right-color: var(--fill-color);\n",
       "    }\n",
       "    80% {\n",
       "      border-color: transparent;\n",
       "      border-right-color: var(--fill-color);\n",
       "      border-bottom-color: var(--fill-color);\n",
       "    }\n",
       "    90% {\n",
       "      border-color: transparent;\n",
       "      border-bottom-color: var(--fill-color);\n",
       "    }\n",
       "  }\n",
       "</style>\n",
       "\n",
       "  <script>\n",
       "    async function quickchart(key) {\n",
       "      const quickchartButtonEl =\n",
       "        document.querySelector('#' + key + ' button');\n",
       "      quickchartButtonEl.disabled = true;  // To prevent multiple clicks.\n",
       "      quickchartButtonEl.classList.add('colab-df-spinner');\n",
       "      try {\n",
       "        const charts = await google.colab.kernel.invokeFunction(\n",
       "            'suggestCharts', [key], {});\n",
       "      } catch (error) {\n",
       "        console.error('Error during call to suggestCharts:', error);\n",
       "      }\n",
       "      quickchartButtonEl.classList.remove('colab-df-spinner');\n",
       "      quickchartButtonEl.classList.add('colab-df-quickchart-complete');\n",
       "    }\n",
       "    (() => {\n",
       "      let quickchartButtonEl =\n",
       "        document.querySelector('#df-7f381fed-c3af-45d4-8558-4ec747d77eb8 button');\n",
       "      quickchartButtonEl.style.display =\n",
       "        google.colab.kernel.accessAllowed ? 'block' : 'none';\n",
       "    })();\n",
       "  </script>\n",
       "</div>\n",
       "    </div>\n",
       "  </div>\n"
      ],
      "text/plain": [
       "          f1_score\n",
       "grarep    0.772266\n",
       "hope      0.752048\n",
       "sine      0.738222\n",
       "deepwalk  0.710950\n",
       "node2vec  0.706296\n",
       "svd       0.694442\n",
       "features  0.470181"
      ]
     },
     "execution_count": 91,
     "metadata": {},
     "output_type": "execute_result"
    }
   ],
   "source": [
    "pd.DataFrame(gcn_res, columns=['f1_score'], index = ['features','svd','grarep','hope','deepwalk', 'node2vec', 'sine']).sort_values(by='f1_score', ascending = False)"
   ]
  },
  {
   "cell_type": "markdown",
   "id": "1cB4OjNr_d90",
   "metadata": {
    "id": "1cB4OjNr_d90"
   },
   "source": [
    "При одинаковых параметров обучения, лучше всего себя показали те же методы, что и раньше. При этом обучение только на атрибутах узлов дало довольно плохой результат, в отличие от векторных представлений, полученных в ходе работы."
   ]
  },
  {
   "cell_type": "markdown",
   "id": "JMtBD4mi1heH",
   "metadata": {
    "id": "JMtBD4mi1heH"
   },
   "source": [
    "## **3. Заключение**"
   ]
  },
  {
   "cell_type": "markdown",
   "id": "bBUz4HbK9Y-p",
   "metadata": {
    "id": "bBUz4HbK9Y-p"
   },
   "source": [
    "По итогам работы мы получили результаты классификации узлов сети несколькими способами. Можно сказать, что методы, глубоко рассматривающие взаимосвязи между узлами, лучше справляются с задачей классификации. Конечно, данные выводы распространяются только на выбранный набор данных и, вероятнее всего, могут быть распространены только на данные со схожей структурой.\n",
    "\n",
    "В рамках задачи классификации пользователей, разжигающих ненависть, хорошо себя показал метод SINE, учитывающий и отношения между объектами сети, и атрибуты узлов. А также методы HOPE и GraRep, первый их которых включает в рассмотрение связи выше второго порядка, а второй - первого и второго.\n",
    "\n",
    "Говоря о алгоритмах классификации, поскольку для обучения не подбирались специальные параметры, сложно сделать вывод о том, какой является наилучшим в широком смысле. Однако в ходе проведенного эксперимента при прочих равных условиях наибольшие значения получились при использовании SVC."
   ]
  },
  {
   "cell_type": "markdown",
   "id": "QV0Xigia06ku",
   "metadata": {
    "id": "QV0Xigia06ku"
   },
   "source": [
    "## **Список используемых источников:**\n",
    "\n",
    "1.   Данные - https://www.kaggle.com/datasets/manoelribeiro/hateful-users-on-twitter\n",
    "2.   Karate Club: An API Oriented Open-source Python Framework for Unsupervised Learning on Graphs (CIKM 2020) - https://github.com/benedekrozemberczki/karateclub\n",
    "3.   Под капотом графовых сетей - https://habr.com/ru/articles/794558/\n",
    "4.   Characterizing and Detecting Hateful Users on Twitter - https://www.researchgate.net/publication/365061339_Characterizing_and_Detecting_Hateful_Users_on_Twitter\n",
    "\n"
   ]
  }
 ],
 "metadata": {
  "colab": {
   "collapsed_sections": [
    "XwGVkBzx6k7S"
   ],
   "provenance": [],
   "toc_visible": true
  },
  "kernelspec": {
   "display_name": "Python 3 (ipykernel)",
   "language": "python",
   "name": "python3"
  },
  "language_info": {
   "codemirror_mode": {
    "name": "ipython",
    "version": 3
   },
   "file_extension": ".py",
   "mimetype": "text/x-python",
   "name": "python",
   "nbconvert_exporter": "python",
   "pygments_lexer": "ipython3",
   "version": "3.11.11"
  },
  "widgets": {
   "application/vnd.jupyter.widget-state+json": {
    "1308c88bc5c14717991fcf99047488c7": {
     "model_module": "@jupyter-widgets/controls",
     "model_module_version": "1.5.0",
     "model_name": "DescriptionStyleModel",
     "state": {
      "_model_module": "@jupyter-widgets/controls",
      "_model_module_version": "1.5.0",
      "_model_name": "DescriptionStyleModel",
      "_view_count": null,
      "_view_module": "@jupyter-widgets/base",
      "_view_module_version": "1.2.0",
      "_view_name": "StyleView",
      "description_width": ""
     }
    },
    "2011973368a744708cf34d654478a5e4": {
     "model_module": "@jupyter-widgets/base",
     "model_module_version": "1.2.0",
     "model_name": "LayoutModel",
     "state": {
      "_model_module": "@jupyter-widgets/base",
      "_model_module_version": "1.2.0",
      "_model_name": "LayoutModel",
      "_view_count": null,
      "_view_module": "@jupyter-widgets/base",
      "_view_module_version": "1.2.0",
      "_view_name": "LayoutView",
      "align_content": null,
      "align_items": null,
      "align_self": null,
      "border": null,
      "bottom": null,
      "display": null,
      "flex": null,
      "flex_flow": null,
      "grid_area": null,
      "grid_auto_columns": null,
      "grid_auto_flow": null,
      "grid_auto_rows": null,
      "grid_column": null,
      "grid_gap": null,
      "grid_row": null,
      "grid_template_areas": null,
      "grid_template_columns": null,
      "grid_template_rows": null,
      "height": null,
      "justify_content": null,
      "justify_items": null,
      "left": null,
      "margin": null,
      "max_height": null,
      "max_width": null,
      "min_height": null,
      "min_width": null,
      "object_fit": null,
      "object_position": null,
      "order": null,
      "overflow": null,
      "overflow_x": null,
      "overflow_y": null,
      "padding": null,
      "right": null,
      "top": null,
      "visibility": null,
      "width": null
     }
    },
    "23d029311a0b4dcba1721c5fe24f6496": {
     "model_module": "@jupyter-widgets/controls",
     "model_module_version": "1.5.0",
     "model_name": "HTMLModel",
     "state": {
      "_dom_classes": [],
      "_model_module": "@jupyter-widgets/controls",
      "_model_module_version": "1.5.0",
      "_model_name": "HTMLModel",
      "_view_count": null,
      "_view_module": "@jupyter-widgets/controls",
      "_view_module_version": "1.5.0",
      "_view_name": "HTMLView",
      "description": "",
      "description_tooltip": null,
      "layout": "IPY_MODEL_994d66b4af114157a32e4f26e3e17efb",
      "placeholder": "​",
      "style": "IPY_MODEL_74b0ecbbaae549e98d724457b6838744",
      "value": "Computing transition probabilities: 100%"
     }
    },
    "41e74e098d8b44968aa4142b2a60e3ff": {
     "model_module": "@jupyter-widgets/controls",
     "model_module_version": "1.5.0",
     "model_name": "HBoxModel",
     "state": {
      "_dom_classes": [],
      "_model_module": "@jupyter-widgets/controls",
      "_model_module_version": "1.5.0",
      "_model_name": "HBoxModel",
      "_view_count": null,
      "_view_module": "@jupyter-widgets/controls",
      "_view_module_version": "1.5.0",
      "_view_name": "HBoxView",
      "box_style": "",
      "children": [
       "IPY_MODEL_23d029311a0b4dcba1721c5fe24f6496",
       "IPY_MODEL_ecfca35794d8476d8c23bd307aaf9e08",
       "IPY_MODEL_7b0b1a484a8f4adab03df5065217f055"
      ],
      "layout": "IPY_MODEL_c990cbdd31cc427e9e871043855cf306"
     }
    },
    "74b0ecbbaae549e98d724457b6838744": {
     "model_module": "@jupyter-widgets/controls",
     "model_module_version": "1.5.0",
     "model_name": "DescriptionStyleModel",
     "state": {
      "_model_module": "@jupyter-widgets/controls",
      "_model_module_version": "1.5.0",
      "_model_name": "DescriptionStyleModel",
      "_view_count": null,
      "_view_module": "@jupyter-widgets/base",
      "_view_module_version": "1.2.0",
      "_view_name": "StyleView",
      "description_width": ""
     }
    },
    "7b0b1a484a8f4adab03df5065217f055": {
     "model_module": "@jupyter-widgets/controls",
     "model_module_version": "1.5.0",
     "model_name": "HTMLModel",
     "state": {
      "_dom_classes": [],
      "_model_module": "@jupyter-widgets/controls",
      "_model_module_version": "1.5.0",
      "_model_name": "HTMLModel",
      "_view_count": null,
      "_view_module": "@jupyter-widgets/controls",
      "_view_module_version": "1.5.0",
      "_view_name": "HTMLView",
      "description": "",
      "description_tooltip": null,
      "layout": "IPY_MODEL_2011973368a744708cf34d654478a5e4",
      "placeholder": "​",
      "style": "IPY_MODEL_1308c88bc5c14717991fcf99047488c7",
      "value": " 4971/4971 [00:01&lt;00:00, 5000.47it/s]"
     }
    },
    "994d66b4af114157a32e4f26e3e17efb": {
     "model_module": "@jupyter-widgets/base",
     "model_module_version": "1.2.0",
     "model_name": "LayoutModel",
     "state": {
      "_model_module": "@jupyter-widgets/base",
      "_model_module_version": "1.2.0",
      "_model_name": "LayoutModel",
      "_view_count": null,
      "_view_module": "@jupyter-widgets/base",
      "_view_module_version": "1.2.0",
      "_view_name": "LayoutView",
      "align_content": null,
      "align_items": null,
      "align_self": null,
      "border": null,
      "bottom": null,
      "display": null,
      "flex": null,
      "flex_flow": null,
      "grid_area": null,
      "grid_auto_columns": null,
      "grid_auto_flow": null,
      "grid_auto_rows": null,
      "grid_column": null,
      "grid_gap": null,
      "grid_row": null,
      "grid_template_areas": null,
      "grid_template_columns": null,
      "grid_template_rows": null,
      "height": null,
      "justify_content": null,
      "justify_items": null,
      "left": null,
      "margin": null,
      "max_height": null,
      "max_width": null,
      "min_height": null,
      "min_width": null,
      "object_fit": null,
      "object_position": null,
      "order": null,
      "overflow": null,
      "overflow_x": null,
      "overflow_y": null,
      "padding": null,
      "right": null,
      "top": null,
      "visibility": null,
      "width": null
     }
    },
    "ae91dff297b24429a25e06236c50c0e6": {
     "model_module": "@jupyter-widgets/base",
     "model_module_version": "1.2.0",
     "model_name": "LayoutModel",
     "state": {
      "_model_module": "@jupyter-widgets/base",
      "_model_module_version": "1.2.0",
      "_model_name": "LayoutModel",
      "_view_count": null,
      "_view_module": "@jupyter-widgets/base",
      "_view_module_version": "1.2.0",
      "_view_name": "LayoutView",
      "align_content": null,
      "align_items": null,
      "align_self": null,
      "border": null,
      "bottom": null,
      "display": null,
      "flex": null,
      "flex_flow": null,
      "grid_area": null,
      "grid_auto_columns": null,
      "grid_auto_flow": null,
      "grid_auto_rows": null,
      "grid_column": null,
      "grid_gap": null,
      "grid_row": null,
      "grid_template_areas": null,
      "grid_template_columns": null,
      "grid_template_rows": null,
      "height": null,
      "justify_content": null,
      "justify_items": null,
      "left": null,
      "margin": null,
      "max_height": null,
      "max_width": null,
      "min_height": null,
      "min_width": null,
      "object_fit": null,
      "object_position": null,
      "order": null,
      "overflow": null,
      "overflow_x": null,
      "overflow_y": null,
      "padding": null,
      "right": null,
      "top": null,
      "visibility": null,
      "width": null
     }
    },
    "c990cbdd31cc427e9e871043855cf306": {
     "model_module": "@jupyter-widgets/base",
     "model_module_version": "1.2.0",
     "model_name": "LayoutModel",
     "state": {
      "_model_module": "@jupyter-widgets/base",
      "_model_module_version": "1.2.0",
      "_model_name": "LayoutModel",
      "_view_count": null,
      "_view_module": "@jupyter-widgets/base",
      "_view_module_version": "1.2.0",
      "_view_name": "LayoutView",
      "align_content": null,
      "align_items": null,
      "align_self": null,
      "border": null,
      "bottom": null,
      "display": null,
      "flex": null,
      "flex_flow": null,
      "grid_area": null,
      "grid_auto_columns": null,
      "grid_auto_flow": null,
      "grid_auto_rows": null,
      "grid_column": null,
      "grid_gap": null,
      "grid_row": null,
      "grid_template_areas": null,
      "grid_template_columns": null,
      "grid_template_rows": null,
      "height": null,
      "justify_content": null,
      "justify_items": null,
      "left": null,
      "margin": null,
      "max_height": null,
      "max_width": null,
      "min_height": null,
      "min_width": null,
      "object_fit": null,
      "object_position": null,
      "order": null,
      "overflow": null,
      "overflow_x": null,
      "overflow_y": null,
      "padding": null,
      "right": null,
      "top": null,
      "visibility": null,
      "width": null
     }
    },
    "ecfca35794d8476d8c23bd307aaf9e08": {
     "model_module": "@jupyter-widgets/controls",
     "model_module_version": "1.5.0",
     "model_name": "FloatProgressModel",
     "state": {
      "_dom_classes": [],
      "_model_module": "@jupyter-widgets/controls",
      "_model_module_version": "1.5.0",
      "_model_name": "FloatProgressModel",
      "_view_count": null,
      "_view_module": "@jupyter-widgets/controls",
      "_view_module_version": "1.5.0",
      "_view_name": "ProgressView",
      "bar_style": "success",
      "description": "",
      "description_tooltip": null,
      "layout": "IPY_MODEL_ae91dff297b24429a25e06236c50c0e6",
      "max": 4971,
      "min": 0,
      "orientation": "horizontal",
      "style": "IPY_MODEL_f63ced5b653845f0a6538654e4105c60",
      "value": 4971
     }
    },
    "f63ced5b653845f0a6538654e4105c60": {
     "model_module": "@jupyter-widgets/controls",
     "model_module_version": "1.5.0",
     "model_name": "ProgressStyleModel",
     "state": {
      "_model_module": "@jupyter-widgets/controls",
      "_model_module_version": "1.5.0",
      "_model_name": "ProgressStyleModel",
      "_view_count": null,
      "_view_module": "@jupyter-widgets/base",
      "_view_module_version": "1.2.0",
      "_view_name": "StyleView",
      "bar_color": null,
      "description_width": ""
     }
    }
   }
  }
 },
 "nbformat": 4,
 "nbformat_minor": 5
}
