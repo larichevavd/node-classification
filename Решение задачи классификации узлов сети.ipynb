{
 "cells": [
  {
   "cell_type": "markdown",
   "id": "4912c174-df78-4e08-933b-cb1663f2da6d",
   "metadata": {
    "id": "4912c174-df78-4e08-933b-cb1663f2da6d"
   },
   "source": [
    "# Сравнение решений задачи классификации узлов сети с использованием различных методов векторных представлений узлов"
   ]
  },
  {
   "cell_type": "markdown",
   "id": "rgnc_kUzvarY",
   "metadata": {
    "id": "rgnc_kUzvarY"
   },
   "source": [
    "**Содержание:**\n",
    "\n",
    "\n",
    "1.   Введение\n",
    "2.   Основная часть\\\n",
    "    2.1.   Работа с данными\\\n",
    "    2.2.   Векторные представления узлов\n",
    "          2.2.1     Матричное разложение\n",
    "          2.2.2     Случайные блуждания\n",
    "    2.3.   Классификация узлов\n",
    "          2.3.1     Методы машинного обучения\n",
    "          2.3.2     Нейронная сеть\n",
    "3.   Заключение\n",
    "\n"
   ]
  },
  {
   "cell_type": "markdown",
   "id": "Wbv2s_gGxTUk",
   "metadata": {
    "id": "Wbv2s_gGxTUk"
   },
   "source": [
    "## **1. Введение**"
   ]
  },
  {
   "cell_type": "markdown",
   "id": "4x4Ko7oJemcA",
   "metadata": {
    "id": "4x4Ko7oJemcA"
   },
   "source": [
    "В данной работе рассматривается решение задачи классификации узлов с применением различных методов векторных представлений узлов. Классификация узлов графа является важным инструментом анализа и обработки графовых данных. Такая задача может встретиться в различных областях, например, в работе с социальными сетями или рекомендательными системами. Она состоит в присвоении меток узлам на графе на основе свойств узлов и взаимосвязей между ними.\n",
    "\n",
    "Для успешного решения задачи классификации часто используются методы векторных представлений узлов, которые позволяют представить узлы в виде векторов, что может быть использовано при применении алгоритмов машинного обучения.\n",
    "\n",
    "В исследовании будут применяться различные методы веторных представлений, а также несколько алгоритмов классификации узлов сети. По итогам экспериментального сравнения можно будет сделать выводы о том, какие методы и почему лучше решают поставленную задачу лучше или хуже.\n",
    "\n",
    "В качестве данных для работы был выбран следующий набор:\n",
    "\n",
    "Сеть из 100 тысяч пользователей, из которых около 5 тысяч были помечены как высказывающие ненависть пользователи или нет.\n",
    "Также для каждого пользователя были предоставлены несколько актрибутов, связанных с их активностью в социальной сети. Ребра графа являются ретвитами пользователей, поэтому представленный граф является направленным.\n",
    "\n",
    "Таким образом, классификация будет заключаться в нахождении пользователей, разжигающих ненависть - юинарная классификация\n"
   ]
  },
  {
   "cell_type": "markdown",
   "id": "0meOMOYvmgAW",
   "metadata": {
    "id": "0meOMOYvmgAW"
   },
   "source": [
    "**Задачи:**\n",
    "\n",
    "\n",
    "1.   Получить набор данных, готовый к применению\n",
    "2.   Создать векторные представления узлов различными методами\n",
    "3.   Провести классификацию узлов\n",
    "4.   Сделать выводы о примененных методах\n",
    "\n"
   ]
  },
  {
   "cell_type": "markdown",
   "id": "XwGVkBzx6k7S",
   "metadata": {
    "id": "XwGVkBzx6k7S"
   },
   "source": [
    "## install"
   ]
  },
  {
   "cell_type": "code",
   "execution_count": null,
   "id": "gRI_v-_AiRcX",
   "metadata": {
    "colab": {
     "base_uri": "https://localhost:8080/"
    },
    "id": "gRI_v-_AiRcX",
    "outputId": "1d350d66-c381-4e2f-ccb7-74732ebd80ac"
   },
   "outputs": [],
   "source": [
    "!pip install node2vec"
   ]
  },
  {
   "cell_type": "code",
   "execution_count": null,
   "id": "cBRBFsY2lPn8",
   "metadata": {
    "colab": {
     "base_uri": "https://localhost:8080/"
    },
    "id": "cBRBFsY2lPn8",
    "outputId": "93ebe161-cee1-454e-ccad-c2dc8d4e79fa"
   },
   "outputs": [],
   "source": [
    "!pip install torch_geometric"
   ]
  },
  {
   "cell_type": "code",
   "execution_count": null,
   "id": "d46wE0t55czS",
   "metadata": {
    "colab": {
     "base_uri": "https://localhost:8080/"
    },
    "id": "d46wE0t55czS",
    "outputId": "12c5ce61-87c4-4dc6-8419-c09c27821f15"
   },
   "outputs": [],
   "source": [
    "!pip install karateclub"
   ]
  },
  {
   "cell_type": "markdown",
   "id": "kvFsE_wqxt9G",
   "metadata": {
    "id": "kvFsE_wqxt9G"
   },
   "source": [
    "## **2. Основная часть**"
   ]
  },
  {
   "cell_type": "code",
   "execution_count": null,
   "id": "d33862f6-f6aa-4801-bc13-3a09e1b13c19",
   "metadata": {
    "id": "d33862f6-f6aa-4801-bc13-3a09e1b13c19"
   },
   "outputs": [],
   "source": [
    "import networkx as nx\n",
    "import pandas as pd\n",
    "import numpy as np\n",
    "from sklearn.decomposition import TruncatedSVD\n",
    "from node2vec import Node2Vec\n",
    "from karateclub.node_embedding.neighbourhood import GraRep, HOPE, DeepWalk\n",
    "import random\n",
    "from scipy.sparse import coo_matrix\n",
    "from karateclub.node_embedding.attributed import SINE\n",
    "import seaborn as sns\n",
    "import matplotlib.pyplot as plt\n",
    "from sklearn.model_selection import train_test_split\n",
    "from sklearn.metrics import classification_report, f1_score\n",
    "from sklearn import svm\n",
    "from sklearn.ensemble import RandomForestClassifier\n",
    "from sklearn.utils.class_weight import compute_class_weight\n",
    "import torch\n",
    "import torch.nn as nn\n",
    "import torch.nn.functional as F\n",
    "import torch.optim as optim\n",
    "from torch_geometric.nn import GCNConv\n",
    "from torch_geometric.data import Data"
   ]
  },
  {
   "cell_type": "markdown",
   "id": "_puUKuEm6otM",
   "metadata": {
    "id": "_puUKuEm6otM"
   },
   "source": [
    "## **2.1. Работа с данными**"
   ]
  },
  {
   "cell_type": "code",
   "execution_count": null,
   "id": "D1R6JFdmEgDF",
   "metadata": {
    "colab": {
     "base_uri": "https://localhost:8080/"
    },
    "id": "D1R6JFdmEgDF",
    "outputId": "9de378cc-26b7-452b-9f9c-4692cecc7334"
   },
   "outputs": [],
   "source": [
    "from google.colab import drive\n",
    "drive.mount('/content/drive')"
   ]
  },
  {
   "cell_type": "code",
   "execution_count": null,
   "id": "99e46661-50fa-408d-a8d0-c080a8f6d650",
   "metadata": {
    "id": "99e46661-50fa-408d-a8d0-c080a8f6d650"
   },
   "outputs": [],
   "source": [
    "G0 = nx.read_edgelist('drive/MyDrive/users.edges', create_using = nx.DiGraph())\n",
    "df0 = pd.read_csv('drive/MyDrive/users_neighborhood_anon.csv')\n",
    "#df0.head()"
   ]
  },
  {
   "cell_type": "markdown",
   "id": "c4d1d68d-1390-4cbd-868a-101a99aed476",
   "metadata": {
    "id": "c4d1d68d-1390-4cbd-868a-101a99aed476"
   },
   "source": [
    "Для классификации оставим только узлы, имеющие пометку."
   ]
  },
  {
   "cell_type": "code",
   "execution_count": null,
   "id": "d6cb4124-e446-465a-8b57-a8d037919ad2",
   "metadata": {
    "colab": {
     "base_uri": "https://localhost:8080/",
     "height": 443
    },
    "id": "d6cb4124-e446-465a-8b57-a8d037919ad2",
    "outputId": "c1381b94-488d-4891-b34c-f74239668685"
   },
   "outputs": [],
   "source": [
    "df = df0[df0.hate != 'other'].reset_index(drop=True)\n",
    "df"
   ]
  },
  {
   "cell_type": "code",
   "execution_count": null,
   "id": "4b85bce9-5acd-410f-adfa-16d63dd4d070",
   "metadata": {
    "colab": {
     "base_uri": "https://localhost:8080/",
     "height": 542
    },
    "id": "4b85bce9-5acd-410f-adfa-16d63dd4d070",
    "outputId": "b38e89a6-0348-442b-b7e7-2992011e3c6f"
   },
   "outputs": [],
   "source": [
    "print(df.hate.value_counts())\n",
    "df.hate.value_counts().plot(kind='bar')\n",
    "plt.title('Распределение по классам')\n",
    "plt.show()"
   ]
  },
  {
   "cell_type": "markdown",
   "id": "JivJbpo5nNM-",
   "metadata": {
    "id": "JivJbpo5nNM-"
   },
   "source": [
    "Можно заметить, что классы являются несбалансированными, что может повлиять на дальнейшие результаты классификации, поэтому надо будет учесть это при выборе параметров моделей"
   ]
  },
  {
   "cell_type": "code",
   "execution_count": null,
   "id": "SOTNniSFzd7y",
   "metadata": {
    "colab": {
     "base_uri": "https://localhost:8080/",
     "height": 443
    },
    "id": "SOTNniSFzd7y",
    "outputId": "d8b0de7f-d501-499e-b3ef-ab1b5e7af8dc"
   },
   "outputs": [],
   "source": [
    "df.hate = pd.get_dummies(df, columns=['hate'], drop_first = True)['hate_normal']\n",
    "df"
   ]
  },
  {
   "cell_type": "code",
   "execution_count": null,
   "id": "d333bdd5-3877-4eda-b249-b056bdecdb7e",
   "metadata": {
    "colab": {
     "base_uri": "https://localhost:8080/"
    },
    "id": "d333bdd5-3877-4eda-b249-b056bdecdb7e",
    "outputId": "8dceb6c4-c07f-4712-b35f-4c3d984f3b73"
   },
   "outputs": [],
   "source": [
    "subgraph = G0.subgraph(map(str, df.user_id.to_list()))\n",
    "print(subgraph)"
   ]
  },
  {
   "cell_type": "markdown",
   "id": "7203347e-278d-4686-966a-84b0991c3a2b",
   "metadata": {
    "id": "7203347e-278d-4686-966a-84b0991c3a2b"
   },
   "source": [
    "Удалим петли, так как они не несут в себе смысловой нагрузки в рамках выбранных данных"
   ]
  },
  {
   "cell_type": "code",
   "execution_count": null,
   "id": "23d188da-bdc5-47aa-9e5e-1d9c2dca014d",
   "metadata": {
    "colab": {
     "base_uri": "https://localhost:8080/"
    },
    "id": "23d188da-bdc5-47aa-9e5e-1d9c2dca014d",
    "outputId": "fc097f8e-a8d2-471c-c7bf-0b9119f29a2a"
   },
   "outputs": [],
   "source": [
    "G = nx.relabel_nodes(subgraph, dict(zip(subgraph, map(int, subgraph.nodes()))))\n",
    "G = nx.convert_node_labels_to_integers(G, ordering='sorted')\n",
    "G.remove_edges_from(list(nx.selfloop_edges(G)))\n",
    "print(G)\n",
    "#nx.draw(G)"
   ]
  },
  {
   "cell_type": "markdown",
   "id": "8pI4KLzFn0Ul",
   "metadata": {
    "id": "8pI4KLzFn0Ul"
   },
   "source": [
    "Далее представлена десятая часть сети, где красным помечены пользователи, разжигающие ненависть"
   ]
  },
  {
   "cell_type": "code",
   "execution_count": null,
   "id": "ba9d386d-ec76-4958-8fb0-6344a674bc78",
   "metadata": {
    "colab": {
     "base_uri": "https://localhost:8080/",
     "height": 429
    },
    "id": "ba9d386d-ec76-4958-8fb0-6344a674bc78",
    "outputId": "4252646f-85a2-4358-b6c0-a6c16a0954da"
   },
   "outputs": [],
   "source": [
    "node_colors = list(map(lambda x: 'r' if x == 0 else 'b', df.hate))\n",
    "nx.draw_networkx(G.subgraph(df.index.to_list()[::10]), node_color = node_colors[::10], with_labels = False)\n",
    "plt.title('Граф (выборка)')\n",
    "plt.show()"
   ]
  },
  {
   "cell_type": "markdown",
   "id": "Rq0vS-cLRbqt",
   "metadata": {
    "id": "Rq0vS-cLRbqt"
   },
   "source": [
    "### **2.2. Векторные представления узлов**"
   ]
  },
  {
   "cell_type": "markdown",
   "id": "9b84cc98-93d8-4e36-a562-2cfc1a0a4f53",
   "metadata": {
    "id": "9b84cc98-93d8-4e36-a562-2cfc1a0a4f53"
   },
   "source": [
    "Рассмотрим некоторые методы векторных представлений узлов, которые основаны на:\n",
    "\n",
    "1) Матричном разложении\n",
    "\n",
    "2) Случайных блужданиях"
   ]
  },
  {
   "cell_type": "markdown",
   "id": "c4ZJ0G2wojeA",
   "metadata": {
    "id": "c4ZJ0G2wojeA"
   },
   "source": [
    "Для удобства при применении каждого из методов будем получать вектора одинаковой размерности"
   ]
  },
  {
   "cell_type": "markdown",
   "id": "4SkEbr0CRibk",
   "metadata": {
    "id": "4SkEbr0CRibk"
   },
   "source": [
    "#### *2.2.1. Матричное разложение*"
   ]
  },
  {
   "cell_type": "markdown",
   "id": "22hmlhFtqRjZ",
   "metadata": {
    "id": "22hmlhFtqRjZ"
   },
   "source": [
    "##### *Сингулярное разложение матрицы смежности узлов*"
   ]
  },
  {
   "cell_type": "markdown",
   "id": "8f4e7c42-ab97-4dee-811b-4b3b7ef5513c",
   "metadata": {
    "id": "8f4e7c42-ab97-4dee-811b-4b3b7ef5513c"
   },
   "source": [
    "Самой простой способ получения векторных представлений узлов из графа с использованием матричной факторизации заключается в использовании метода Singular Value Decomposition (SVD), который уменьшает размерность матрицы смежности узлов посредством сингулярного разложения"
   ]
  },
  {
   "cell_type": "code",
   "execution_count": null,
   "id": "5d16bbd6-12e7-4617-ab4a-30bd49cfe49a",
   "metadata": {
    "colab": {
     "base_uri": "https://localhost:8080/"
    },
    "id": "5d16bbd6-12e7-4617-ab4a-30bd49cfe49a",
    "outputId": "29a48409-734c-4e38-b5c5-afe7d3acd93c"
   },
   "outputs": [],
   "source": [
    "A = nx.to_numpy_array(G)\n",
    "svd = TruncatedSVD(n_components=32)\n",
    "vec_svd = svd.fit_transform(A)\n",
    "vec_svd.shape"
   ]
  },
  {
   "cell_type": "markdown",
   "id": "2VuKqwxiqega",
   "metadata": {
    "id": "2VuKqwxiqega"
   },
   "source": [
    "##### *GraRep (Learning Graph Representations with Global Structural Information)*"
   ]
  },
  {
   "cell_type": "markdown",
   "id": "Q_57brGPWllC",
   "metadata": {
    "id": "Q_57brGPWllC"
   },
   "source": [
    "Метод GraRep основывается на вычислении матрицы переходов, элементы который являются вероятностями перехода из одного узла в другой, рассчитанными на основе количества общих соседей этих узлов"
   ]
  },
  {
   "cell_type": "code",
   "execution_count": null,
   "id": "OIOEhd0n1W0u",
   "metadata": {
    "id": "OIOEhd0n1W0u"
   },
   "outputs": [],
   "source": [
    "model = GraRep(dimensions = 8, order = 4)\n",
    "model.fit(G)"
   ]
  },
  {
   "cell_type": "code",
   "execution_count": null,
   "id": "LDBniKdw18dz",
   "metadata": {
    "colab": {
     "base_uri": "https://localhost:8080/"
    },
    "id": "LDBniKdw18dz",
    "outputId": "90d200e6-d0c7-45d8-8f45-8430a6dcf1ec"
   },
   "outputs": [],
   "source": [
    "vec_grarep = model.get_embedding()\n",
    "vec_grarep.shape"
   ]
  },
  {
   "cell_type": "markdown",
   "id": "OL7a8N6Xq2S-",
   "metadata": {
    "id": "OL7a8N6Xq2S-"
   },
   "source": [
    "##### *HOPE (Higher-Order Proximity Embeddings)*"
   ]
  },
  {
   "cell_type": "markdown",
   "id": "jSa_WmpaaF2w",
   "metadata": {
    "id": "jSa_WmpaaF2w"
   },
   "source": [
    "Метод HOPE основан на идее, что узлы, которые имеют сходную структуру связей с другими узлами, должны иметь схожие векторные представления. Особенность алгоритма в том, что он учитывает связи выше второго порядка"
   ]
  },
  {
   "cell_type": "code",
   "execution_count": null,
   "id": "qRpRMublaHwW",
   "metadata": {
    "id": "qRpRMublaHwW"
   },
   "outputs": [],
   "source": [
    "model = HOPE(dimensions = 32)\n",
    "model.fit(G)"
   ]
  },
  {
   "cell_type": "code",
   "execution_count": null,
   "id": "ft5ipsAzaRWp",
   "metadata": {
    "colab": {
     "base_uri": "https://localhost:8080/"
    },
    "id": "ft5ipsAzaRWp",
    "outputId": "870d25db-3de0-4f3b-bded-0e101b9a6863"
   },
   "outputs": [],
   "source": [
    "vec_hope = model.get_embedding()\n",
    "vec_hope.shape"
   ]
  },
  {
   "cell_type": "markdown",
   "id": "RXmYX_OMyWJr",
   "metadata": {
    "id": "RXmYX_OMyWJr"
   },
   "source": [
    "#### *2.2.2. Случайные блуждания*"
   ]
  },
  {
   "cell_type": "markdown",
   "id": "g-udOv_FRN8W",
   "metadata": {
    "id": "g-udOv_FRN8W"
   },
   "source": [
    "Методы, который вычисляют векторные представления узла на основе случайных блужданий в графе: DeepWalk и Node2Vec.\n",
    "\n",
    "Node2Vec - это вариация DeepWalk, которая вводит смещенные\n",
    "случайные блуждания. Случайными блужданиями управляют два параметра: p уменьшает\n",
    "вероятность повторного посещения предыдущего узла, в то время\n",
    "как q уменьшает вероятность перехода к узлам, которые\n",
    "не были соседями исходного узла."
   ]
  },
  {
   "cell_type": "markdown",
   "id": "_F8KaBW9rK-e",
   "metadata": {
    "id": "_F8KaBW9rK-e"
   },
   "source": [
    "###### *DeepWalk*"
   ]
  },
  {
   "cell_type": "code",
   "execution_count": null,
   "id": "N9x6S9xgh7zz",
   "metadata": {
    "colab": {
     "base_uri": "https://localhost:8080/"
    },
    "id": "N9x6S9xgh7zz",
    "outputId": "51a30f12-4749-4215-b892-8c9692a52d44"
   },
   "outputs": [],
   "source": [
    "model = DeepWalk(dimensions = 32, walk_length=30, workers=4, walk_number = 50)\n",
    "model.fit(G)"
   ]
  },
  {
   "cell_type": "code",
   "execution_count": null,
   "id": "Q0-IuE3rh7z0",
   "metadata": {
    "colab": {
     "base_uri": "https://localhost:8080/"
    },
    "id": "Q0-IuE3rh7z0",
    "outputId": "9fcb6cf3-843b-48fc-d36d-7938b9b9b15c"
   },
   "outputs": [],
   "source": [
    "vec_deepwalk = model.get_embedding()\n",
    "vec_deepwalk.shape"
   ]
  },
  {
   "cell_type": "markdown",
   "id": "0GxEQVCPrWVW",
   "metadata": {
    "id": "0GxEQVCPrWVW"
   },
   "source": [
    "##### *Node2Vec*"
   ]
  },
  {
   "cell_type": "code",
   "execution_count": null,
   "id": "ec2d4ed3-09d2-4341-bef7-af0a28a63d46",
   "metadata": {
    "colab": {
     "base_uri": "https://localhost:8080/",
     "height": 67,
     "referenced_widgets": [
      "41e74e098d8b44968aa4142b2a60e3ff",
      "23d029311a0b4dcba1721c5fe24f6496",
      "ecfca35794d8476d8c23bd307aaf9e08",
      "7b0b1a484a8f4adab03df5065217f055",
      "c990cbdd31cc427e9e871043855cf306",
      "994d66b4af114157a32e4f26e3e17efb",
      "74b0ecbbaae549e98d724457b6838744",
      "ae91dff297b24429a25e06236c50c0e6",
      "f63ced5b653845f0a6538654e4105c60",
      "2011973368a744708cf34d654478a5e4",
      "1308c88bc5c14717991fcf99047488c7"
     ]
    },
    "id": "ec2d4ed3-09d2-4341-bef7-af0a28a63d46",
    "outputId": "61e75538-5ef1-403f-8f07-9edd63de1371"
   },
   "outputs": [],
   "source": [
    "node2vec = Node2Vec(G, dimensions=32, walk_length=50, num_walks=30, workers=4, p = 1.3, q = 0.7)\n",
    "model = node2vec.fit(window=10, min_count=1)\n",
    "vec_node2vec = np.array([model.wv[node] for node in G.nodes()])\n",
    "vec_node2vec.shape"
   ]
  },
  {
   "cell_type": "markdown",
   "id": "8urNArIMrZme",
   "metadata": {
    "id": "8urNArIMrZme"
   },
   "source": [
    "##### *SINE (Scalable Incomplete Network Embedding)*"
   ]
  },
  {
   "cell_type": "markdown",
   "id": "9QC-CtTejljM",
   "metadata": {
    "id": "9QC-CtTejljM"
   },
   "source": [
    "Метод SINE позволяет использовать атрибуты узлов для построения векторов.\n",
    "\n",
    "Процедура неявно факторизует совместную мощность матрицы смежности и матрицы признаков. Декомпозиция выполняется на основе усеченных случайных блужданий, и мощности матрицы смежности объединяются."
   ]
  },
  {
   "cell_type": "code",
   "execution_count": null,
   "id": "GtCNd6T9n2zF",
   "metadata": {
    "id": "GtCNd6T9n2zF"
   },
   "outputs": [],
   "source": [
    "df_features = df.iloc[:, 2:].select_dtypes(include='number')\n",
    "features = df_features.to_numpy()"
   ]
  },
  {
   "cell_type": "code",
   "execution_count": null,
   "id": "2wmUVMdjlqZF",
   "metadata": {
    "id": "2wmUVMdjlqZF"
   },
   "outputs": [],
   "source": [
    "X = coo_matrix(features)\n",
    "model = SINE(dimensions = 32)\n",
    "model.fit(G, X)"
   ]
  },
  {
   "cell_type": "code",
   "execution_count": null,
   "id": "qao-HCxo75Bz",
   "metadata": {
    "colab": {
     "base_uri": "https://localhost:8080/"
    },
    "id": "qao-HCxo75Bz",
    "outputId": "f344e8e2-8f78-4007-88f5-59eec828822a"
   },
   "outputs": [],
   "source": [
    "vec_sine = model.get_embedding()\n",
    "vec_sine.shape"
   ]
  },
  {
   "cell_type": "markdown",
   "id": "L2INjayARoYT",
   "metadata": {
    "id": "L2INjayARoYT"
   },
   "source": [
    "### **2.3. Классификация узлов**"
   ]
  },
  {
   "cell_type": "markdown",
   "id": "754e5030-9213-4871-9945-b2e9135a092d",
   "metadata": {
    "id": "754e5030-9213-4871-9945-b2e9135a092d"
   },
   "source": [
    "Чтобы получить более точные результаты сравнения, классификацию будем проводить разными методами:\n",
    "\n",
    "1) Методы машинного обучения\n",
    "\n",
    "2) Нейронная сеть"
   ]
  },
  {
   "cell_type": "markdown",
   "id": "SEpm2Ak2vTMF",
   "metadata": {
    "id": "SEpm2Ak2vTMF"
   },
   "source": [
    "#### *2.3.1. Методы машинного обучения*"
   ]
  },
  {
   "cell_type": "markdown",
   "id": "uhpO4Lncrv3l",
   "metadata": {
    "id": "uhpO4Lncrv3l"
   },
   "source": [
    "Разделим данные на обучающую и тестовую выборки, а также найдем веса классов"
   ]
  },
  {
   "cell_type": "code",
   "execution_count": null,
   "id": "c3R24IG-xT3P",
   "metadata": {
    "id": "c3R24IG-xT3P"
   },
   "outputs": [],
   "source": [
    "train_mask, test_mask = train_test_split(df.index, test_size=0.2)\n",
    "y = df.hate\n",
    "class_weights = compute_class_weight('balanced', classes=np.unique(y), y=y)\n",
    "cw = dict(zip(np.unique(y), class_weights))"
   ]
  },
  {
   "cell_type": "markdown",
   "id": "Tos96xiy5W39",
   "metadata": {
    "id": "Tos96xiy5W39"
   },
   "source": [
    "##### *SVC (Support Vector Classifier)*"
   ]
  },
  {
   "cell_type": "markdown",
   "id": "TU_WRwCwsD3k",
   "metadata": {
    "id": "TU_WRwCwsD3k"
   },
   "source": [
    "Работает путем нахождения гиперплоскости в многомерном пространстве, которая разделяет точки данных на разные классы."
   ]
  },
  {
   "cell_type": "code",
   "execution_count": null,
   "id": "pDm2-TD0ur3b",
   "metadata": {
    "colab": {
     "base_uri": "https://localhost:8080/",
     "height": 74
    },
    "id": "pDm2-TD0ur3b",
    "outputId": "73f4df87-6815-422a-f3ae-b2f76d70f6a0"
   },
   "outputs": [],
   "source": [
    "clf = svm.SVC(class_weight = cw)\n",
    "clf.fit(vec_svd[train_mask], y[train_mask])"
   ]
  },
  {
   "cell_type": "code",
   "execution_count": null,
   "id": "muVqVXFz02bc",
   "metadata": {
    "colab": {
     "base_uri": "https://localhost:8080/"
    },
    "id": "muVqVXFz02bc",
    "outputId": "e5815240-2756-49eb-92ee-95c9ebfbcf28"
   },
   "outputs": [],
   "source": [
    "svd_res = clf.predict(vec_svd[test_mask])\n",
    "svc_res = [f1_score(y[test_mask], svd_res, average = 'macro')]\n",
    "print(classification_report(svd_res, y[test_mask]))"
   ]
  },
  {
   "cell_type": "code",
   "execution_count": null,
   "id": "Y9hmYwZp2qy0",
   "metadata": {
    "colab": {
     "base_uri": "https://localhost:8080/",
     "height": 74
    },
    "id": "Y9hmYwZp2qy0",
    "outputId": "0f241254-d72e-40cf-f3a8-5af7a94e8282"
   },
   "outputs": [],
   "source": [
    "clf = svm.SVC(class_weight = cw)\n",
    "clf.fit(vec_grarep[train_mask], y[train_mask])"
   ]
  },
  {
   "cell_type": "code",
   "execution_count": null,
   "id": "TUlEr8wq2qzM",
   "metadata": {
    "colab": {
     "base_uri": "https://localhost:8080/"
    },
    "id": "TUlEr8wq2qzM",
    "outputId": "2b05c9dc-dd64-4e62-8604-385d795dc550"
   },
   "outputs": [],
   "source": [
    "grarep_res = clf.predict(vec_grarep[test_mask])\n",
    "svc_res.append(f1_score(y[test_mask], grarep_res, average = 'macro'))\n",
    "print(classification_report(grarep_res, y[test_mask]))"
   ]
  },
  {
   "cell_type": "code",
   "execution_count": null,
   "id": "EC5-5HVh2r_5",
   "metadata": {
    "colab": {
     "base_uri": "https://localhost:8080/",
     "height": 74
    },
    "id": "EC5-5HVh2r_5",
    "outputId": "a617020b-7c68-42a1-cc7d-8c5fa38a39c2"
   },
   "outputs": [],
   "source": [
    "clf = svm.SVC(class_weight = cw)\n",
    "clf.fit(vec_hope[train_mask], y[train_mask])"
   ]
  },
  {
   "cell_type": "code",
   "execution_count": null,
   "id": "ZQbL6WSK2r_7",
   "metadata": {
    "colab": {
     "base_uri": "https://localhost:8080/"
    },
    "id": "ZQbL6WSK2r_7",
    "outputId": "d578f7b3-84a4-42ce-95e1-2f0f648c91c1"
   },
   "outputs": [],
   "source": [
    "hope_res = clf.predict(vec_hope[test_mask])\n",
    "svc_res.append(f1_score(y[test_mask], hope_res, average = 'macro'))\n",
    "print(classification_report(hope_res, y[test_mask]))"
   ]
  },
  {
   "cell_type": "code",
   "execution_count": null,
   "id": "oSHc65cb2su_",
   "metadata": {
    "colab": {
     "base_uri": "https://localhost:8080/",
     "height": 74
    },
    "id": "oSHc65cb2su_",
    "outputId": "aa4eb23f-bd5e-4dee-8285-29f1f0083d70"
   },
   "outputs": [],
   "source": [
    "clf = svm.SVC(class_weight = cw)\n",
    "clf.fit(vec_deepwalk[train_mask], y[train_mask])"
   ]
  },
  {
   "cell_type": "code",
   "execution_count": null,
   "id": "N7eOzSjO2svA",
   "metadata": {
    "colab": {
     "base_uri": "https://localhost:8080/"
    },
    "id": "N7eOzSjO2svA",
    "outputId": "8548ddb4-92af-437a-9f99-d3e172989f2f"
   },
   "outputs": [],
   "source": [
    "deepwalk_res = clf.predict(vec_deepwalk[test_mask])\n",
    "svc_res.append(f1_score(y[test_mask], deepwalk_res, average = 'macro'))\n",
    "print(classification_report(deepwalk_res, y[test_mask]))"
   ]
  },
  {
   "cell_type": "code",
   "execution_count": null,
   "id": "KlnojW2w2tY1",
   "metadata": {
    "colab": {
     "base_uri": "https://localhost:8080/",
     "height": 74
    },
    "id": "KlnojW2w2tY1",
    "outputId": "b1b03e71-e8aa-49db-b0c3-c4499b7bd5b8"
   },
   "outputs": [],
   "source": [
    "clf = svm.SVC(class_weight = cw)\n",
    "clf.fit(vec_node2vec[train_mask], y[train_mask])"
   ]
  },
  {
   "cell_type": "code",
   "execution_count": null,
   "id": "aropM2m02tY2",
   "metadata": {
    "colab": {
     "base_uri": "https://localhost:8080/"
    },
    "id": "aropM2m02tY2",
    "outputId": "94118a8f-96d6-4329-9ca0-fa9c37f70917"
   },
   "outputs": [],
   "source": [
    "node2vec_res = clf.predict(vec_node2vec[test_mask])\n",
    "svc_res.append(f1_score(y[test_mask], node2vec_res, average = 'macro'))\n",
    "print(classification_report(node2vec_res, y[test_mask]))"
   ]
  },
  {
   "cell_type": "code",
   "execution_count": null,
   "id": "r_ZqOI-744Qj",
   "metadata": {
    "colab": {
     "base_uri": "https://localhost:8080/",
     "height": 74
    },
    "id": "r_ZqOI-744Qj",
    "outputId": "71d0ceb0-181d-4984-a47b-796980f01d5b"
   },
   "outputs": [],
   "source": [
    "clf = svm.SVC(class_weight = cw)\n",
    "clf.fit(vec_sine[train_mask], y[train_mask])"
   ]
  },
  {
   "cell_type": "code",
   "execution_count": null,
   "id": "NiStgMvF44Q5",
   "metadata": {
    "colab": {
     "base_uri": "https://localhost:8080/"
    },
    "id": "NiStgMvF44Q5",
    "outputId": "00895ce3-b0a4-4cd9-a7a5-09f484964f79"
   },
   "outputs": [],
   "source": [
    "sine_res = clf.predict(vec_sine[test_mask])\n",
    "svc_res.append(f1_score(y[test_mask], sine_res, average = 'macro'))\n",
    "print(classification_report(sine_res, y[test_mask]))"
   ]
  },
  {
   "cell_type": "code",
   "execution_count": null,
   "id": "M7Z-4bU_otHj",
   "metadata": {
    "colab": {
     "base_uri": "https://localhost:8080/",
     "height": 237
    },
    "id": "M7Z-4bU_otHj",
    "outputId": "cc84f250-b9a5-4ea8-aef5-85fdb7983c67"
   },
   "outputs": [],
   "source": [
    "pd.DataFrame(svc_res, columns=['f1_score'], index = ['svd','grarep','hope','deepwalk', 'node2vec', 'sine']).sort_values(by='f1_score', ascending = False)"
   ]
  },
  {
   "cell_type": "markdown",
   "id": "m2ITzILIsKbW",
   "metadata": {
    "id": "m2ITzILIsKbW"
   },
   "source": [
    "Лучший результат по f1-score показал метод SINE, который при обучении векторов использует атрибуты узлов. Атрибуты узлов в свою очередь являются своеобразными характеристика поведения пользователей, поэтому метод может быть очень показателен при наличии таких данных.\n",
    "\n",
    "Второе место у HOPE. Можно предположить, что это происходит из-за того, что HOPE, в отличие от остальных методов, рассматривает связи выше второго порядка, то есть углубляется в сеть и взаимосвязи между пользователями. В рамках взятых данных - социальная сеть с ретвитами - это может означать, что пользователи, разжигающие ненависть, имеют определенные не сразу заметные сходства.\n",
    "\n",
    "На последних местах svd и Node2Vec. Первое не вызывает особых вопросов, в связи с поверхностностью построения векторов. Node2Vec, вероятно, показывает плохой результат из-за неправильно подобрабных параметров при обучении векторов."
   ]
  },
  {
   "cell_type": "markdown",
   "id": "EYgs_z465ceS",
   "metadata": {
    "id": "EYgs_z465ceS"
   },
   "source": [
    "##### *Random Forest*"
   ]
  },
  {
   "cell_type": "markdown",
   "id": "NpKEjp5auNAF",
   "metadata": {
    "id": "NpKEjp5auNAF"
   },
   "source": [
    "Работает путем построения множества деревьев решений и объединения их предсказаний.\n"
   ]
  },
  {
   "cell_type": "code",
   "execution_count": null,
   "id": "_aqMbpPe59w1",
   "metadata": {
    "colab": {
     "base_uri": "https://localhost:8080/",
     "height": 92
    },
    "id": "_aqMbpPe59w1",
    "outputId": "9d162019-2fbb-4700-d354-4de2ad56a179"
   },
   "outputs": [],
   "source": [
    "clf = RandomForestClassifier(class_weight = cw)\n",
    "clf.fit(vec_svd[train_mask], y[train_mask])"
   ]
  },
  {
   "cell_type": "code",
   "execution_count": null,
   "id": "4nlga5AA59xM",
   "metadata": {
    "colab": {
     "base_uri": "https://localhost:8080/"
    },
    "id": "4nlga5AA59xM",
    "outputId": "7e83bc83-e132-4cc9-db85-7813a385ae31"
   },
   "outputs": [],
   "source": [
    "svd_res = clf.predict(vec_svd[test_mask])\n",
    "rf_res = [f1_score(y[test_mask], svd_res, average = 'macro')]\n",
    "print(classification_report(svd_res, y[test_mask]))"
   ]
  },
  {
   "cell_type": "code",
   "execution_count": null,
   "id": "iNhPVNJx59xN",
   "metadata": {
    "colab": {
     "base_uri": "https://localhost:8080/",
     "height": 92
    },
    "id": "iNhPVNJx59xN",
    "outputId": "2a1b71ac-de35-41e8-dfe2-8143f49ea8c9"
   },
   "outputs": [],
   "source": [
    "clf = RandomForestClassifier(class_weight = cw)\n",
    "clf.fit(vec_grarep[train_mask], y[train_mask])"
   ]
  },
  {
   "cell_type": "code",
   "execution_count": null,
   "id": "DnZUOIM-59xN",
   "metadata": {
    "colab": {
     "base_uri": "https://localhost:8080/"
    },
    "id": "DnZUOIM-59xN",
    "outputId": "e9f87344-699c-41e8-d55c-2c677ed060a0"
   },
   "outputs": [],
   "source": [
    "grarep_res = clf.predict(vec_grarep[test_mask])\n",
    "rf_res.append(f1_score(y[test_mask], grarep_res, average = 'macro'))\n",
    "print(classification_report(grarep_res, y[test_mask]))"
   ]
  },
  {
   "cell_type": "code",
   "execution_count": null,
   "id": "wYAqwyXh59xO",
   "metadata": {
    "colab": {
     "base_uri": "https://localhost:8080/",
     "height": 92
    },
    "id": "wYAqwyXh59xO",
    "outputId": "2689619d-97ff-4ee0-ae85-b0bdfcd4da8c"
   },
   "outputs": [],
   "source": [
    "clf = RandomForestClassifier(class_weight = cw)\n",
    "clf.fit(vec_hope[train_mask], y[train_mask])"
   ]
  },
  {
   "cell_type": "code",
   "execution_count": null,
   "id": "GVrP-hE459xO",
   "metadata": {
    "colab": {
     "base_uri": "https://localhost:8080/"
    },
    "id": "GVrP-hE459xO",
    "outputId": "e0dc4f15-47f3-42ee-e681-00a3b6b27903"
   },
   "outputs": [],
   "source": [
    "hope_res = clf.predict(vec_hope[test_mask])\n",
    "rf_res.append(f1_score(y[test_mask], hope_res, average = 'macro'))\n",
    "print(classification_report(hope_res, y[test_mask]))"
   ]
  },
  {
   "cell_type": "code",
   "execution_count": null,
   "id": "DaiKJjgx59xO",
   "metadata": {
    "colab": {
     "base_uri": "https://localhost:8080/",
     "height": 92
    },
    "id": "DaiKJjgx59xO",
    "outputId": "020197e4-ed26-4a4b-a833-32b8f9e03fb4"
   },
   "outputs": [],
   "source": [
    "clf = RandomForestClassifier(class_weight = cw)\n",
    "clf.fit(vec_deepwalk[train_mask], y[train_mask])"
   ]
  },
  {
   "cell_type": "code",
   "execution_count": null,
   "id": "Re4jQPJs59xP",
   "metadata": {
    "colab": {
     "base_uri": "https://localhost:8080/"
    },
    "id": "Re4jQPJs59xP",
    "outputId": "1eff7934-cc24-441b-aadd-14524fd1a02e"
   },
   "outputs": [],
   "source": [
    "deepwalk_res = clf.predict(vec_deepwalk[test_mask])\n",
    "rf_res.append(f1_score(y[test_mask], deepwalk_res, average = 'macro'))\n",
    "print(classification_report(deepwalk_res, y[test_mask]))"
   ]
  },
  {
   "cell_type": "code",
   "execution_count": null,
   "id": "226BI_5I59xP",
   "metadata": {
    "colab": {
     "base_uri": "https://localhost:8080/",
     "height": 92
    },
    "id": "226BI_5I59xP",
    "outputId": "58bffad0-9f04-48d9-e3d3-05365e2d974f"
   },
   "outputs": [],
   "source": [
    "clf = RandomForestClassifier(class_weight = cw)\n",
    "clf.fit(vec_node2vec[train_mask], y[train_mask])"
   ]
  },
  {
   "cell_type": "code",
   "execution_count": null,
   "id": "Z4I2DLNJ59xP",
   "metadata": {
    "colab": {
     "base_uri": "https://localhost:8080/"
    },
    "id": "Z4I2DLNJ59xP",
    "outputId": "3ad81e5e-f169-4fa9-fa50-30f2a2177c5a"
   },
   "outputs": [],
   "source": [
    "node2vec_res = clf.predict(vec_node2vec[test_mask])\n",
    "rf_res.append(f1_score(y[test_mask], node2vec_res, average = 'macro'))\n",
    "print(classification_report(node2vec_res, y[test_mask]))"
   ]
  },
  {
   "cell_type": "code",
   "execution_count": null,
   "id": "5-wQ9GlB59xQ",
   "metadata": {
    "colab": {
     "base_uri": "https://localhost:8080/",
     "height": 92
    },
    "id": "5-wQ9GlB59xQ",
    "outputId": "6e2087f4-5027-483a-ff12-b84e007f10a8"
   },
   "outputs": [],
   "source": [
    "clf = RandomForestClassifier(class_weight = cw)\n",
    "clf.fit(vec_sine[train_mask], y[train_mask])"
   ]
  },
  {
   "cell_type": "code",
   "execution_count": null,
   "id": "n9ikuj7959xQ",
   "metadata": {
    "colab": {
     "base_uri": "https://localhost:8080/"
    },
    "id": "n9ikuj7959xQ",
    "outputId": "b5a156d8-3e85-4e54-e0c3-b8f90698afcc"
   },
   "outputs": [],
   "source": [
    "sine_res = clf.predict(vec_sine[test_mask])\n",
    "rf_res.append(f1_score(y[test_mask], sine_res, average = 'macro'))\n",
    "print(classification_report(sine_res, y[test_mask]))"
   ]
  },
  {
   "cell_type": "code",
   "execution_count": null,
   "id": "JlBxpxrcozbL",
   "metadata": {
    "colab": {
     "base_uri": "https://localhost:8080/",
     "height": 237
    },
    "id": "JlBxpxrcozbL",
    "outputId": "f28e3b59-6db3-416b-c54c-19f51e55733a"
   },
   "outputs": [],
   "source": [
    "pd.DataFrame(rf_res, columns=['f1_score'], index = ['svd','grarep','hope','deepwalk', 'node2vec', 'sine']).sort_values(by='f1_score', ascending = False)"
   ]
  },
  {
   "cell_type": "markdown",
   "id": "LupUkJ5CuFLc",
   "metadata": {
    "id": "LupUkJ5CuFLc"
   },
   "source": [
    "В случае модели Случайного леса лучшим стал снова метод SINE.\n",
    "\n",
    "Можно еще выделить метод GraRep, который занял 2 место по f1-score, несмотря на относительно небольшую вычислительную мощность. Данный метод учитывает первостепенные и второстепенные связи, на основе которых, как показала практика, можно получить хорошие результаты классификации."
   ]
  },
  {
   "cell_type": "code",
   "execution_count": null,
   "id": "lKNW9SaP6nU_",
   "metadata": {
    "colab": {
     "base_uri": "https://localhost:8080/",
     "height": 472
    },
    "id": "lKNW9SaP6nU_",
    "outputId": "ea2be46f-42b3-407d-e788-dc767821b24c"
   },
   "outputs": [],
   "source": [
    "r = np.arange(6)\n",
    "width = 0.25\n",
    "\n",
    "plt.bar(r, svc_res, color = 'b', width = width, edgecolor = 'black', label='SVC')\n",
    "plt.bar(r + width, rf_res, color = 'g', width = width, edgecolor = 'black', label='Random Forest')\n",
    "\n",
    "plt.xlabel(\"Методы\")\n",
    "plt.ylabel(\"f1-score\")\n",
    "plt.title(\"Результаты классификации\")\n",
    "\n",
    "plt.xticks(r + width/2,['svd','grarep','hope','deepwalk', 'node2vec', 'sine'])\n",
    "plt.legend()\n",
    "plt.show()"
   ]
  },
  {
   "cell_type": "markdown",
   "id": "LRtsbNibvvNI",
   "metadata": {
    "id": "LRtsbNibvvNI"
   },
   "source": [
    "Обобщая результаты проведенной классификации двумя алгоритмами машинного обучения, можено сделать вывод, что для социальной сети лучше подходит SVC модель, которая находит оптимальную гиперплоскость для разделения классов. Так как данные имеют векторное представление, такой результат можно назвать закономерным\n",
    "\n",
    "Интересно, что DeepWalk, который использует только случайные блуждания для построения векторных представлений, имеет большое различие между f1-score"
   ]
  },
  {
   "cell_type": "markdown",
   "id": "jjP5jBLkHpFy",
   "metadata": {
    "id": "jjP5jBLkHpFy"
   },
   "source": [
    "#### *2.3.2. Нейронная сеть*"
   ]
  },
  {
   "cell_type": "markdown",
   "id": "yiLIIfFfySQK",
   "metadata": {
    "id": "yiLIIfFfySQK"
   },
   "source": [
    "Далее попробуем классифицировать узлы при помощи графовой сверточной сети.\n",
    "\n",
    "Сначала в качестве признаков узлов будем использовать атрибуты узлов, уменьшенные в размерности с помощью сингулярного разложения, а после - векторные представления узлов, полученные ранее"
   ]
  },
  {
   "cell_type": "code",
   "execution_count": null,
   "id": "XhSl7LL9N3i5",
   "metadata": {
    "id": "XhSl7LL9N3i5"
   },
   "outputs": [],
   "source": [
    "class GCN(nn.Module):\n",
    "    def __init__(self, n_input, n_hidden, n_output):\n",
    "        super().__init__()\n",
    "        self.conv1 = GCNConv(n_input, n_hidden)\n",
    "        self.conv2 = GCNConv(n_hidden, n_output)\n",
    "\n",
    "    def forward(self, data):\n",
    "        x, edge_index = data.x, data.edge_index\n",
    "        x = F.relu(self.conv1(x, edge_index))\n",
    "        x = self.conv2(x, edge_index)\n",
    "        return x"
   ]
  },
  {
   "cell_type": "code",
   "execution_count": null,
   "id": "Wn8n0n6Qy9Hp",
   "metadata": {
    "id": "Wn8n0n6Qy9Hp"
   },
   "outputs": [],
   "source": [
    "n_epochs = 301\n",
    "n_input = 32\n",
    "n_hidden = 128\n",
    "n_out = 2"
   ]
  },
  {
   "cell_type": "code",
   "execution_count": null,
   "id": "GteC4sf4rzuy",
   "metadata": {
    "id": "GteC4sf4rzuy"
   },
   "outputs": [],
   "source": [
    "def visualize():\n",
    "  model.eval()\n",
    "  with torch.no_grad():\n",
    "      predictions = model(data)\n",
    "\n",
    "  for cl in labels.unique():\n",
    "      plt.scatter(predictions[cl == labels, 0], predictions[cl == labels, 1], label=str(cl.item()), linewidths = 5)\n",
    "  plt.legend()\n",
    "  plt.show()"
   ]
  },
  {
   "cell_type": "code",
   "execution_count": null,
   "id": "ZcM_CyKQp8QW",
   "metadata": {
    "colab": {
     "base_uri": "https://localhost:8080/",
     "height": 471
    },
    "id": "ZcM_CyKQp8QW",
    "outputId": "176884ec-39a8-4056-8951-5a4edb7fe1ad"
   },
   "outputs": [],
   "source": [
    "model = GCN(n_input, n_hidden, n_out)\n",
    "\n",
    "svd = TruncatedSVD(n_components=32)\n",
    "features32 = svd.fit_transform(df_features.fillna(df.mean(numeric_only=True)).to_numpy())\n",
    "\n",
    "labels = torch.tensor(y).to(torch.int64)\n",
    "edges = torch.tensor(list(G.edges)).t().contiguous().long()\n",
    "data = Data(x = torch.from_numpy(features32).to(torch.float32), edge_index = edges)\n",
    "\n",
    "plt.title('Предсказания необученной модели')\n",
    "visualize()"
   ]
  },
  {
   "cell_type": "code",
   "execution_count": null,
   "id": "2ax2RdFaPzrc",
   "metadata": {
    "colab": {
     "base_uri": "https://localhost:8080/"
    },
    "id": "2ax2RdFaPzrc",
    "outputId": "99f82370-7d4f-4946-8075-c845a485e023"
   },
   "outputs": [],
   "source": [
    "model = GCN(n_input, n_hidden, n_out)\n",
    "\n",
    "optimizer = optim.Adam(model.parameters(), lr=.01)\n",
    "criterion = nn.CrossEntropyLoss()\n",
    "\n",
    "for epoch in range(n_epochs):\n",
    "    logits = model(data)\n",
    "    loss = criterion(logits[train_mask], labels[train_mask])\n",
    "\n",
    "    loss.backward()\n",
    "    optimizer.step()\n",
    "    optimizer.zero_grad()\n",
    "\n",
    "    with torch.no_grad():\n",
    "        predictions = logits.argmax(dim=1)\n",
    "        train_acc = (predictions[train_mask] == labels[train_mask]).float().mean()\n",
    "        test_acc = (predictions[test_mask] == labels[test_mask]).float().mean()\n",
    "\n",
    "    if not epoch % 20:\n",
    "        print(f'In epoch {epoch}, train acc: {train_acc:.3f}, test acc: {test_acc:.3f}')\n",
    "\n",
    "gcn_res = [f1_score(predictions[test_mask], labels[test_mask], average = 'macro')]"
   ]
  },
  {
   "cell_type": "code",
   "execution_count": null,
   "id": "-RQGTg72sFAp",
   "metadata": {
    "colab": {
     "base_uri": "https://localhost:8080/",
     "height": 486
    },
    "id": "-RQGTg72sFAp",
    "outputId": "d6030f5c-2dd7-4661-eba5-93ec9ec54094"
   },
   "outputs": [],
   "source": [
    "plt.title('Предсказания модели, обученной на атрибутах узлов')\n",
    "visualize()"
   ]
  },
  {
   "cell_type": "code",
   "execution_count": null,
   "id": "Dst5N3hCjKE5",
   "metadata": {
    "colab": {
     "base_uri": "https://localhost:8080/"
    },
    "id": "Dst5N3hCjKE5",
    "outputId": "ae5b3119-7562-449b-b77d-3b26a6af9f61"
   },
   "outputs": [],
   "source": [
    "model = GCN(n_input, n_hidden, n_out)\n",
    "\n",
    "optimizer = optim.Adam(model.parameters(), lr=.01)\n",
    "criterion = nn.CrossEntropyLoss()\n",
    "\n",
    "data = Data(x = torch.from_numpy(vec_svd).to(torch.float32), edge_index = edges)\n",
    "\n",
    "for epoch in range(n_epochs):\n",
    "    logits = model(data)\n",
    "    loss = criterion(logits[train_mask], labels[train_mask])\n",
    "\n",
    "    loss.backward()\n",
    "    optimizer.step()\n",
    "    optimizer.zero_grad()\n",
    "\n",
    "    with torch.no_grad():\n",
    "        predictions = logits.argmax(dim=1)\n",
    "        train_acc = (predictions[train_mask] == labels[train_mask]).float().mean()\n",
    "        test_acc = (predictions[test_mask] == labels[test_mask]).float().mean()\n",
    "\n",
    "    if not epoch % 40:\n",
    "        print(f'In epoch {epoch}, train acc: {train_acc:.3f}, test acc: {test_acc:.3f}')\n",
    "\n",
    "gcn_res.append(f1_score(predictions[test_mask], labels[test_mask], average = 'macro'))"
   ]
  },
  {
   "cell_type": "code",
   "execution_count": null,
   "id": "1GjQy1BZsKs7",
   "metadata": {
    "colab": {
     "base_uri": "https://localhost:8080/",
     "height": 452
    },
    "id": "1GjQy1BZsKs7",
    "outputId": "ca174a17-928c-4c4f-d8dc-dad6adfcf935"
   },
   "outputs": [],
   "source": [
    "plt.title('Предсказания модели, обученной на векторах svd')\n",
    "visualize()"
   ]
  },
  {
   "cell_type": "code",
   "execution_count": null,
   "id": "7ph1CkvHkjU0",
   "metadata": {
    "colab": {
     "base_uri": "https://localhost:8080/"
    },
    "id": "7ph1CkvHkjU0",
    "outputId": "95b5057a-b389-48a8-8a4c-7fe3cc9dbec8"
   },
   "outputs": [],
   "source": [
    "model = GCN(n_input, n_hidden, n_out)\n",
    "\n",
    "optimizer = optim.Adam(model.parameters(), lr=.01)\n",
    "criterion = nn.CrossEntropyLoss()\n",
    "\n",
    "data = Data(x = torch.from_numpy(vec_grarep).to(torch.float32), edge_index = edges)\n",
    "\n",
    "for epoch in range(n_epochs):\n",
    "    logits = model(data)\n",
    "    loss = criterion(logits[train_mask], labels[train_mask])\n",
    "\n",
    "    loss.backward()\n",
    "    optimizer.step()\n",
    "    optimizer.zero_grad()\n",
    "\n",
    "    with torch.no_grad():\n",
    "        predictions = logits.argmax(dim=1)\n",
    "        train_acc = (predictions[train_mask] == labels[train_mask]).float().mean()\n",
    "        test_acc = (predictions[test_mask] == labels[test_mask]).float().mean()\n",
    "\n",
    "    if not epoch % 40:\n",
    "        print(f'In epoch {epoch}, train acc: {train_acc:.3f}, test acc: {test_acc:.3f}')\n",
    "\n",
    "gcn_res.append(f1_score(predictions[test_mask], labels[test_mask], average = 'macro'))"
   ]
  },
  {
   "cell_type": "code",
   "execution_count": null,
   "id": "Zdd6vnwfsMNW",
   "metadata": {
    "colab": {
     "base_uri": "https://localhost:8080/",
     "height": 452
    },
    "id": "Zdd6vnwfsMNW",
    "outputId": "bee26314-2ae9-4d66-dd1a-f8531a7c422c"
   },
   "outputs": [],
   "source": [
    "plt.title('Предсказания модели, обученной на векторах GraRep')\n",
    "visualize()"
   ]
  },
  {
   "cell_type": "code",
   "execution_count": null,
   "id": "6yRfY-dyk4kn",
   "metadata": {
    "colab": {
     "base_uri": "https://localhost:8080/"
    },
    "id": "6yRfY-dyk4kn",
    "outputId": "d5ac5873-eca9-41b7-aaf2-4643964d2f76"
   },
   "outputs": [],
   "source": [
    "model = GCN(n_input, n_hidden, n_out)\n",
    "\n",
    "optimizer = optim.Adam(model.parameters(), lr=.01)\n",
    "criterion = nn.CrossEntropyLoss()\n",
    "\n",
    "data = Data(x = torch.from_numpy(vec_hope).to(torch.float32), edge_index = edges)\n",
    "\n",
    "for epoch in range(n_epochs):\n",
    "    logits = model(data)\n",
    "    loss = criterion(logits[train_mask], labels[train_mask])\n",
    "\n",
    "    loss.backward()\n",
    "    optimizer.step()\n",
    "    optimizer.zero_grad()\n",
    "\n",
    "    with torch.no_grad():\n",
    "        predictions = logits.argmax(dim=1)\n",
    "        train_acc = (predictions[train_mask] == labels[train_mask]).float().mean()\n",
    "        test_acc = (predictions[test_mask] == labels[test_mask]).float().mean()\n",
    "\n",
    "    if not epoch % 40:\n",
    "        print(f'In epoch {epoch}, train acc: {train_acc:.3f}, test acc: {test_acc:.3f}')\n",
    "\n",
    "gcn_res.append(f1_score(predictions[test_mask], labels[test_mask], average = 'macro'))"
   ]
  },
  {
   "cell_type": "code",
   "execution_count": null,
   "id": "RLQg2fiasQbo",
   "metadata": {
    "colab": {
     "base_uri": "https://localhost:8080/",
     "height": 452
    },
    "id": "RLQg2fiasQbo",
    "outputId": "891fc442-8f56-4373-a185-8e34ee86e061"
   },
   "outputs": [],
   "source": [
    "plt.title('Предсказания модели, обученной на векторах HOPE')\n",
    "visualize()"
   ]
  },
  {
   "cell_type": "code",
   "execution_count": null,
   "id": "A3zCWDgWlB08",
   "metadata": {
    "colab": {
     "base_uri": "https://localhost:8080/"
    },
    "id": "A3zCWDgWlB08",
    "outputId": "fccd8aca-3274-4cff-94a7-db01f63d892e"
   },
   "outputs": [],
   "source": [
    "model = GCN(n_input, n_hidden, n_out)\n",
    "\n",
    "optimizer = optim.Adam(model.parameters(), lr=.01)\n",
    "criterion = nn.CrossEntropyLoss()\n",
    "\n",
    "data = Data(x = torch.from_numpy(vec_deepwalk).to(torch.float32), edge_index = edges)\n",
    "\n",
    "for epoch in range(n_epochs):\n",
    "    logits = model(data)\n",
    "    loss = criterion(logits[train_mask], labels[train_mask])\n",
    "\n",
    "    loss.backward()\n",
    "    optimizer.step()\n",
    "    optimizer.zero_grad()\n",
    "\n",
    "    with torch.no_grad():\n",
    "        predictions = logits.argmax(dim=1)\n",
    "        train_acc = (predictions[train_mask] == labels[train_mask]).float().mean()\n",
    "        test_acc = (predictions[test_mask] == labels[test_mask]).float().mean()\n",
    "\n",
    "    if not epoch % 40:\n",
    "        print(f'In epoch {epoch}, train acc: {train_acc:.3f}, test acc: {test_acc:.3f}')\n",
    "\n",
    "gcn_res.append(f1_score(predictions[test_mask], labels[test_mask], average = 'macro'))"
   ]
  },
  {
   "cell_type": "code",
   "execution_count": null,
   "id": "_pyOFVPxsRON",
   "metadata": {
    "colab": {
     "base_uri": "https://localhost:8080/",
     "height": 452
    },
    "id": "_pyOFVPxsRON",
    "outputId": "44373cb5-7928-41de-cd20-50503bf9eb8a"
   },
   "outputs": [],
   "source": [
    "plt.title('Предсказания модели, обученной на векторах DeepWalk')\n",
    "visualize()"
   ]
  },
  {
   "cell_type": "code",
   "execution_count": null,
   "id": "mXnisBnrlSW4",
   "metadata": {
    "colab": {
     "base_uri": "https://localhost:8080/"
    },
    "id": "mXnisBnrlSW4",
    "outputId": "c1c8f009-a264-42ab-a28a-089a701ab929"
   },
   "outputs": [],
   "source": [
    "model = GCN(n_input, n_hidden, n_out)\n",
    "\n",
    "optimizer = optim.Adam(model.parameters(), lr=.01)\n",
    "criterion = nn.CrossEntropyLoss()\n",
    "\n",
    "data = Data(x = torch.from_numpy(vec_node2vec).to(torch.float32), edge_index = edges)\n",
    "\n",
    "for epoch in range(n_epochs):\n",
    "    logits = model(data)\n",
    "    loss = criterion(logits[train_mask], labels[train_mask])\n",
    "\n",
    "    loss.backward()\n",
    "    optimizer.step()\n",
    "    optimizer.zero_grad()\n",
    "\n",
    "    with torch.no_grad():\n",
    "        predictions = logits.argmax(dim=1)\n",
    "        train_acc = (predictions[train_mask] == labels[train_mask]).float().mean()\n",
    "        test_acc = (predictions[test_mask] == labels[test_mask]).float().mean()\n",
    "\n",
    "    if not epoch % 40:\n",
    "        print(f'In epoch {epoch}, train acc: {train_acc:.3f}, test acc: {test_acc:.3f}')\n",
    "\n",
    "gcn_res.append(f1_score(predictions[test_mask], labels[test_mask], average = 'macro'))"
   ]
  },
  {
   "cell_type": "code",
   "execution_count": null,
   "id": "KtXzg8pMsSfX",
   "metadata": {
    "colab": {
     "base_uri": "https://localhost:8080/",
     "height": 452
    },
    "id": "KtXzg8pMsSfX",
    "outputId": "3b7c938b-2c18-4488-ccd7-8f15e39669f2"
   },
   "outputs": [],
   "source": [
    "plt.title('Предсказания модели, обученной на векторах Node2Vec')\n",
    "visualize()"
   ]
  },
  {
   "cell_type": "code",
   "execution_count": null,
   "id": "Fk2AqOTblaC6",
   "metadata": {
    "colab": {
     "base_uri": "https://localhost:8080/"
    },
    "id": "Fk2AqOTblaC6",
    "outputId": "9ab51df4-c907-4342-c89c-74597357045e"
   },
   "outputs": [],
   "source": [
    "model = GCN(n_input, n_hidden, n_out)\n",
    "\n",
    "optimizer = optim.Adam(model.parameters(), lr=.01)\n",
    "criterion = nn.CrossEntropyLoss()\n",
    "\n",
    "data = Data(x = torch.from_numpy(vec_sine).to(torch.float32), edge_index = edges)\n",
    "\n",
    "for epoch in range(n_epochs):\n",
    "    logits = model(data)\n",
    "    loss = criterion(logits[train_mask], labels[train_mask])\n",
    "\n",
    "    loss.backward()\n",
    "    optimizer.step()\n",
    "    optimizer.zero_grad()\n",
    "\n",
    "    with torch.no_grad():\n",
    "        predictions = logits.argmax(dim=1)\n",
    "        train_acc = (predictions[train_mask] == labels[train_mask]).float().mean()\n",
    "        test_acc = (predictions[test_mask] == labels[test_mask]).float().mean()\n",
    "\n",
    "    if not epoch % 40:\n",
    "        print(f'In epoch {epoch}, train acc: {train_acc:.3f}, test acc: {test_acc:.3f}')\n",
    "\n",
    "gcn_res.append(f1_score(predictions[test_mask], labels[test_mask], average = 'macro'))"
   ]
  },
  {
   "cell_type": "code",
   "execution_count": null,
   "id": "FhANcVrTqUor",
   "metadata": {
    "colab": {
     "base_uri": "https://localhost:8080/",
     "height": 452
    },
    "id": "FhANcVrTqUor",
    "outputId": "f1bde7c6-150b-4152-d2c5-a7ed43795465"
   },
   "outputs": [],
   "source": [
    "plt.title('Предсказания модели, обученной на векторах SINE')\n",
    "visualize()"
   ]
  },
  {
   "cell_type": "code",
   "execution_count": null,
   "id": "N9_NZAx6lgxJ",
   "metadata": {
    "colab": {
     "base_uri": "https://localhost:8080/",
     "height": 472
    },
    "id": "N9_NZAx6lgxJ",
    "outputId": "d51ef499-4daf-4340-b6b9-add778aa8f94"
   },
   "outputs": [],
   "source": [
    "r = np.arange(7)\n",
    "\n",
    "plt.bar(r, gcn_res, color = 'b', edgecolor = 'black')\n",
    "\n",
    "plt.xlabel(\"Методы\")\n",
    "plt.ylabel(\"f1-score\")\n",
    "plt.title(\"Результаты классификации с помощью GCN\")\n",
    "\n",
    "plt.xticks(r,['features', 'svd','grarep','hope','deepwalk', 'node2vec', 'sine'])\n",
    "plt.show()"
   ]
  },
  {
   "cell_type": "code",
   "execution_count": null,
   "id": "PcpfAQN-mUUW",
   "metadata": {
    "colab": {
     "base_uri": "https://localhost:8080/",
     "height": 269
    },
    "id": "PcpfAQN-mUUW",
    "outputId": "2a2474b9-4f5a-4ba6-df82-f6e8bed56740"
   },
   "outputs": [],
   "source": [
    "pd.DataFrame(gcn_res, columns=['f1_score'], index = ['features','svd','grarep','hope','deepwalk', 'node2vec', 'sine']).sort_values(by='f1_score', ascending = False)"
   ]
  },
  {
   "cell_type": "markdown",
   "id": "1cB4OjNr_d90",
   "metadata": {
    "id": "1cB4OjNr_d90"
   },
   "source": [
    "При одинаковых параметров обучения, лучше всего себя показали те же методы, что и раньше. При этом обучение только на атрибутах узлов дало довольно плохой результат, в отличие от векторных представлений, полученных в ходе работы."
   ]
  },
  {
   "cell_type": "markdown",
   "id": "JMtBD4mi1heH",
   "metadata": {
    "id": "JMtBD4mi1heH"
   },
   "source": [
    "## **3. Заключение**"
   ]
  },
  {
   "cell_type": "markdown",
   "id": "bBUz4HbK9Y-p",
   "metadata": {
    "id": "bBUz4HbK9Y-p"
   },
   "source": [
    "По итогам работы мы получили результаты классификации узлов сети несколькими способами. Можно сказать, что методы, глубоко рассматривающие взаимосвязи между узлами, лучше справляются с задачей классификации. Конечно, данные выводы распространяются только на выбранный набор данных и, вероятнее всего, могут быть распространены только на данные со схожей структурой.\n",
    "\n",
    "В рамках задачи классификации пользователей, разжигающих ненависть, хорошо себя показал метод SINE, учитывающий и отношения между объектами сети, и атрибуты узлов. А также методы HOPE и GraRep, первый их которых включает в рассмотрение связи выше второго порядка, а второй - первого и второго.\n",
    "\n",
    "Говоря о алгоритмах классификации, поскольку для обучения не подбирались специальные параметры, сложно сделать вывод о том, какой является наилучшим в широком смысле. Однако в ходе проведенного эксперимента при прочих равных условиях наибольшие значения получились при использовании SVC."
   ]
  },
  {
   "cell_type": "markdown",
   "id": "QV0Xigia06ku",
   "metadata": {
    "id": "QV0Xigia06ku"
   },
   "source": [
    "## **Список используемых источников:**\n",
    "\n",
    "1.   Данные - https://www.kaggle.com/datasets/manoelribeiro/hateful-users-on-twitter\n",
    "2.   Karate Club: An API Oriented Open-source Python Framework for Unsupervised Learning on Graphs (CIKM 2020) - https://github.com/benedekrozemberczki/karateclub\n",
    "3.   Под капотом графовых сетей - https://habr.com/ru/articles/794558/\n",
    "4.   Characterizing and Detecting Hateful Users on Twitter - https://www.researchgate.net/publication/365061339_Characterizing_and_Detecting_Hateful_Users_on_Twitter\n",
    "\n"
   ]
  }
 ],
 "metadata": {
  "colab": {
   "collapsed_sections": [
    "XwGVkBzx6k7S"
   ],
   "provenance": [],
   "toc_visible": true
  },
  "kernelspec": {
   "display_name": "Python 3 (ipykernel)",
   "language": "python",
   "name": "python3"
  },
  "language_info": {
   "codemirror_mode": {
    "name": "ipython",
    "version": 3
   },
   "file_extension": ".py",
   "mimetype": "text/x-python",
   "name": "python",
   "nbconvert_exporter": "python",
   "pygments_lexer": "ipython3",
   "version": "3.11.11"
  },
  "widgets": {
   "application/vnd.jupyter.widget-state+json": {
    "1308c88bc5c14717991fcf99047488c7": {
     "model_module": "@jupyter-widgets/controls",
     "model_module_version": "1.5.0",
     "model_name": "DescriptionStyleModel",
     "state": {
      "_model_module": "@jupyter-widgets/controls",
      "_model_module_version": "1.5.0",
      "_model_name": "DescriptionStyleModel",
      "_view_count": null,
      "_view_module": "@jupyter-widgets/base",
      "_view_module_version": "1.2.0",
      "_view_name": "StyleView",
      "description_width": ""
     }
    },
    "2011973368a744708cf34d654478a5e4": {
     "model_module": "@jupyter-widgets/base",
     "model_module_version": "1.2.0",
     "model_name": "LayoutModel",
     "state": {
      "_model_module": "@jupyter-widgets/base",
      "_model_module_version": "1.2.0",
      "_model_name": "LayoutModel",
      "_view_count": null,
      "_view_module": "@jupyter-widgets/base",
      "_view_module_version": "1.2.0",
      "_view_name": "LayoutView",
      "align_content": null,
      "align_items": null,
      "align_self": null,
      "border": null,
      "bottom": null,
      "display": null,
      "flex": null,
      "flex_flow": null,
      "grid_area": null,
      "grid_auto_columns": null,
      "grid_auto_flow": null,
      "grid_auto_rows": null,
      "grid_column": null,
      "grid_gap": null,
      "grid_row": null,
      "grid_template_areas": null,
      "grid_template_columns": null,
      "grid_template_rows": null,
      "height": null,
      "justify_content": null,
      "justify_items": null,
      "left": null,
      "margin": null,
      "max_height": null,
      "max_width": null,
      "min_height": null,
      "min_width": null,
      "object_fit": null,
      "object_position": null,
      "order": null,
      "overflow": null,
      "overflow_x": null,
      "overflow_y": null,
      "padding": null,
      "right": null,
      "top": null,
      "visibility": null,
      "width": null
     }
    },
    "23d029311a0b4dcba1721c5fe24f6496": {
     "model_module": "@jupyter-widgets/controls",
     "model_module_version": "1.5.0",
     "model_name": "HTMLModel",
     "state": {
      "_dom_classes": [],
      "_model_module": "@jupyter-widgets/controls",
      "_model_module_version": "1.5.0",
      "_model_name": "HTMLModel",
      "_view_count": null,
      "_view_module": "@jupyter-widgets/controls",
      "_view_module_version": "1.5.0",
      "_view_name": "HTMLView",
      "description": "",
      "description_tooltip": null,
      "layout": "IPY_MODEL_994d66b4af114157a32e4f26e3e17efb",
      "placeholder": "​",
      "style": "IPY_MODEL_74b0ecbbaae549e98d724457b6838744",
      "value": "Computing transition probabilities: 100%"
     }
    },
    "41e74e098d8b44968aa4142b2a60e3ff": {
     "model_module": "@jupyter-widgets/controls",
     "model_module_version": "1.5.0",
     "model_name": "HBoxModel",
     "state": {
      "_dom_classes": [],
      "_model_module": "@jupyter-widgets/controls",
      "_model_module_version": "1.5.0",
      "_model_name": "HBoxModel",
      "_view_count": null,
      "_view_module": "@jupyter-widgets/controls",
      "_view_module_version": "1.5.0",
      "_view_name": "HBoxView",
      "box_style": "",
      "children": [
       "IPY_MODEL_23d029311a0b4dcba1721c5fe24f6496",
       "IPY_MODEL_ecfca35794d8476d8c23bd307aaf9e08",
       "IPY_MODEL_7b0b1a484a8f4adab03df5065217f055"
      ],
      "layout": "IPY_MODEL_c990cbdd31cc427e9e871043855cf306"
     }
    },
    "74b0ecbbaae549e98d724457b6838744": {
     "model_module": "@jupyter-widgets/controls",
     "model_module_version": "1.5.0",
     "model_name": "DescriptionStyleModel",
     "state": {
      "_model_module": "@jupyter-widgets/controls",
      "_model_module_version": "1.5.0",
      "_model_name": "DescriptionStyleModel",
      "_view_count": null,
      "_view_module": "@jupyter-widgets/base",
      "_view_module_version": "1.2.0",
      "_view_name": "StyleView",
      "description_width": ""
     }
    },
    "7b0b1a484a8f4adab03df5065217f055": {
     "model_module": "@jupyter-widgets/controls",
     "model_module_version": "1.5.0",
     "model_name": "HTMLModel",
     "state": {
      "_dom_classes": [],
      "_model_module": "@jupyter-widgets/controls",
      "_model_module_version": "1.5.0",
      "_model_name": "HTMLModel",
      "_view_count": null,
      "_view_module": "@jupyter-widgets/controls",
      "_view_module_version": "1.5.0",
      "_view_name": "HTMLView",
      "description": "",
      "description_tooltip": null,
      "layout": "IPY_MODEL_2011973368a744708cf34d654478a5e4",
      "placeholder": "​",
      "style": "IPY_MODEL_1308c88bc5c14717991fcf99047488c7",
      "value": " 4971/4971 [00:01&lt;00:00, 5000.47it/s]"
     }
    },
    "994d66b4af114157a32e4f26e3e17efb": {
     "model_module": "@jupyter-widgets/base",
     "model_module_version": "1.2.0",
     "model_name": "LayoutModel",
     "state": {
      "_model_module": "@jupyter-widgets/base",
      "_model_module_version": "1.2.0",
      "_model_name": "LayoutModel",
      "_view_count": null,
      "_view_module": "@jupyter-widgets/base",
      "_view_module_version": "1.2.0",
      "_view_name": "LayoutView",
      "align_content": null,
      "align_items": null,
      "align_self": null,
      "border": null,
      "bottom": null,
      "display": null,
      "flex": null,
      "flex_flow": null,
      "grid_area": null,
      "grid_auto_columns": null,
      "grid_auto_flow": null,
      "grid_auto_rows": null,
      "grid_column": null,
      "grid_gap": null,
      "grid_row": null,
      "grid_template_areas": null,
      "grid_template_columns": null,
      "grid_template_rows": null,
      "height": null,
      "justify_content": null,
      "justify_items": null,
      "left": null,
      "margin": null,
      "max_height": null,
      "max_width": null,
      "min_height": null,
      "min_width": null,
      "object_fit": null,
      "object_position": null,
      "order": null,
      "overflow": null,
      "overflow_x": null,
      "overflow_y": null,
      "padding": null,
      "right": null,
      "top": null,
      "visibility": null,
      "width": null
     }
    },
    "ae91dff297b24429a25e06236c50c0e6": {
     "model_module": "@jupyter-widgets/base",
     "model_module_version": "1.2.0",
     "model_name": "LayoutModel",
     "state": {
      "_model_module": "@jupyter-widgets/base",
      "_model_module_version": "1.2.0",
      "_model_name": "LayoutModel",
      "_view_count": null,
      "_view_module": "@jupyter-widgets/base",
      "_view_module_version": "1.2.0",
      "_view_name": "LayoutView",
      "align_content": null,
      "align_items": null,
      "align_self": null,
      "border": null,
      "bottom": null,
      "display": null,
      "flex": null,
      "flex_flow": null,
      "grid_area": null,
      "grid_auto_columns": null,
      "grid_auto_flow": null,
      "grid_auto_rows": null,
      "grid_column": null,
      "grid_gap": null,
      "grid_row": null,
      "grid_template_areas": null,
      "grid_template_columns": null,
      "grid_template_rows": null,
      "height": null,
      "justify_content": null,
      "justify_items": null,
      "left": null,
      "margin": null,
      "max_height": null,
      "max_width": null,
      "min_height": null,
      "min_width": null,
      "object_fit": null,
      "object_position": null,
      "order": null,
      "overflow": null,
      "overflow_x": null,
      "overflow_y": null,
      "padding": null,
      "right": null,
      "top": null,
      "visibility": null,
      "width": null
     }
    },
    "c990cbdd31cc427e9e871043855cf306": {
     "model_module": "@jupyter-widgets/base",
     "model_module_version": "1.2.0",
     "model_name": "LayoutModel",
     "state": {
      "_model_module": "@jupyter-widgets/base",
      "_model_module_version": "1.2.0",
      "_model_name": "LayoutModel",
      "_view_count": null,
      "_view_module": "@jupyter-widgets/base",
      "_view_module_version": "1.2.0",
      "_view_name": "LayoutView",
      "align_content": null,
      "align_items": null,
      "align_self": null,
      "border": null,
      "bottom": null,
      "display": null,
      "flex": null,
      "flex_flow": null,
      "grid_area": null,
      "grid_auto_columns": null,
      "grid_auto_flow": null,
      "grid_auto_rows": null,
      "grid_column": null,
      "grid_gap": null,
      "grid_row": null,
      "grid_template_areas": null,
      "grid_template_columns": null,
      "grid_template_rows": null,
      "height": null,
      "justify_content": null,
      "justify_items": null,
      "left": null,
      "margin": null,
      "max_height": null,
      "max_width": null,
      "min_height": null,
      "min_width": null,
      "object_fit": null,
      "object_position": null,
      "order": null,
      "overflow": null,
      "overflow_x": null,
      "overflow_y": null,
      "padding": null,
      "right": null,
      "top": null,
      "visibility": null,
      "width": null
     }
    },
    "ecfca35794d8476d8c23bd307aaf9e08": {
     "model_module": "@jupyter-widgets/controls",
     "model_module_version": "1.5.0",
     "model_name": "FloatProgressModel",
     "state": {
      "_dom_classes": [],
      "_model_module": "@jupyter-widgets/controls",
      "_model_module_version": "1.5.0",
      "_model_name": "FloatProgressModel",
      "_view_count": null,
      "_view_module": "@jupyter-widgets/controls",
      "_view_module_version": "1.5.0",
      "_view_name": "ProgressView",
      "bar_style": "success",
      "description": "",
      "description_tooltip": null,
      "layout": "IPY_MODEL_ae91dff297b24429a25e06236c50c0e6",
      "max": 4971,
      "min": 0,
      "orientation": "horizontal",
      "style": "IPY_MODEL_f63ced5b653845f0a6538654e4105c60",
      "value": 4971
     }
    },
    "f63ced5b653845f0a6538654e4105c60": {
     "model_module": "@jupyter-widgets/controls",
     "model_module_version": "1.5.0",
     "model_name": "ProgressStyleModel",
     "state": {
      "_model_module": "@jupyter-widgets/controls",
      "_model_module_version": "1.5.0",
      "_model_name": "ProgressStyleModel",
      "_view_count": null,
      "_view_module": "@jupyter-widgets/base",
      "_view_module_version": "1.2.0",
      "_view_name": "StyleView",
      "bar_color": null,
      "description_width": ""
     }
    }
   }
  }
 },
 "nbformat": 4,
 "nbformat_minor": 5
}
